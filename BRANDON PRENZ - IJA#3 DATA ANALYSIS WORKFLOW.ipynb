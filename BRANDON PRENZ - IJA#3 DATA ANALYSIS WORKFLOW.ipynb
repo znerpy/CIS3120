{
 "cells": [
  {
   "cell_type": "code",
   "execution_count": 11,
   "id": "8254aa0b",
   "metadata": {},
   "outputs": [],
   "source": [
    "import pandas \n",
    "import numpy\n",
    "import matplotlib.pyplot as plt\n",
    "#import seaborn\n",
    "#import statsmodels.api as sm"
   ]
  },
  {
   "cell_type": "code",
   "execution_count": 15,
   "id": "4ca00e97",
   "metadata": {},
   "outputs": [
    {
     "name": "stdout",
     "output_type": "stream",
     "text": [
      "506\n",
      "14\n"
     ]
    }
   ],
   "source": [
    "data=pandas.read_csv(r'boston.csv', low_memory=False)\n",
    "\n",
    "# data is a dataframa from pandas \n",
    "\n",
    "print(len(data))\n",
    "print(len(data.columns))"
   ]
  },
  {
   "cell_type": "code",
   "execution_count": 16,
   "id": "8524ae4e",
   "metadata": {},
   "outputs": [
    {
     "name": "stdout",
     "output_type": "stream",
     "text": [
      "Index(['CRIM', 'ZN', 'INDUS', 'CHAS', 'NOX', 'RM', 'AGE', 'DIS', 'RAD', 'TAX',\n",
      "       'PTRATIO', 'B', 'LSTAT', 'MEDV'],\n",
      "      dtype='object')\n"
     ]
    }
   ],
   "source": [
    "print(data.columns)"
   ]
  },
  {
   "cell_type": "code",
   "execution_count": 17,
   "id": "e734a163",
   "metadata": {},
   "outputs": [
    {
     "data": {
      "text/plain": [
       "pandas.core.frame.DataFrame"
      ]
     },
     "execution_count": 17,
     "metadata": {},
     "output_type": "execute_result"
    }
   ],
   "source": [
    "type(data)"
   ]
  },
  {
   "cell_type": "code",
   "execution_count": 20,
   "id": "0ef76162",
   "metadata": {},
   "outputs": [
    {
     "data": {
      "text/html": [
       "<div>\n",
       "<style scoped>\n",
       "    .dataframe tbody tr th:only-of-type {\n",
       "        vertical-align: middle;\n",
       "    }\n",
       "\n",
       "    .dataframe tbody tr th {\n",
       "        vertical-align: top;\n",
       "    }\n",
       "\n",
       "    .dataframe thead th {\n",
       "        text-align: right;\n",
       "    }\n",
       "</style>\n",
       "<table border=\"1\" class=\"dataframe\">\n",
       "  <thead>\n",
       "    <tr style=\"text-align: right;\">\n",
       "      <th></th>\n",
       "      <th>CRIM</th>\n",
       "      <th>ZN</th>\n",
       "      <th>INDUS</th>\n",
       "      <th>CHAS</th>\n",
       "      <th>NOX</th>\n",
       "      <th>RM</th>\n",
       "      <th>AGE</th>\n",
       "      <th>DIS</th>\n",
       "      <th>RAD</th>\n",
       "      <th>TAX</th>\n",
       "      <th>PTRATIO</th>\n",
       "      <th>B</th>\n",
       "      <th>LSTAT</th>\n",
       "      <th>MEDV</th>\n",
       "    </tr>\n",
       "  </thead>\n",
       "  <tbody>\n",
       "    <tr>\n",
       "      <th>0</th>\n",
       "      <td>0.00632</td>\n",
       "      <td>18.0</td>\n",
       "      <td>2.31</td>\n",
       "      <td>0</td>\n",
       "      <td>0.538</td>\n",
       "      <td>6.575</td>\n",
       "      <td>65.2</td>\n",
       "      <td>4.0900</td>\n",
       "      <td>1</td>\n",
       "      <td>296</td>\n",
       "      <td>15.3</td>\n",
       "      <td>396.90</td>\n",
       "      <td>4.98</td>\n",
       "      <td>24.0</td>\n",
       "    </tr>\n",
       "    <tr>\n",
       "      <th>1</th>\n",
       "      <td>0.02731</td>\n",
       "      <td>0.0</td>\n",
       "      <td>7.07</td>\n",
       "      <td>0</td>\n",
       "      <td>0.469</td>\n",
       "      <td>6.421</td>\n",
       "      <td>78.9</td>\n",
       "      <td>4.9671</td>\n",
       "      <td>2</td>\n",
       "      <td>242</td>\n",
       "      <td>17.8</td>\n",
       "      <td>396.90</td>\n",
       "      <td>9.14</td>\n",
       "      <td>21.6</td>\n",
       "    </tr>\n",
       "    <tr>\n",
       "      <th>2</th>\n",
       "      <td>0.02729</td>\n",
       "      <td>0.0</td>\n",
       "      <td>7.07</td>\n",
       "      <td>0</td>\n",
       "      <td>0.469</td>\n",
       "      <td>7.185</td>\n",
       "      <td>61.1</td>\n",
       "      <td>4.9671</td>\n",
       "      <td>2</td>\n",
       "      <td>242</td>\n",
       "      <td>17.8</td>\n",
       "      <td>392.83</td>\n",
       "      <td>4.03</td>\n",
       "      <td>34.7</td>\n",
       "    </tr>\n",
       "    <tr>\n",
       "      <th>3</th>\n",
       "      <td>0.03237</td>\n",
       "      <td>0.0</td>\n",
       "      <td>2.18</td>\n",
       "      <td>0</td>\n",
       "      <td>0.458</td>\n",
       "      <td>6.998</td>\n",
       "      <td>45.8</td>\n",
       "      <td>6.0622</td>\n",
       "      <td>3</td>\n",
       "      <td>222</td>\n",
       "      <td>18.7</td>\n",
       "      <td>394.63</td>\n",
       "      <td>2.94</td>\n",
       "      <td>33.4</td>\n",
       "    </tr>\n",
       "    <tr>\n",
       "      <th>4</th>\n",
       "      <td>0.06905</td>\n",
       "      <td>0.0</td>\n",
       "      <td>2.18</td>\n",
       "      <td>0</td>\n",
       "      <td>0.458</td>\n",
       "      <td>7.147</td>\n",
       "      <td>54.2</td>\n",
       "      <td>6.0622</td>\n",
       "      <td>3</td>\n",
       "      <td>222</td>\n",
       "      <td>18.7</td>\n",
       "      <td>396.90</td>\n",
       "      <td>5.33</td>\n",
       "      <td>36.2</td>\n",
       "    </tr>\n",
       "  </tbody>\n",
       "</table>\n",
       "</div>"
      ],
      "text/plain": [
       "      CRIM    ZN  INDUS  CHAS    NOX     RM   AGE     DIS  RAD  TAX  PTRATIO  \\\n",
       "0  0.00632  18.0   2.31     0  0.538  6.575  65.2  4.0900    1  296     15.3   \n",
       "1  0.02731   0.0   7.07     0  0.469  6.421  78.9  4.9671    2  242     17.8   \n",
       "2  0.02729   0.0   7.07     0  0.469  7.185  61.1  4.9671    2  242     17.8   \n",
       "3  0.03237   0.0   2.18     0  0.458  6.998  45.8  6.0622    3  222     18.7   \n",
       "4  0.06905   0.0   2.18     0  0.458  7.147  54.2  6.0622    3  222     18.7   \n",
       "\n",
       "        B  LSTAT  MEDV  \n",
       "0  396.90   4.98  24.0  \n",
       "1  396.90   9.14  21.6  \n",
       "2  392.83   4.03  34.7  \n",
       "3  394.63   2.94  33.4  \n",
       "4  396.90   5.33  36.2  "
      ]
     },
     "execution_count": 20,
     "metadata": {},
     "output_type": "execute_result"
    }
   ],
   "source": [
    "data.head()"
   ]
  },
  {
   "cell_type": "code",
   "execution_count": 29,
   "id": "eb63495f",
   "metadata": {},
   "outputs": [],
   "source": [
    "#Select specific columns from the bigger data set \n",
    "dfb=pandas.DataFrame(data, columns=['AGE', 'ZN', 'INDUS', 'CHAS', 'NOX', 'RM', 'CRIM', 'RAD', 'TAX', 'PTRATIO', 'LSTAT', 'MEDV'])"
   ]
  },
  {
   "cell_type": "code",
   "execution_count": 30,
   "id": "0d5b9471",
   "metadata": {},
   "outputs": [
    {
     "data": {
      "text/html": [
       "<div>\n",
       "<style scoped>\n",
       "    .dataframe tbody tr th:only-of-type {\n",
       "        vertical-align: middle;\n",
       "    }\n",
       "\n",
       "    .dataframe tbody tr th {\n",
       "        vertical-align: top;\n",
       "    }\n",
       "\n",
       "    .dataframe thead th {\n",
       "        text-align: right;\n",
       "    }\n",
       "</style>\n",
       "<table border=\"1\" class=\"dataframe\">\n",
       "  <thead>\n",
       "    <tr style=\"text-align: right;\">\n",
       "      <th></th>\n",
       "      <th>AGE</th>\n",
       "      <th>ZN</th>\n",
       "      <th>INDUS</th>\n",
       "      <th>CHAS</th>\n",
       "      <th>NOX</th>\n",
       "      <th>RM</th>\n",
       "      <th>CRIM</th>\n",
       "      <th>RAD</th>\n",
       "      <th>TAX</th>\n",
       "      <th>PTRATIO</th>\n",
       "      <th>LSTAT</th>\n",
       "      <th>MEDV</th>\n",
       "    </tr>\n",
       "  </thead>\n",
       "  <tbody>\n",
       "    <tr>\n",
       "      <th>0</th>\n",
       "      <td>65.2</td>\n",
       "      <td>18.0</td>\n",
       "      <td>2.31</td>\n",
       "      <td>0</td>\n",
       "      <td>0.538</td>\n",
       "      <td>6.575</td>\n",
       "      <td>0.00632</td>\n",
       "      <td>1</td>\n",
       "      <td>296</td>\n",
       "      <td>15.3</td>\n",
       "      <td>4.98</td>\n",
       "      <td>24.0</td>\n",
       "    </tr>\n",
       "    <tr>\n",
       "      <th>1</th>\n",
       "      <td>78.9</td>\n",
       "      <td>0.0</td>\n",
       "      <td>7.07</td>\n",
       "      <td>0</td>\n",
       "      <td>0.469</td>\n",
       "      <td>6.421</td>\n",
       "      <td>0.02731</td>\n",
       "      <td>2</td>\n",
       "      <td>242</td>\n",
       "      <td>17.8</td>\n",
       "      <td>9.14</td>\n",
       "      <td>21.6</td>\n",
       "    </tr>\n",
       "    <tr>\n",
       "      <th>2</th>\n",
       "      <td>61.1</td>\n",
       "      <td>0.0</td>\n",
       "      <td>7.07</td>\n",
       "      <td>0</td>\n",
       "      <td>0.469</td>\n",
       "      <td>7.185</td>\n",
       "      <td>0.02729</td>\n",
       "      <td>2</td>\n",
       "      <td>242</td>\n",
       "      <td>17.8</td>\n",
       "      <td>4.03</td>\n",
       "      <td>34.7</td>\n",
       "    </tr>\n",
       "    <tr>\n",
       "      <th>3</th>\n",
       "      <td>45.8</td>\n",
       "      <td>0.0</td>\n",
       "      <td>2.18</td>\n",
       "      <td>0</td>\n",
       "      <td>0.458</td>\n",
       "      <td>6.998</td>\n",
       "      <td>0.03237</td>\n",
       "      <td>3</td>\n",
       "      <td>222</td>\n",
       "      <td>18.7</td>\n",
       "      <td>2.94</td>\n",
       "      <td>33.4</td>\n",
       "    </tr>\n",
       "    <tr>\n",
       "      <th>4</th>\n",
       "      <td>54.2</td>\n",
       "      <td>0.0</td>\n",
       "      <td>2.18</td>\n",
       "      <td>0</td>\n",
       "      <td>0.458</td>\n",
       "      <td>7.147</td>\n",
       "      <td>0.06905</td>\n",
       "      <td>3</td>\n",
       "      <td>222</td>\n",
       "      <td>18.7</td>\n",
       "      <td>5.33</td>\n",
       "      <td>36.2</td>\n",
       "    </tr>\n",
       "  </tbody>\n",
       "</table>\n",
       "</div>"
      ],
      "text/plain": [
       "    AGE    ZN  INDUS  CHAS    NOX     RM     CRIM  RAD  TAX  PTRATIO  LSTAT  \\\n",
       "0  65.2  18.0   2.31     0  0.538  6.575  0.00632    1  296     15.3   4.98   \n",
       "1  78.9   0.0   7.07     0  0.469  6.421  0.02731    2  242     17.8   9.14   \n",
       "2  61.1   0.0   7.07     0  0.469  7.185  0.02729    2  242     17.8   4.03   \n",
       "3  45.8   0.0   2.18     0  0.458  6.998  0.03237    3  222     18.7   2.94   \n",
       "4  54.2   0.0   2.18     0  0.458  7.147  0.06905    3  222     18.7   5.33   \n",
       "\n",
       "   MEDV  \n",
       "0  24.0  \n",
       "1  21.6  \n",
       "2  34.7  \n",
       "3  33.4  \n",
       "4  36.2  "
      ]
     },
     "execution_count": 30,
     "metadata": {},
     "output_type": "execute_result"
    }
   ],
   "source": [
    "dfb.head() "
   ]
  },
  {
   "cell_type": "code",
   "execution_count": 31,
   "id": "d6add11f",
   "metadata": {},
   "outputs": [
    {
     "name": "stdout",
     "output_type": "stream",
     "text": [
      "24    132\n",
      "5     115\n",
      "4     110\n",
      "3      38\n",
      "6      26\n",
      "2      24\n",
      "8      24\n",
      "1      20\n",
      "7      17\n",
      "Name: RAD, dtype: int64\n"
     ]
    }
   ],
   "source": [
    "#convert string to numeric\n",
    "rad_count = dfb['RAD'].value_counts() #sort=False\n",
    "print(rad_count)"
   ]
  },
  {
   "cell_type": "code",
   "execution_count": 32,
   "id": "ddadd096",
   "metadata": {},
   "outputs": [
    {
     "name": "stdout",
     "output_type": "stream",
     "text": [
      "1      20\n",
      "2      24\n",
      "3      38\n",
      "4     110\n",
      "5     115\n",
      "6      26\n",
      "7      17\n",
      "8      24\n",
      "24    132\n",
      "Name: RAD, dtype: int64\n"
     ]
    }
   ],
   "source": [
    "dfb['RAD'] = pandas.to_numeric(dfb['RAD'])\n",
    "rad_count = dfb['RAD'].value_counts(sort=False)\n",
    "print(rad_count)\n",
    "\n",
    "#if numeric data \n",
    "#first, data['RAD']=pandas.to_numeric(data['RAD'])"
   ]
  },
  {
   "cell_type": "code",
   "execution_count": 33,
   "id": "029a7ae8",
   "metadata": {},
   "outputs": [
    {
     "name": "stdout",
     "output_type": "stream",
     "text": [
      "Frequency Distribution:\n",
      "0    0.93083\n",
      "1    0.06917\n",
      "Name: CHAS, dtype: float64\n"
     ]
    }
   ],
   "source": [
    "#count for CHAS\n",
    "chas_count = dfb['CHAS'].value_counts(sort=False, normalize=True)\n",
    "print('Frequency Distribution:', chas_count, sep='\\n')"
   ]
  },
  {
   "cell_type": "code",
   "execution_count": 36,
   "id": "44194ef6",
   "metadata": {},
   "outputs": [],
   "source": [
    "# Key Error\n",
    "chas_count = dfb['Chas'].value_counts(sort=False)"
   ]
  },
  {
   "cell_type": "code",
   "execution_count": 37,
   "id": "499e77d7",
   "metadata": {},
   "outputs": [
    {
     "name": "stdout",
     "output_type": "stream",
     "text": [
      "CHAS\n",
      "0    471\n",
      "1     35\n",
      "dtype: int64\n"
     ]
    }
   ],
   "source": [
    "# count for CHAS using groupby function\n",
    "x=data.groupby('CHAS').size()\n",
    "# x=data.groupby('CHAS').size()*100/len(data)\n",
    "print(x)"
   ]
  },
  {
   "cell_type": "code",
   "execution_count": 38,
   "id": "be1c7449",
   "metadata": {},
   "outputs": [],
   "source": [
    "import seaborn"
   ]
  },
  {
   "cell_type": "code",
   "execution_count": 40,
   "id": "089871cd",
   "metadata": {},
   "outputs": [
    {
     "data": {
      "text/plain": [
       "Text(0.5, 1.0, 'Number of houses next to Charles River')"
      ]
     },
     "execution_count": 40,
     "metadata": {},
     "output_type": "execute_result"
    },
    {
     "data": {
      "image/png": "[encoded data removed]",
      "text/plain": [
       "<Figure size 432x288 with 1 Axes>"
      ]
     },
     "metadata": {
      "needs_background": "light"
     },
     "output_type": "display_data"
    }
   ],
   "source": [
    "%matplotlib inline\n",
    "seaborn.countplot(x='CHAS', data=dfb)\n",
    "plt.xlabel(\"House next to Charles River\")\n",
    "plt.title(\"Number of houses next to Charles River\")"
   ]
  },
  {
   "cell_type": "code",
   "execution_count": 46,
   "id": "7c5bc8c2",
   "metadata": {},
   "outputs": [
    {
     "data": {
      "text/plain": [
       "Text(0.5, 1.0, 'Distribution Plot for MEDV')"
      ]
     },
     "execution_count": 46,
     "metadata": {},
     "output_type": "execute_result"
    },
    {
     "data": {
      "image/png": "[encoded data removed]",
      "text/plain": [
       "<Figure size 432x288 with 1 Axes>"
      ]
     },
     "metadata": {
      "needs_background": "light"
     },
     "output_type": "display_data"
    }
   ],
   "source": [
    "# seaborn.distplot(dfb['MEDV'])\n",
    "seaborn.distplot(dfb['MEDV'].dropna(), kde=False)\n",
    "plt.xlabel(\"Median Price of Houses\")\n",
    "plt.title(\"Distribution Plot for MEDV\")"
   ]
  },
  {
   "cell_type": "code",
   "execution_count": null,
   "id": "f36da90d",
   "metadata": {},
   "outputs": [],
   "source": [
    "dfb['MEDV'].describe()"
   ]
  },
  {
   "cell_type": "code",
   "execution_count": null,
   "id": "c31340ba",
   "metadata": {},
   "outputs": [],
   "source": [
    "dfb['MEDV'].mean()\n",
    "#other descriptive stats as well"
   ]
  },
  {
   "cell_type": "code",
   "execution_count": 42,
   "id": "9b11c11f",
   "metadata": {},
   "outputs": [
    {
     "data": {
      "text/plain": [
       "count    506.000000\n",
       "mean      22.532806\n",
       "std        9.197104\n",
       "min        5.000000\n",
       "25%       17.025000\n",
       "50%       21.200000\n",
       "75%       25.000000\n",
       "max       50.000000\n",
       "Name: MEDV, dtype: float64"
      ]
     },
     "execution_count": 42,
     "metadata": {},
     "output_type": "execute_result"
    }
   ],
   "source": [
    "dfb['MEDV'].describe()"
   ]
  },
  {
   "cell_type": "code",
   "execution_count": 47,
   "id": "0e18a900",
   "metadata": {},
   "outputs": [
    {
     "data": {
      "text/plain": [
       "count    506.000000\n",
       "mean       0.069170\n",
       "std        0.253994\n",
       "min        0.000000\n",
       "25%        0.000000\n",
       "50%        0.000000\n",
       "75%        0.000000\n",
       "max        1.000000\n",
       "Name: CHAS, dtype: float64"
      ]
     },
     "execution_count": 47,
     "metadata": {},
     "output_type": "execute_result"
    }
   ],
   "source": [
    "dfb['CHAS'].describe()"
   ]
  },
  {
   "cell_type": "code",
   "execution_count": 48,
   "id": "1df4de8e",
   "metadata": {},
   "outputs": [
    {
     "data": {
      "text/plain": [
       "Text(0.5, 1.0, 'Number of houses next to Charles River')"
      ]
     },
     "execution_count": 48,
     "metadata": {},
     "output_type": "execute_result"
    },
    {
     "data": {
      "image/png": "[encoded data removed]",
      "text/plain": [
       "<Figure size 432x288 with 1 Axes>"
      ]
     },
     "metadata": {
      "needs_background": "light"
     },
     "output_type": "display_data"
    }
   ],
   "source": [
    "# Is there a problem in the descriptive stats above?\n",
    "# knowledge of basic stats is essential in figuring out appropriate desc. measures\n",
    "\n",
    "%matplotlib inline\n",
    "seaborn.countplot(x='CHAS', data=dfb)\n",
    "plt.xlabel(\"House next to Charles River\")\n",
    "plt.title(\"Number of houses next to Charles River\")"
   ]
  },
  {
   "cell_type": "code",
   "execution_count": 50,
   "id": "78120160",
   "metadata": {},
   "outputs": [
    {
     "data": {
      "text/plain": [
       "count       506\n",
       "unique        2\n",
       "top       Close\n",
       "freq        471\n",
       "Name: CHAS, dtype: object"
      ]
     },
     "execution_count": 50,
     "metadata": {},
     "output_type": "execute_result"
    }
   ],
   "source": [
    "dfb['CHAS'].describe()"
   ]
  },
  {
   "cell_type": "code",
   "execution_count": null,
   "id": "e9b7133f",
   "metadata": {},
   "outputs": [],
   "source": [
    "# plot for two variables - one on X and the other on Y\n",
    "\n",
    "seaborn.factorplot(x='CHAS', y='MEDV', data=dfb, kind='bar', ci=None) # ci refers to error\n",
    "plt.xlabel(\"Proximity of Charles River\")\n",
    "plt.ylabel(\"Median House Value\")"
   ]
  },
  {
   "cell_type": "code",
   "execution_count": 49,
   "id": "0acd75c7",
   "metadata": {},
   "outputs": [],
   "source": [
    "dfb['CHAS']=dfb['CHAS'].astype('category')\n",
    "dfb['CHAS']=dfb['CHAS'].cat.rename_categories([\"Close\", \"Far\"])"
   ]
  },
  {
   "cell_type": "code",
   "execution_count": null,
   "id": "4309871a",
   "metadata": {},
   "outputs": [],
   "source": [
    "# General Workflow\n",
    "# Get the data (from csv, web etc)\n",
    "# Get a sense of the data by\n",
    "    # examine few rows (df.head(), for example)\n",
    "    # data cleaning/manipulation (missing data, data from multiple sources)\n",
    "    # figure out the level of the variable (categorical or numeric)\n",
    "    # Sometimes you may need to assign some variables to be explicitly numeric\n",
    "        # ... while others as categorical (for example, CHAS above)\n",
    "    # get them done in the beginning before starting data analysis\n",
    "        # we did  not do this here for pedagogical reasons\n",
    "    # pandas is very good for the steps above; panda, scipy and viz. packages for steps below\n",
    "    # What is/ are your target variable? What are your predictors?\n",
    "    # Understand descriptive stats, distributions etc (somrtimes using visualizations)\n",
    "    # choose a stats model; run the model; evaluate the model (use scipy package; or even R after)"
   ]
  },
  {
   "cell_type": "code",
   "execution_count": 51,
   "id": "301436fb",
   "metadata": {},
   "outputs": [
    {
     "data": {
      "text/plain": [
       "Text(0.5, 1.0, 'Scatterplot to show the relationship between Pollution and House Price')"
      ]
     },
     "execution_count": 51,
     "metadata": {},
     "output_type": "execute_result"
    },
    {
     "data": {
      "image/png": "[encoded data removed]",
      "text/plain": [
       "<Figure size 432x288 with 1 Axes>"
      ]
     },
     "metadata": {
      "needs_background": "light"
     },
     "output_type": "display_data"
    }
   ],
   "source": [
    "# regplot (2 variables)\n",
    "\n",
    "seaborn.regplot(x='NOX', y='MEDV', data=dfb, fit_reg=True) #ci refers to error bars\n",
    "plt.xlabel(\"Pollution\")\n",
    "plt.ylabel('Median House Value')\n",
    "plt.title(\"Scatterplot to show the relationship between Pollution and House Price\")"
   ]
  },
  {
   "cell_type": "code",
   "execution_count": null,
   "id": "29d294c7",
   "metadata": {},
   "outputs": [],
   "source": [
    "# stats knowledge - look at the value around y=50; implication?"
   ]
  },
  {
   "cell_type": "code",
   "execution_count": 52,
   "id": "ac5757d3",
   "metadata": {},
   "outputs": [
    {
     "data": {
      "text/html": [
       "<div>\n",
       "<style scoped>\n",
       "    .dataframe tbody tr th:only-of-type {\n",
       "        vertical-align: middle;\n",
       "    }\n",
       "\n",
       "    .dataframe tbody tr th {\n",
       "        vertical-align: top;\n",
       "    }\n",
       "\n",
       "    .dataframe thead th {\n",
       "        text-align: right;\n",
       "    }\n",
       "</style>\n",
       "<table border=\"1\" class=\"dataframe\">\n",
       "  <thead>\n",
       "    <tr style=\"text-align: right;\">\n",
       "      <th></th>\n",
       "      <th>AGE</th>\n",
       "      <th>ZN</th>\n",
       "      <th>INDUS</th>\n",
       "      <th>NOX</th>\n",
       "      <th>RM</th>\n",
       "      <th>CRIM</th>\n",
       "      <th>RAD</th>\n",
       "      <th>TAX</th>\n",
       "      <th>PTRATIO</th>\n",
       "      <th>LSTAT</th>\n",
       "      <th>MEDV</th>\n",
       "    </tr>\n",
       "  </thead>\n",
       "  <tbody>\n",
       "    <tr>\n",
       "      <th>AGE</th>\n",
       "      <td>1.000000</td>\n",
       "      <td>-0.569537</td>\n",
       "      <td>0.644779</td>\n",
       "      <td>0.731470</td>\n",
       "      <td>-0.240265</td>\n",
       "      <td>0.352734</td>\n",
       "      <td>0.456022</td>\n",
       "      <td>0.506456</td>\n",
       "      <td>0.261515</td>\n",
       "      <td>0.602339</td>\n",
       "      <td>-0.376955</td>\n",
       "    </tr>\n",
       "    <tr>\n",
       "      <th>ZN</th>\n",
       "      <td>-0.569537</td>\n",
       "      <td>1.000000</td>\n",
       "      <td>-0.533828</td>\n",
       "      <td>-0.516604</td>\n",
       "      <td>0.311991</td>\n",
       "      <td>-0.200469</td>\n",
       "      <td>-0.311948</td>\n",
       "      <td>-0.314563</td>\n",
       "      <td>-0.391679</td>\n",
       "      <td>-0.412995</td>\n",
       "      <td>0.360445</td>\n",
       "    </tr>\n",
       "    <tr>\n",
       "      <th>INDUS</th>\n",
       "      <td>0.644779</td>\n",
       "      <td>-0.533828</td>\n",
       "      <td>1.000000</td>\n",
       "      <td>0.763651</td>\n",
       "      <td>-0.391676</td>\n",
       "      <td>0.406583</td>\n",
       "      <td>0.595129</td>\n",
       "      <td>0.720760</td>\n",
       "      <td>0.383248</td>\n",
       "      <td>0.603800</td>\n",
       "      <td>-0.483725</td>\n",
       "    </tr>\n",
       "    <tr>\n",
       "      <th>NOX</th>\n",
       "      <td>0.731470</td>\n",
       "      <td>-0.516604</td>\n",
       "      <td>0.763651</td>\n",
       "      <td>1.000000</td>\n",
       "      <td>-0.302188</td>\n",
       "      <td>0.420972</td>\n",
       "      <td>0.611441</td>\n",
       "      <td>0.668023</td>\n",
       "      <td>0.188933</td>\n",
       "      <td>0.590879</td>\n",
       "      <td>-0.427321</td>\n",
       "    </tr>\n",
       "    <tr>\n",
       "      <th>RM</th>\n",
       "      <td>-0.240265</td>\n",
       "      <td>0.311991</td>\n",
       "      <td>-0.391676</td>\n",
       "      <td>-0.302188</td>\n",
       "      <td>1.000000</td>\n",
       "      <td>-0.219247</td>\n",
       "      <td>-0.209847</td>\n",
       "      <td>-0.292048</td>\n",
       "      <td>-0.355501</td>\n",
       "      <td>-0.613808</td>\n",
       "      <td>0.695360</td>\n",
       "    </tr>\n",
       "    <tr>\n",
       "      <th>CRIM</th>\n",
       "      <td>0.352734</td>\n",
       "      <td>-0.200469</td>\n",
       "      <td>0.406583</td>\n",
       "      <td>0.420972</td>\n",
       "      <td>-0.219247</td>\n",
       "      <td>1.000000</td>\n",
       "      <td>0.625505</td>\n",
       "      <td>0.582764</td>\n",
       "      <td>0.289946</td>\n",
       "      <td>0.455621</td>\n",
       "      <td>-0.388305</td>\n",
       "    </tr>\n",
       "    <tr>\n",
       "      <th>RAD</th>\n",
       "      <td>0.456022</td>\n",
       "      <td>-0.311948</td>\n",
       "      <td>0.595129</td>\n",
       "      <td>0.611441</td>\n",
       "      <td>-0.209847</td>\n",
       "      <td>0.625505</td>\n",
       "      <td>1.000000</td>\n",
       "      <td>0.910228</td>\n",
       "      <td>0.464741</td>\n",
       "      <td>0.488676</td>\n",
       "      <td>-0.381626</td>\n",
       "    </tr>\n",
       "    <tr>\n",
       "      <th>TAX</th>\n",
       "      <td>0.506456</td>\n",
       "      <td>-0.314563</td>\n",
       "      <td>0.720760</td>\n",
       "      <td>0.668023</td>\n",
       "      <td>-0.292048</td>\n",
       "      <td>0.582764</td>\n",
       "      <td>0.910228</td>\n",
       "      <td>1.000000</td>\n",
       "      <td>0.460853</td>\n",
       "      <td>0.543993</td>\n",
       "      <td>-0.468536</td>\n",
       "    </tr>\n",
       "    <tr>\n",
       "      <th>PTRATIO</th>\n",
       "      <td>0.261515</td>\n",
       "      <td>-0.391679</td>\n",
       "      <td>0.383248</td>\n",
       "      <td>0.188933</td>\n",
       "      <td>-0.355501</td>\n",
       "      <td>0.289946</td>\n",
       "      <td>0.464741</td>\n",
       "      <td>0.460853</td>\n",
       "      <td>1.000000</td>\n",
       "      <td>0.374044</td>\n",
       "      <td>-0.507787</td>\n",
       "    </tr>\n",
       "    <tr>\n",
       "      <th>LSTAT</th>\n",
       "      <td>0.602339</td>\n",
       "      <td>-0.412995</td>\n",
       "      <td>0.603800</td>\n",
       "      <td>0.590879</td>\n",
       "      <td>-0.613808</td>\n",
       "      <td>0.455621</td>\n",
       "      <td>0.488676</td>\n",
       "      <td>0.543993</td>\n",
       "      <td>0.374044</td>\n",
       "      <td>1.000000</td>\n",
       "      <td>-0.737663</td>\n",
       "    </tr>\n",
       "    <tr>\n",
       "      <th>MEDV</th>\n",
       "      <td>-0.376955</td>\n",
       "      <td>0.360445</td>\n",
       "      <td>-0.483725</td>\n",
       "      <td>-0.427321</td>\n",
       "      <td>0.695360</td>\n",
       "      <td>-0.388305</td>\n",
       "      <td>-0.381626</td>\n",
       "      <td>-0.468536</td>\n",
       "      <td>-0.507787</td>\n",
       "      <td>-0.737663</td>\n",
       "      <td>1.000000</td>\n",
       "    </tr>\n",
       "  </tbody>\n",
       "</table>\n",
       "</div>"
      ],
      "text/plain": [
       "              AGE        ZN     INDUS       NOX        RM      CRIM       RAD  \\\n",
       "AGE      1.000000 -0.569537  0.644779  0.731470 -0.240265  0.352734  0.456022   \n",
       "ZN      -0.569537  1.000000 -0.533828 -0.516604  0.311991 -0.200469 -0.311948   \n",
       "INDUS    0.644779 -0.533828  1.000000  0.763651 -0.391676  0.406583  0.595129   \n",
       "NOX      0.731470 -0.516604  0.763651  1.000000 -0.302188  0.420972  0.611441   \n",
       "RM      -0.240265  0.311991 -0.391676 -0.302188  1.000000 -0.219247 -0.209847   \n",
       "CRIM     0.352734 -0.200469  0.406583  0.420972 -0.219247  1.000000  0.625505   \n",
       "RAD      0.456022 -0.311948  0.595129  0.611441 -0.209847  0.625505  1.000000   \n",
       "TAX      0.506456 -0.314563  0.720760  0.668023 -0.292048  0.582764  0.910228   \n",
       "PTRATIO  0.261515 -0.391679  0.383248  0.188933 -0.355501  0.289946  0.464741   \n",
       "LSTAT    0.602339 -0.412995  0.603800  0.590879 -0.613808  0.455621  0.488676   \n",
       "MEDV    -0.376955  0.360445 -0.483725 -0.427321  0.695360 -0.388305 -0.381626   \n",
       "\n",
       "              TAX   PTRATIO     LSTAT      MEDV  \n",
       "AGE      0.506456  0.261515  0.602339 -0.376955  \n",
       "ZN      -0.314563 -0.391679 -0.412995  0.360445  \n",
       "INDUS    0.720760  0.383248  0.603800 -0.483725  \n",
       "NOX      0.668023  0.188933  0.590879 -0.427321  \n",
       "RM      -0.292048 -0.355501 -0.613808  0.695360  \n",
       "CRIM     0.582764  0.289946  0.455621 -0.388305  \n",
       "RAD      0.910228  0.464741  0.488676 -0.381626  \n",
       "TAX      1.000000  0.460853  0.543993 -0.468536  \n",
       "PTRATIO  0.460853  1.000000  0.374044 -0.507787  \n",
       "LSTAT    0.543993  0.374044  1.000000 -0.737663  \n",
       "MEDV    -0.468536 -0.507787 -0.737663  1.000000  "
      ]
     },
     "execution_count": 52,
     "metadata": {},
     "output_type": "execute_result"
    }
   ],
   "source": [
    "dfb.corr()"
   ]
  },
  {
   "cell_type": "code",
   "execution_count": 54,
   "id": "872d4b6f",
   "metadata": {},
   "outputs": [],
   "source": [
    "# stats component from scipy is now a separate package\n",
    "# scipy is a broader package for doing a range of computations\n",
    "# people typically use python for data manipulation\n",
    "# use R/stats packages for data analysis; however, python for programming chops\n",
    "\n",
    "import statsmodels.api as sm"
   ]
  },
  {
   "cell_type": "code",
   "execution_count": 55,
   "id": "d014cd4e",
   "metadata": {},
   "outputs": [
    {
     "data": {
      "text/html": [
       "<table class=\"simpletable\">\n",
       "<caption>OLS Regression Results</caption>\n",
       "<tr>\n",
       "  <th>Dep. Variable:</th>          <td>MEDV</td>       <th>  R-squared (uncentered):</th>      <td>   0.901</td> \n",
       "</tr>\n",
       "<tr>\n",
       "  <th>Model:</th>                   <td>OLS</td>       <th>  Adj. R-squared (uncentered):</th> <td>   0.901</td> \n",
       "</tr>\n",
       "<tr>\n",
       "  <th>Method:</th>             <td>Least Squares</td>  <th>  F-statistic:       </th>          <td>   4615.</td> \n",
       "</tr>\n",
       "<tr>\n",
       "  <th>Date:</th>             <td>Fri, 06 May 2022</td> <th>  Prob (F-statistic):</th>          <td>3.74e-256</td>\n",
       "</tr>\n",
       "<tr>\n",
       "  <th>Time:</th>                 <td>17:46:28</td>     <th>  Log-Likelihood:    </th>          <td> -1747.1</td> \n",
       "</tr>\n",
       "<tr>\n",
       "  <th>No. Observations:</th>      <td>   506</td>      <th>  AIC:               </th>          <td>   3496.</td> \n",
       "</tr>\n",
       "<tr>\n",
       "  <th>Df Residuals:</th>          <td>   505</td>      <th>  BIC:               </th>          <td>   3500.</td> \n",
       "</tr>\n",
       "<tr>\n",
       "  <th>Df Model:</th>              <td>     1</td>      <th>                     </th>              <td> </td>    \n",
       "</tr>\n",
       "<tr>\n",
       "  <th>Covariance Type:</th>      <td>nonrobust</td>    <th>                     </th>              <td> </td>    \n",
       "</tr>\n",
       "</table>\n",
       "<table class=\"simpletable\">\n",
       "<tr>\n",
       "   <td></td>     <th>coef</th>     <th>std err</th>      <th>t</th>      <th>P>|t|</th>  <th>[0.025</th>    <th>0.975]</th>  \n",
       "</tr>\n",
       "<tr>\n",
       "  <th>RM</th> <td>    3.6534</td> <td>    0.054</td> <td>   67.930</td> <td> 0.000</td> <td>    3.548</td> <td>    3.759</td>\n",
       "</tr>\n",
       "</table>\n",
       "<table class=\"simpletable\">\n",
       "<tr>\n",
       "  <th>Omnibus:</th>       <td>83.295</td> <th>  Durbin-Watson:     </th> <td>   0.493</td>\n",
       "</tr>\n",
       "<tr>\n",
       "  <th>Prob(Omnibus):</th> <td> 0.000</td> <th>  Jarque-Bera (JB):  </th> <td> 152.507</td>\n",
       "</tr>\n",
       "<tr>\n",
       "  <th>Skew:</th>          <td> 0.955</td> <th>  Prob(JB):          </th> <td>7.65e-34</td>\n",
       "</tr>\n",
       "<tr>\n",
       "  <th>Kurtosis:</th>      <td> 4.894</td> <th>  Cond. No.          </th> <td>    1.00</td>\n",
       "</tr>\n",
       "</table><br/><br/>Notes:<br/>[1] R² is computed without centering (uncentered) since the model does not contain a constant.<br/>[2] Standard Errors assume that the covariance matrix of the errors is correctly specified."
      ],
      "text/plain": [
       "<class 'statsmodels.iolib.summary.Summary'>\n",
       "\"\"\"\n",
       "                                 OLS Regression Results                                \n",
       "=======================================================================================\n",
       "Dep. Variable:                   MEDV   R-squared (uncentered):                   0.901\n",
       "Model:                            OLS   Adj. R-squared (uncentered):              0.901\n",
       "Method:                 Least Squares   F-statistic:                              4615.\n",
       "Date:                Fri, 06 May 2022   Prob (F-statistic):                   3.74e-256\n",
       "Time:                        17:46:28   Log-Likelihood:                         -1747.1\n",
       "No. Observations:                 506   AIC:                                      3496.\n",
       "Df Residuals:                     505   BIC:                                      3500.\n",
       "Df Model:                           1                                                  \n",
       "Covariance Type:            nonrobust                                                  \n",
       "==============================================================================\n",
       "                 coef    std err          t      P>|t|      [0.025      0.975]\n",
       "------------------------------------------------------------------------------\n",
       "RM             3.6534      0.054     67.930      0.000       3.548       3.759\n",
       "==============================================================================\n",
       "Omnibus:                       83.295   Durbin-Watson:                   0.493\n",
       "Prob(Omnibus):                  0.000   Jarque-Bera (JB):              152.507\n",
       "Skew:                           0.955   Prob(JB):                     7.65e-34\n",
       "Kurtosis:                       4.894   Cond. No.                         1.00\n",
       "==============================================================================\n",
       "\n",
       "Notes:\n",
       "[1] R² is computed without centering (uncentered) since the model does not contain a constant.\n",
       "[2] Standard Errors assume that the covariance matrix of the errors is correctly specified.\n",
       "\"\"\""
      ]
     },
     "execution_count": 55,
     "metadata": {},
     "output_type": "execute_result"
    }
   ],
   "source": [
    "result=sm.OLS(dfb['MEDV'], dfb['RM']).fit()\n",
    "result.summary()"
   ]
  },
  {
   "cell_type": "code",
   "execution_count": null,
   "id": "f7d042f4",
   "metadata": {},
   "outputs": [],
   "source": [
    "# other datasets\n",
    "# https://vincentarelbundock.github.io/Rdatasets/datasets.html\n",
    "# http://statweb.stanfor.edu/-sabatti/data.html"
   ]
  },
  {
   "cell_type": "markdown",
   "id": "bdf2873d",
   "metadata": {},
   "source": [
    "From this data analysis workflow individual assignment I learned a ton of things, \n",
    "\n",
    "1) I learned how to select specific columns from a larger dataset, this is really useful as I will perform this maneuver alot.\n",
    "\n",
    "2) I learned how to convert a string to a number in order to make analysis easier. Sometimes data will not be in the best format to work with and so this skill is essential.\n",
    "\n",
    "3) Using GroupBy I can count for a specific variable.\n",
    "\n",
    "4) I learned how to plot for two variables using matplotlib, and famialiarized myself further with the seaborn library.\n",
    "\n",
    "5) I learned scipy is a broader package for doing a range of computations,people typically use python for data manipulation\n",
    "\n",
    "Overall, I feel a lot more confident with analyzing data as a result of this assignment and can see myself talking about this assignment at an interview or at the workplace with a colleague. Although I was following a youtube video at times I still found it difficult to follow along due to the complexity of the concepts being demonstrated. I will certainly be reviewing this code in the future."
   ]
  }
 ],
 "metadata": {
  "kernelspec": {
   "display_name": "Python 3",
   "language": "python",
   "name": "python3"
  },
  "language_info": {
   "codemirror_mode": {
    "name": "ipython",
    "version": 3
   },
   "file_extension": ".py",
   "mimetype": "text/x-python",
   "name": "python",
   "nbconvert_exporter": "python",
   "pygments_lexer": "ipython3",
   "version": "3.8.8"
  }
 },
 "nbformat": 4,
 "nbformat_minor": 5
}
