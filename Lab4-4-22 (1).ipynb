{
 "cells": [
  {
   "cell_type": "markdown",
   "metadata": {},
   "source": [
    "# Lab 4-4-22_Start"
   ]
  },
  {
   "cell_type": "markdown",
   "metadata": {},
   "source": [
    "## Hacker News Example: Comparison of Web Scraping with API "
   ]
  },
  {
   "cell_type": "code",
   "execution_count": 1,
   "metadata": {},
   "outputs": [],
   "source": [
    "#Ex.1\n",
    "#Review of Web Scraping: Hacker News\n",
    "#Source: Adapted from Broucke & Baessen (Chp. B9)\n",
    "import requests\n",
    "from bs4 import BeautifulSoup\n",
    "\n",
    "#Articles is an list that will hold info about each article\n",
    "articles = []\n",
    "\n",
    "url = 'https://news.ycombinator.com/news'\n",
    "r = requests.get(url)\n",
    "html_soup = BeautifulSoup(r.text, 'html.parser')\n",
    "\n",
    "for item in html_soup.find_all('tr', class_='athing'):\n",
    "    item_a = item.find('a', class_='titlelink')\n",
    "    item_link = item_a.get('href') if item_a else None\n",
    "    item_text = item_a.get_text(strip=True) if item_a else None\n",
    "    next_row = item.find_next_sibling('tr')\n",
    "    item_score = next_row.find('span', class_='score')\n",
    "    item_score = item_score.get_text(strip=True) if item_score else '0 points'\n",
    "#Append the article information as a dictionary to the list\n",
    "    articles.append({\n",
    "        'link' : item_link,\n",
    "        'title' : item_text,\n",
    "        'score' : item_score})\n"
   ]
  },
  {
   "cell_type": "code",
   "execution_count": 2,
   "metadata": {},
   "outputs": [
    {
     "name": "stdout",
     "output_type": "stream",
     "text": [
      "{'link': 'https://aeon.co/ideas/what-i-learned-as-a-hired-consultant-for-autodidact-physicists', 'title': 'What I learned as a hired consultant to autodidact physicists (2016)', 'score': '181 points'}\n",
      "{'link': 'https://jacobian.org/2022/apr/4/exit-interviews-are-a-trap/', 'title': 'Exit Interviews Are a Trap', 'score': '106 points'}\n",
      "{'link': 'https://grumpygamer.com/return_to_monkey_island', 'title': 'Return to Monkey Island', 'score': '92 points'}\n",
      "{'link': 'https://haleynahman.substack.com/p/95-are-you-baby-a-litmus-test', 'title': 'Are you a baby? A litmus test', 'score': '219 points'}\n",
      "{'link': 'https://code.jsoftware.com/wiki/Jd/Overview', 'title': 'Jd', 'score': '866 points'}\n",
      "{'link': 'https://spectrum.ieee.org/single-chip-processors-have-reached-their-limits', 'title': 'Single-Chip Processors Have Reached Their Limits', 'score': '43 points'}\n",
      "{'link': 'https://v1launchweek.redwoodjs.com/', 'title': 'RedwoodJS 1.0', 'score': '121 points'}\n",
      "{'link': 'https://ayazhafiz.com/articles/22/why-dont-more-languages-offer-flow-typing', 'title': \"Why don't more languages offer flow typing?\", 'score': '100 points'}\n",
      "{'link': 'https://jobs.lever.co/jitxinc/6241d90f-03a1-40d0-8703-63c92fac5846', 'title': 'Jitx (YC S18) is hiring senior developers to automate circuit board design', 'score': '0 points'}\n",
      "{'link': 'https://ai.googleblog.com/2022/04/pathways-language-model-palm-scaling-to.html', 'title': 'Pathways Language Model (Palm): 540B Parameters for Breakthrough Perf', 'score': '35 points'}\n",
      "{'link': 'https://majenko.co.uk/blog/our-blog-1/usb-3-0-blues-56', 'title': 'A blue connector does not USB 3.0 make', 'score': '132 points'}\n",
      "{'link': 'https://eigen.tuxfamily.org/index.php?title=Main_Page', 'title': 'Eigen: A C++ template library for linear algebra', 'score': '104 points'}\n",
      "{'link': 'https://www.howtogeek.com/794165/video-games-turn-60-how-spacewar-launched-a-revolution/', 'title': 'Video Games Turn 60: How Spacewar Launched a Revolution', 'score': '35 points'}\n",
      "{'link': 'https://github.com/geohot/tinygrad', 'title': 'Tinygrad', 'score': '15 points'}\n",
      "{'link': 'https://shkspr.mobi/blog/2022/04/theres-no-way-to-report-spam-on-google-drive/', 'title': \"There's no way to report spam on Google Drive\", 'score': '137 points'}\n",
      "{'link': 'https://www.smashingmagazine.com/2022/03/html-attributes-you-never-use/', 'title': 'Those HTML attributes you never use', 'score': '357 points'}\n",
      "{'link': 'https://chrisseaton.com/army/', 'title': \"Why I'm in the Army Reserve – an explainer for my friends in tech\", 'score': '219 points'}\n",
      "{'link': 'https://www.capturingreality.com/introducing-realityscan', 'title': 'RealityScan Beta: Mobile Photogrammetry', 'score': '43 points'}\n",
      "{'link': 'https://nullprogram.com/blog/2018/05/27/', 'title': 'When FFI Function Calls Beat Native C', 'score': '51 points'}\n",
      "{'link': 'https://kottke.org/22/04/the-highest-resolution-photo-of-the-sun-ever-taken', 'title': 'The Highest Resolution Photo of the Sun Ever Taken', 'score': '9 points'}\n",
      "{'link': 'https://www.historytoday.com/archive/head-head/how-did-victorians-become-reference-point-joyless-prudery', 'title': 'How Did the Victorians Become a Reference Point for Joyless Prudery?', 'score': '7 points'}\n",
      "{'link': 'https://arstechnica.com/gaming/2022/04/a-fresh-take-on-why-octavian-won-the-war-against-antony-and-cleopatra/', 'title': 'A fresh take on why Octavian won the war against Antony and Cleopatra', 'score': '15 points'}\n",
      "{'link': 'https://engineering.fb.com/2022/03/17/production-engineering/silent-errors/', 'title': 'Meta quickly detects silent data corruptions at scale', 'score': '95 points'}\n",
      "{'link': 'http://misc-stuff.terraaeon.com/articles/locked-down-computers.html', 'title': 'I Am Seriously Considering Going Back to Desktop Computers (2020)', 'score': '103 points'}\n",
      "{'link': 'http://blog.behnel.de/posts/cython-is-20/', 'title': 'Cython is 20', 'score': '175 points'}\n",
      "{'link': 'https://rickmanelius.com/article/assume-positive-intent', 'title': 'Assume Positive Intent (2017)', 'score': '29 points'}\n",
      "{'link': 'https://cdn.smoot.apple.com/static/autofill_tld_whitelist_url', 'title': \"Apple's whitelist of the 250k auto-completable domains in iOS\", 'score': '335 points'}\n",
      "{'link': 'https://betterexplained.com/articles/math-cartoonist/', 'title': 'Learning math? Think like a cartoonist', 'score': '130 points'}\n",
      "{'link': 'https://devonzuegel.com/post/what-are-startup-cities-for', 'title': 'What are startup cities for? (2021)', 'score': '17 points'}\n",
      "{'link': 'https://www.http-feeds.org/', 'title': 'HTTP Feeds', 'score': '186 points'}\n"
     ]
    }
   ],
   "source": [
    "#print each article\n",
    "for article in articles:\n",
    "    print(article)"
   ]
  },
  {
   "cell_type": "code",
   "execution_count": 4,
   "metadata": {},
   "outputs": [
    {
     "name": "stdout",
     "output_type": "stream",
     "text": [
      "500\n"
     ]
    }
   ],
   "source": [
    "#Ex. 2\n",
    "#Using the Hacker News API\n",
    "#Source: Broucke & Baessen (Chp. B9)\n",
    "\n",
    "import requests\n",
    "\n",
    "url = 'https://hacker-news.firebaseio.com/v0'\n",
    "top_stories = requests.get(url + '/topstories.json?orderBy=\"$key\"').json()\n",
    "\n",
    "#print(top_stories)\n",
    "#How many stories are retrieved?\n",
    "print(len(top_stories))"
   ]
  },
  {
   "cell_type": "code",
   "execution_count": 5,
   "metadata": {},
   "outputs": [
    {
     "name": "stdout",
     "output_type": "stream",
     "text": [
      "[30908084, 30908551, 30908395, 30906621, 30905662, 30908908, 30909719, 30907178, 30906127, 30909029]\n"
     ]
    }
   ],
   "source": [
    "#Ex2-a: Customize the request to retrieve only 10 stories\n",
    "#Method 1: Extending the url to embed a query (see slides)\n",
    "#Method 2: Using a dictionary to pass the parameter \"limitToFirst\"\n",
    "\n",
    "base_url= 'https://hacker-news.firebaseio.com/v0/topstories.json?orderBy=\"$key\"'\n",
    "tenstories = {'limitToFirst':10}\n",
    "response= requests.get(base_url, params=tenstories)\n",
    "top_stories_10=response.json()\n",
    "print(top_stories_10)"
   ]
  },
  {
   "cell_type": "code",
   "execution_count": 12,
   "metadata": {},
   "outputs": [
    {
     "name": "stdout",
     "output_type": "stream",
     "text": [
      "What I learned as a hired consultant to autodidact physicists (2016) , 214\n",
      "Exit Interviews Are a Trap , 148\n",
      "Return to Monkey Island , 128\n",
      "Are you a baby? A litmus test , 236\n",
      "Jd , 882\n",
      "Single-Chip Processors Have Reached Their Limits , 55\n",
      "Tinygrad , 33\n",
      "Why don't more languages offer flow typing? , 107\n",
      "A blue connector does not USB 3.0 make , 137\n",
      "Jitx (YC S18) is hiring senior developers to automate circuit board design , 1\n"
     ]
    }
   ],
   "source": [
    "#Ex2-b: Retrieve the URL of each story (needs another requests)\n",
    "aarticles=[]\n",
    "for story_id in top_stories_10:\n",
    "    story_url = url + '/item/{}.json'.format(story_id)\n",
    "    #print('Fetching:', story_url)\n",
    "    r = requests.get(story_url)\n",
    "    story_dict = r.json()\n",
    "    aarticles.append(story_dict)\n",
    "\n",
    "#print the title of each article\n",
    "for aarticle in aarticles:\n",
    "    print(aarticle['title'], ',' , aarticle['score'])\n",
    "    #print(aarticle)"
   ]
  },
  {
   "cell_type": "code",
   "execution_count": 14,
   "metadata": {},
   "outputs": [
    {
     "name": "stdout",
     "output_type": "stream",
     "text": [
      "1 -> What I learned as a hired consultant to autodidact physicists (2016) , 214\n",
      "2 -> Exit Interviews Are a Trap , 148\n",
      "3 -> Return to Monkey Island , 128\n",
      "4 -> Are you a baby? A litmus test , 236\n",
      "5 -> Jd , 882\n",
      "6 -> Single-Chip Processors Have Reached Their Limits , 55\n",
      "7 -> Tinygrad , 33\n",
      "8 -> Why don't more languages offer flow typing? , 107\n",
      "9 -> A blue connector does not USB 3.0 make , 137\n",
      "10 -> Jitx (YC S18) is hiring senior developers to automate circuit board design , 1\n"
     ]
    }
   ],
   "source": [
    "for i, aarticle in enumerate(aarticles):\n",
    "    print(i+1, '->', aarticle['title'], ',' , aarticle['score'])\n"
   ]
  },
  {
   "cell_type": "code",
   "execution_count": 23,
   "metadata": {},
   "outputs": [
    {
     "name": "stdout",
     "output_type": "stream",
     "text": [
      "<class 'list'>\n",
      "Joe Biden elected president of the United States\n",
      "Chauvin found guilty of murder, manslaughter in George Floyd's death\n",
      "President Donald Trump says he has tested positive for coronavirus\n",
      "Blizzard Employees Staged a Walkout After the Company Banned a Gamer for Pro-Hong Kong Views\n",
      "Trump has left the White House for the last time as President\n",
      "Kobe Bryant killed in helicopter crash in California\n",
      "'Jeopardy' host Alex Trebek dies at 80 due to pancreatic cancer\n",
      "Scientist Stephen Hawking has died aged 76\n",
      "Jeffrey Epstein's autopsy more consistent with homicidal strangulation than suicide, Dr. Michael Baden reveals\n",
      "F.C.C. Announces Plan to Repeal Net Neutrality\n",
      "Joe Biden officially sworn in as the 46th President of the United States, Kamala Harris as the 49th Vice-President\n",
      "Donald Trump impeached for ‘inciting’ US Capitol riot\n"
     ]
    }
   ],
   "source": [
    "#Ex. 3\n",
    "#Code below has been modified from the original provided at the following website:\n",
    "#https://towardsdatascience.com/a-beginners-guide-to-accessing-data-with-web-apis-using-python-23d262181467\n",
    "import requests, json\n",
    "payload = {\n",
    "    'limit': 12,\n",
    "    't' : 'all'\n",
    "}\n",
    "headers = {\n",
    "    'User-agent': 'Reddit bot 1.0'\n",
    "}\n",
    "#The original example uses the /r/funny subreddit as endpoint\n",
    "#endpoint = 'https://www.reddit.com/r/funny/top.json'\n",
    "\n",
    "endpoint = 'https://www.reddit.com/r/news/top.json'\n",
    "r = requests.get(endpoint, headers = headers, params = payload)\n",
    "rj = json.loads(r.content)\n",
    "\n",
    "#import pprint\n",
    "#pprint.pprint(r)\n",
    "\n",
    "print(type(rj['data']['children']))\n",
    "\n",
    "ls_data_children = rj['data']['children']\n",
    "\n",
    "#for sub in (r['data']['children']):\n",
    "for sub in (ls_data_children):\n",
    "    title = sub['data']['title']\n",
    "    print(title)\n"
   ]
  },
  {
   "cell_type": "code",
   "execution_count": null,
   "metadata": {},
   "outputs": [],
   "source": [
    "#Ex. 4 - TRY THIS WITH YOUR API KEY\n",
    "# Source: https://www.geeksforgeeks.org/fetching-top-news-using-news-api/\n",
    "# BBC news api with authorization header and parameters\n",
    "\n",
    "import requests \n",
    "headers = {'Authorization': '********'}\n",
    "query_params = {\n",
    "      \"source\": \"bbc-news\",\n",
    "      \"sortBy\": \"top\"\n",
    "}\n",
    "main_url = \" https://newsapi.org/v1/articles\"\n",
    " \n",
    "# fetching data in json format\n",
    "res = requests.get(main_url, headers=headers, params=query_params)\n",
    "open_bbc_page = res.json()\n",
    " \n",
    "# getting all articles in a string article\n",
    "article = open_bbc_page[\"articles\"]\n",
    " \n",
    "# empty list to hold all trending news\n",
    "results = []\n",
    "     \n",
    "for ar in article:\n",
    "    results.append(ar[\"title\"])\n",
    "\n",
    "# printing all trending news       \n",
    "for i in range(len(results)):            \n",
    "    print(i + 1, results[i])"
   ]
  }
 ],
 "metadata": {
  "kernelspec": {
   "display_name": "Python 3",
   "language": "python",
   "name": "python3"
  },
  "language_info": {
   "codemirror_mode": {
    "name": "ipython",
    "version": 3
   },
   "file_extension": ".py",
   "mimetype": "text/x-python",
   "name": "python",
   "nbconvert_exporter": "python",
   "pygments_lexer": "ipython3",
   "version": "3.7.3"
  }
 },
 "nbformat": 4,
 "nbformat_minor": 5
}
