{
 "cells": [
  {
   "cell_type": "markdown",
   "id": "ff134b80",
   "metadata": {},
   "source": [
    "CIS 3120 : MIDTERM QUESTIONS & ANSWERS"
   ]
  },
  {
   "cell_type": "markdown",
   "id": "3fe57def",
   "metadata": {},
   "source": [
    "    Given this dictionary, how would you add a new key-value pair with gender information for each friend?"
   ]
  },
  {
   "cell_type": "code",
   "execution_count": 14,
   "id": "8b61d3ce",
   "metadata": {},
   "outputs": [
    {
     "name": "stdout",
     "output_type": "stream",
     "text": [
      "{'firstname': ['Rachel', 'Monica', 'Joey', 'Ross', 'Chandler', 'Phoebe'], 'lastname': ['Green', 'Geller', 'Tribbiani', 'Geller', 'Bing', 'Buffay'], 'age': [24, 24, 25, 26, 26, 26], 'gender': {'F', 'M'}}\n"
     ]
    }
   ],
   "source": [
    "friends = {'firstname' : ['Rachel', 'Monica', 'Joey', 'Ross', 'Chandler', 'Phoebe'],\n",
    "           'lastname' : ['Green', 'Geller', 'Tribbiani', 'Geller', 'Bing', 'Buffay'],\n",
    "           'age' : [24,24,25,26,26,26]} \n",
    "friends['gender'] = {'F', 'F', 'M', 'M', 'M', 'F'}\n",
    "print(friends)"
   ]
  },
  {
   "cell_type": "markdown",
   "id": "56d9b697",
   "metadata": {},
   "source": [
    "    In this data structure, how would you print Joey's information? "
   ]
  },
  {
   "cell_type": "code",
   "execution_count": 15,
   "id": "d60b1ffe",
   "metadata": {},
   "outputs": [
    {
     "name": "stdout",
     "output_type": "stream",
     "text": [
      "Joey Tribbiani 25\n"
     ]
    }
   ],
   "source": [
    "print(friends['firstname'][2], friends['lastname'][2], friends['age'][2])"
   ]
  },
  {
   "cell_type": "markdown",
   "id": "11578103",
   "metadata": {},
   "source": [
    "    To create a function in Python, which of the following is the correct way?"
   ]
  },
  {
   "cell_type": "code",
   "execution_count": null,
   "id": "3179b5d8",
   "metadata": {},
   "outputs": [],
   "source": [
    "def myFunction()"
   ]
  },
  {
   "cell_type": "code",
   "execution_count": 21,
   "id": "dcebd786",
   "metadata": {},
   "outputs": [
    {
     "name": "stdout",
     "output_type": "stream",
     "text": [
      "{'name': {'first': 'Tom', 'last': 'Cruise'}, 'address': {'city': 'Beverly Hills', 'zipcode': '90210', 'country': 'USA'}, 'age': 57}\n"
     ]
    },
    {
     "data": {
      "text/plain": [
       "'90210'"
      ]
     },
     "execution_count": 21,
     "metadata": {},
     "output_type": "execute_result"
    }
   ],
   "source": [
    "#Given this data structure,\n",
    "#Nested Dictionary\n",
    "employee = {'name':{'first':'Tom','last': 'Cruise'},\n",
    "           'address':{'city': 'Beverly Hills', 'zipcode':'90210'},\n",
    "        'age':57}\n",
    " \n",
    "employee['address']['country']='USA'\n",
    "print(employee)\n",
    "\n",
    "#In this nested dictionary, how would you access the zipcode of the employee?\n",
    "employee['address']['zipcode']"
   ]
  },
  {
   "cell_type": "markdown",
   "id": "ccd3c8ce",
   "metadata": {},
   "source": [
    "    What will be the output of the following python code ?"
   ]
  },
  {
   "cell_type": "code",
   "execution_count": 20,
   "id": "1cc71528",
   "metadata": {},
   "outputs": [
    {
     "name": "stdout",
     "output_type": "stream",
     "text": [
      "1\n",
      "2\n"
     ]
    }
   ],
   "source": [
    "for i in range(1,3):\n",
    "    print(i)"
   ]
  },
  {
   "cell_type": "markdown",
   "id": "cc12a3e2",
   "metadata": {},
   "source": [
    "\tTo output the type of a variable or object called x in Python, which of these would you use?"
   ]
  },
  {
   "cell_type": "code",
   "execution_count": 22,
   "id": "74a2b4fc",
   "metadata": {},
   "outputs": [
    {
     "name": "stdout",
     "output_type": "stream",
     "text": [
      "<class 'float'>\n"
     ]
    }
   ],
   "source": [
    "x = 65.444\n",
    "print(type(x))"
   ]
  },
  {
   "cell_type": "markdown",
   "id": "9622f96f",
   "metadata": {},
   "source": [
    "How would you access the value for key \"Price\" in the following Python dictionary ?"
   ]
  },
  {
   "cell_type": "code",
   "execution_count": 23,
   "id": "c9c1f5dd",
   "metadata": {},
   "outputs": [
    {
     "data": {
      "text/plain": [
       "800"
      ]
     },
     "execution_count": 23,
     "metadata": {},
     "output_type": "execute_result"
    }
   ],
   "source": [
    "mystock = {\"Product\": \"Earphone\", \"Price\": 800, \"Quantity\": 50, \"InStock\": \"Yes\"}\n",
    "mystock[\"Price\"]"
   ]
  },
  {
   "cell_type": "code",
   "execution_count": null,
   "id": "ac6c56b5",
   "metadata": {},
   "outputs": [],
   "source": [
    "#What is the purpose of this line of code: \n",
    "table_row=table.find_all(name='tr') \n",
    "#used in web scraping?\n",
    "\n",
    "#It will find all of the data within the table marked with a tag \"tr\""
   ]
  },
  {
   "cell_type": "code",
   "execution_count": 29,
   "id": "95c98654",
   "metadata": {},
   "outputs": [
    {
     "name": "stdout",
     "output_type": "stream",
     "text": [
      "[<a class=\"gb1\" href=\"http://www.google.com/imghp?hl=en&amp;tab=wi\">Images</a>, <a class=\"gb1\" href=\"http://maps.google.com/maps?hl=en&amp;tab=wl\">Maps</a>, <a class=\"gb1\" href=\"https://play.google.com/?hl=en&amp;tab=w8\">Play</a>, <a class=\"gb1\" href=\"http://www.youtube.com/?gl=US&amp;tab=w1\">YouTube</a>, <a class=\"gb1\" href=\"https://news.google.com/?tab=wn\">News</a>, <a class=\"gb1\" href=\"https://mail.google.com/mail/?tab=wm\">Gmail</a>, <a class=\"gb1\" href=\"https://drive.google.com/?tab=wo\">Drive</a>, <a class=\"gb1\" href=\"https://www.google.com/intl/en/about/products?tab=wh\" style=\"text-decoration:none\"><u>More</u> »</a>, <a class=\"gb4\" href=\"http://www.google.com/history/optout?hl=en\">Web History</a>, <a class=\"gb4\" href=\"/preferences?hl=en\">Settings</a>, <a class=\"gb4\" href=\"https://accounts.google.com/ServiceLogin?hl=en&amp;passive=true&amp;continue=http://www.google.com/&amp;ec=GAZAAQ\" id=\"gb_70\" target=\"_top\">Sign in</a>, <a href=\"/advanced_search?hl=en&amp;authuser=0\">Advanced search</a>, <a href=\"/intl/en/ads/\">Advertising Programs</a>, <a href=\"/services/\">Business Solutions</a>, <a href=\"/intl/en/about.html\">About Google</a>, <a href=\"/intl/en/policies/privacy/\">Privacy</a>, <a href=\"/intl/en/policies/terms/\">Terms</a>]\n"
     ]
    },
    {
     "data": {
      "text/plain": [
       "'Google'"
      ]
     },
     "execution_count": 29,
     "metadata": {},
     "output_type": "execute_result"
    }
   ],
   "source": [
    "# Given this code, how would you calculate the number of links on the page?\n",
    "import requests \n",
    "from bs4 import BeautifulSoup\n",
    "\n",
    "r=requests.get(\"http://google.com\")\n",
    "src=r.content\n",
    "soup=BeautifulSoup(src, 'html.parser')\n",
    "links=soup.find_all(\"a\")\n",
    "print(links)\n",
    "\n",
    "#in order to calculate # of links\n",
    "len(links)\n",
    "\n",
    "#Which of the following finds all tags that contain hyperlinks?\n",
    "all_links = soup.find_all('a')\n",
    "\n",
    "#You are scraping a web page that BeautifulSoup placed in 'soup', and want to print the title of the page without the tags, which of the following will you use?\n",
    "soup.title.string"
   ]
  },
  {
   "cell_type": "markdown",
   "id": "0e3cb0af",
   "metadata": {},
   "source": [
    "\tIn HTML, one of the following groups of elements are all table elements: table, tr, and td"
   ]
  },
  {
   "cell_type": "markdown",
   "id": "8c3902d1",
   "metadata": {},
   "source": [
    "    Given a response object, how does one parse the HTML into a BeautifulSoup object?"
   ]
  },
  {
   "cell_type": "code",
   "execution_count": null,
   "id": "617d28b4",
   "metadata": {},
   "outputs": [],
   "source": [
    "soup = BeautifulSoup(response.content, 'html.parser')"
   ]
  },
  {
   "cell_type": "markdown",
   "id": "89311bf7",
   "metadata": {},
   "source": [
    "Which of the following gets the first link tag and returns a dictionary of all attributes and values for that link tag?"
   ]
  },
  {
   "cell_type": "code",
   "execution_count": null,
   "id": "2b1d776c",
   "metadata": {},
   "outputs": [],
   "source": [
    "soup.a.attrs"
   ]
  },
  {
   "cell_type": "markdown",
   "id": "4e0042de",
   "metadata": {},
   "source": [
    "To print a soup object in a formatted or indented fashion, which of the following would you use?"
   ]
  },
  {
   "cell_type": "code",
   "execution_count": null,
   "id": "1f1bb276",
   "metadata": {},
   "outputs": [],
   "source": [
    "print(soup.prettify())"
   ]
  },
  {
   "cell_type": "markdown",
   "id": "26a0400e",
   "metadata": {},
   "source": [
    "After placing all a tags in a variable called links and using a for loop to navigate through the list (for link in links), what does print(link.string) do?\n",
    "\n",
    "prints the text inside the tag markers"
   ]
  },
  {
   "cell_type": "code",
   "execution_count": null,
   "id": "99c940f9",
   "metadata": {},
   "outputs": [],
   "source": [
    "#In this code excerpt, which type of object is links?\n",
    "\n",
    "import requests \n",
    "from bs4 import BeautifulSoup\n",
    "\n",
    "r=requests.get(\"http://google.com\")\n",
    "src=r.content\n",
    "soup=BeautifulSoup(src, 'html.parser')\n",
    "links=soup.find_all(\"a\")\n",
    "print(links)\n",
    "\n",
    "#a bs4 element"
   ]
  },
  {
   "cell_type": "markdown",
   "id": "09023ba1",
   "metadata": {},
   "source": [
    "You have a Web page with several tables and scrape all of them in alltables as follows: alltables=soup.find_all('table'), but you are only interested in the second table. How would you extract only this second table in a variable called 'mytable'? "
   ]
  },
  {
   "cell_type": "code",
   "execution_count": null,
   "id": "42c7f559",
   "metadata": {},
   "outputs": [],
   "source": [
    "mytable = alltables[1]"
   ]
  },
  {
   "cell_type": "code",
   "execution_count": null,
   "id": "603eec93",
   "metadata": {},
   "outputs": [],
   "source": [
    "#In an HTTP request, which of the following messages (reason) corresponds to a status_code of 200?\n",
    "OK\n",
    "\n",
    "#If r = request.get(\"https://www.whitehouse.gov//briefing.room/\"), which of the following is in bytes?\n",
    "r.content\n",
    "\n",
    "#In a Numpy array of 100 consecutive elements generated with ary=np.arange(100), which of the following returns this sub-array slice [48, 49, 50, 51, 52] ?\n",
    "print(ary[48:53])\n",
    "\n",
    "#If you use the full() function in a Numpy array, which is the minimum number of arguments you need to pass to this function?\n",
    "2"
   ]
  },
  {
   "cell_type": "code",
   "execution_count": 33,
   "id": "3c54c899",
   "metadata": {},
   "outputs": [
    {
     "ename": "TypeError",
     "evalue": "Field elements must be 2- or 3-tuples, got '2'",
     "output_type": "error",
     "traceback": [
      "\u001b[0;31m---------------------------------------------------------------------------\u001b[0m",
      "\u001b[0;31mTypeError\u001b[0m                                 Traceback (most recent call last)",
      "\u001b[0;32m<ipython-input-33-797576243a45>\u001b[0m in \u001b[0;36m<module>\u001b[0;34m\u001b[0m\n\u001b[1;32m      2\u001b[0m \u001b[0;32mimport\u001b[0m \u001b[0mnumpy\u001b[0m \u001b[0;32mas\u001b[0m \u001b[0mnp\u001b[0m\u001b[0;34m\u001b[0m\u001b[0;34m\u001b[0m\u001b[0m\n\u001b[1;32m      3\u001b[0m \u001b[0;34m\u001b[0m\u001b[0m\n\u001b[0;32m----> 4\u001b[0;31m \u001b[0mA\u001b[0m \u001b[0;34m=\u001b[0m \u001b[0mnp\u001b[0m\u001b[0;34m.\u001b[0m\u001b[0marray\u001b[0m\u001b[0;34m(\u001b[0m\u001b[0;34m[\u001b[0m\u001b[0;36m1\u001b[0m\u001b[0;34m,\u001b[0m\u001b[0;36m2\u001b[0m\u001b[0;34m,\u001b[0m\u001b[0;36m3\u001b[0m\u001b[0;34m]\u001b[0m\u001b[0;34m,\u001b[0m \u001b[0;34m[\u001b[0m\u001b[0;36m2\u001b[0m\u001b[0;34m,\u001b[0m\u001b[0;36m4\u001b[0m\u001b[0;34m,\u001b[0m\u001b[0;36m6\u001b[0m\u001b[0;34m]\u001b[0m\u001b[0;34m)\u001b[0m\u001b[0;34m\u001b[0m\u001b[0;34m\u001b[0m\u001b[0m\n\u001b[0m\u001b[1;32m      5\u001b[0m \u001b[0mB\u001b[0m \u001b[0;34m=\u001b[0m \u001b[0mnp\u001b[0m\u001b[0;34m.\u001b[0m\u001b[0marray\u001b[0m\u001b[0;34m(\u001b[0m\u001b[0;34m[\u001b[0m\u001b[0;36m5\u001b[0m\u001b[0;34m,\u001b[0m\u001b[0;36m6\u001b[0m\u001b[0;34m,\u001b[0m\u001b[0;36m7\u001b[0m\u001b[0;34m]\u001b[0m\u001b[0;34m,\u001b[0m \u001b[0;34m[\u001b[0m\u001b[0;36m1\u001b[0m\u001b[0;34m,\u001b[0m\u001b[0;36m3\u001b[0m\u001b[0;34m,\u001b[0m\u001b[0;36m5\u001b[0m\u001b[0;34m]\u001b[0m\u001b[0;34m)\u001b[0m\u001b[0;34m\u001b[0m\u001b[0;34m\u001b[0m\u001b[0m\n\u001b[1;32m      6\u001b[0m \u001b[0;34m\u001b[0m\u001b[0m\n",
      "\u001b[0;31mTypeError\u001b[0m: Field elements must be 2- or 3-tuples, got '2'"
     ]
    }
   ],
   "source": [
    "#In Numpy, given the arrays A and B (shown below), which function would you use to produce the target result indicated?\n",
    "import numpy as np\n",
    "\n",
    "A = np.array([1,2,3], [2,4,6])\n",
    "B = np.array([5,6,7], [1,3,5])\n",
    "\n",
    "#Target Result: \n",
    "#[[5 12 21]\n",
    "# [2 12 30]]\n",
    "\n",
    "np.multiply(A,B)\n",
    "\n",
    "#In Numpy, what is the best way to generate a 1D array of 50 consecutive numbers?\n",
    "ary=np.arange(50)"
   ]
  },
  {
   "cell_type": "code",
   "execution_count": 36,
   "id": "a8c58b83",
   "metadata": {},
   "outputs": [
    {
     "ename": "NameError",
     "evalue": "name 'arr' is not defined",
     "output_type": "error",
     "traceback": [
      "\u001b[0;31m---------------------------------------------------------------------------\u001b[0m",
      "\u001b[0;31mNameError\u001b[0m                                 Traceback (most recent call last)",
      "\u001b[0;32m<ipython-input-36-7445fb807f06>\u001b[0m in \u001b[0;36m<module>\u001b[0;34m\u001b[0m\n\u001b[1;32m      1\u001b[0m \u001b[0;31m#How would you slice the NumPy array arr=[1,2,3,4,5,6,7] and print [3,4,5] only?\u001b[0m\u001b[0;34m\u001b[0m\u001b[0;34m\u001b[0m\u001b[0;34m\u001b[0m\u001b[0m\n\u001b[0;32m----> 2\u001b[0;31m \u001b[0mprint\u001b[0m\u001b[0;34m(\u001b[0m\u001b[0marr\u001b[0m\u001b[0;34m[\u001b[0m\u001b[0;36m2\u001b[0m\u001b[0;34m:\u001b[0m\u001b[0;36m5\u001b[0m\u001b[0;34m]\u001b[0m\u001b[0;34m)\u001b[0m\u001b[0;34m\u001b[0m\u001b[0;34m\u001b[0m\u001b[0m\n\u001b[0m\u001b[1;32m      3\u001b[0m \u001b[0;34m\u001b[0m\u001b[0m\n\u001b[1;32m      4\u001b[0m \u001b[0;31m#What is the size of the array generated with the following code:\u001b[0m\u001b[0;34m\u001b[0m\u001b[0;34m\u001b[0m\u001b[0;34m\u001b[0m\u001b[0m\n\u001b[1;32m      5\u001b[0m \u001b[0mnp\u001b[0m\u001b[0;34m.\u001b[0m\u001b[0mrandom\u001b[0m\u001b[0;34m.\u001b[0m\u001b[0mrandint\u001b[0m\u001b[0;34m(\u001b[0m\u001b[0;36m10\u001b[0m\u001b[0;34m,\u001b[0m \u001b[0msize\u001b[0m\u001b[0;34m=\u001b[0m\u001b[0;34m(\u001b[0m\u001b[0;36m2\u001b[0m\u001b[0;34m,\u001b[0m\u001b[0;36m4\u001b[0m\u001b[0;34m,\u001b[0m\u001b[0;36m6\u001b[0m\u001b[0;34m)\u001b[0m\u001b[0;34m)\u001b[0m\u001b[0;34m\u001b[0m\u001b[0;34m\u001b[0m\u001b[0m\n",
      "\u001b[0;31mNameError\u001b[0m: name 'arr' is not defined"
     ]
    }
   ],
   "source": [
    "#How would you slice the NumPy array arr=[1,2,3,4,5,6,7] and print [3,4,5] only?\n",
    "print(arr[2:5])\n",
    "\n",
    "#What is the size of the array generated with the following code: \n",
    "np.random.randint(10, size=(2,4,6))\n",
    "48\n",
    "\n",
    "#In Python, after \n",
    "import numpy as np \n",
    "#and defining \n",
    "ls = [10, 24, 48, 52] \n",
    "#what does \n",
    "np.array(ls) \n",
    "#do?\n",
    "\n",
    "#What is the maximum number that could appear in an array generated with the following code: \n",
    "np.random.randint(10, size=(2,4,6))\n",
    "# 9 \n",
    "\n",
    "#In a reshaping operation of an array \"a\" with four rows and six columns, which of the following will raise an error?\n",
    "# a.reshape(6,2)\n",
    "\n",
    "#In a Numpy array, the itemsize attribute is used to find:\n",
    "# the bytes of each array element\n",
    "\n",
    "#In a Numpy array, which of the following would you use to find the maximum number?\n",
    "#max(array)\n",
    "\n",
    "#In a Numpy array a=np.random.randint(100, size=(3,4,5)), how would you calculate the average of all the elements?\n",
    "# np.mean(a)\n",
    "\n",
    "# What would be the result of np.multiply.accumulate([2, 3, 5])?\n",
    "# A 1D Array\n",
    "\n",
    "#How would you print a float number called r_avg with only two decimals?\n",
    "#  print(\"{:.2f}\".format(r_avg))\n",
    "\n",
    "# Given the following code, what will be the output of print(x)?\n",
    "L = [{'ref' = '1', 'name':'Mayim Bialik'}, 'ref' = '2', 'name': 'Ken Jennings'}]\n",
    "for i, x in enumerate(L):\n",
    "    print(x)\n",
    "#The element in each index of the list"
   ]
  },
  {
   "cell_type": "markdown",
   "id": "8f765666",
   "metadata": {},
   "source": [
    "    A ternary expression in Python consists of three operands that evaluate a specific condition and perform actions according to the results. Given this definition, for which purpose(s) is(are) ternary expressions used in Python?\n",
    "    \n",
    "   To combine an if-else block that produces a value into a single line of code\n",
    "   \n",
    "  \tWhich of the following is correct regarding Python data structures?\n",
    "    \n",
    "   Tuples are immutable while lists are mutable"
   ]
  },
  {
   "cell_type": "code",
   "execution_count": null,
   "id": "3323a230",
   "metadata": {},
   "outputs": [],
   "source": []
  }
 ],
 "metadata": {
  "kernelspec": {
   "display_name": "Python 3",
   "language": "python",
   "name": "python3"
  },
  "language_info": {
   "codemirror_mode": {
    "name": "ipython",
    "version": 3
   },
   "file_extension": ".py",
   "mimetype": "text/x-python",
   "name": "python",
   "nbconvert_exporter": "python",
   "pygments_lexer": "ipython3",
   "version": "3.8.8"
  }
 },
 "nbformat": 4,
 "nbformat_minor": 5
}
