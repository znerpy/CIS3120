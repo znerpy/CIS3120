{
 "cells": [
  {
   "cell_type": "markdown",
   "id": "d6906b4f",
   "metadata": {},
   "source": [
    "# Lab 3-28-22"
   ]
  },
  {
   "cell_type": "markdown",
   "id": "f122e0b4",
   "metadata": {},
   "source": [
    "## Concat and merge a DataFrame"
   ]
  },
  {
   "cell_type": "code",
   "execution_count": 1,
   "id": "3bf5fdcb",
   "metadata": {},
   "outputs": [],
   "source": [
    "import pandas as pd\n",
    "import numpy as np"
   ]
  },
  {
   "cell_type": "code",
   "execution_count": 12,
   "id": "47a2bc3c",
   "metadata": {},
   "outputs": [],
   "source": [
    "#Function to generate a synthetic dataframe\n",
    "def make_df(cols, ind):\n",
    "    dd = {} #Empty dictionary to store everything\n",
    "    for c in cols:\n",
    "        dlis =[] #Empty list to store values\n",
    "        for i in ind:         \n",
    "            val = str(c)+str(i) #creates each value\n",
    "            dlis.append(val)\n",
    "#            print(c, i, val) #printout flag to check\n",
    "            dd[c]=dlis #fills out the column\n",
    "#    print('this is dd: ', dd)\n",
    "#    print('this is ind: ', ind)\n",
    "    return pd.DataFrame(dd, ind) #converts dict and return\n"
   ]
  },
  {
   "cell_type": "code",
   "execution_count": 13,
   "id": "0261eebe",
   "metadata": {},
   "outputs": [
    {
     "data": {
      "text/html": [
       "<div>\n",
       "<style scoped>\n",
       "    .dataframe tbody tr th:only-of-type {\n",
       "        vertical-align: middle;\n",
       "    }\n",
       "\n",
       "    .dataframe tbody tr th {\n",
       "        vertical-align: top;\n",
       "    }\n",
       "\n",
       "    .dataframe thead th {\n",
       "        text-align: right;\n",
       "    }\n",
       "</style>\n",
       "<table border=\"1\" class=\"dataframe\">\n",
       "  <thead>\n",
       "    <tr style=\"text-align: right;\">\n",
       "      <th></th>\n",
       "      <th>X</th>\n",
       "      <th>Y</th>\n",
       "      <th>Z</th>\n",
       "    </tr>\n",
       "  </thead>\n",
       "  <tbody>\n",
       "    <tr>\n",
       "      <th>0</th>\n",
       "      <td>X0</td>\n",
       "      <td>Y0</td>\n",
       "      <td>Z0</td>\n",
       "    </tr>\n",
       "    <tr>\n",
       "      <th>1</th>\n",
       "      <td>X1</td>\n",
       "      <td>Y1</td>\n",
       "      <td>Z1</td>\n",
       "    </tr>\n",
       "    <tr>\n",
       "      <th>2</th>\n",
       "      <td>X2</td>\n",
       "      <td>Y2</td>\n",
       "      <td>Z2</td>\n",
       "    </tr>\n",
       "    <tr>\n",
       "      <th>3</th>\n",
       "      <td>X3</td>\n",
       "      <td>Y3</td>\n",
       "      <td>Z3</td>\n",
       "    </tr>\n",
       "  </tbody>\n",
       "</table>\n",
       "</div>"
      ],
      "text/plain": [
       "    X   Y   Z\n",
       "0  X0  Y0  Z0\n",
       "1  X1  Y1  Z1\n",
       "2  X2  Y2  Z2\n",
       "3  X3  Y3  Z3"
      ]
     },
     "execution_count": 13,
     "metadata": {},
     "output_type": "execute_result"
    }
   ],
   "source": [
    "# Calling the function to create a DataFrame\n",
    "make_df('XYZ', range(4)) "
   ]
  },
  {
   "cell_type": "code",
   "execution_count": null,
   "id": "7b7ec2c0",
   "metadata": {},
   "outputs": [],
   "source": [
    "\"\"\"Simplification of make_df function in a single line\n",
    "def make_df(cols, ind):\n",
    "    data = {c: [str(c) + str(i) for i in ind]\n",
    "            for c in cols}\n",
    "    return pd.DataFrame(data, ind)\n",
    "\"\"\""
   ]
  },
  {
   "cell_type": "markdown",
   "id": "88bd93c2",
   "metadata": {},
   "source": [
    "# Pandas Concat"
   ]
  },
  {
   "cell_type": "code",
   "execution_count": 14,
   "id": "18e37b50",
   "metadata": {},
   "outputs": [
    {
     "name": "stdout",
     "output_type": "stream",
     "text": [
      "df1 = \n",
      "     A   B\n",
      "1  A1  B1\n",
      "2  A2  B2\n",
      "df2 = \n",
      "     A   B\n",
      "3  A3  B3\n",
      "4  A4  B4\n",
      "df1 concatenated with df2 = \n",
      "     A   B\n",
      "1  A1  B1\n",
      "2  A2  B2\n",
      "3  A3  B3\n",
      "4  A4  B4\n"
     ]
    }
   ],
   "source": [
    "#Ex. 1: Pandas Concatenation\n",
    "\n",
    "#concatenate two dataframes with same columns\n",
    "df1 = make_df('AB', [1, 2])\n",
    "df2 = make_df('AB', [3, 4])\n",
    "\n",
    "print(\"df1 = \\n\", df1); print(\"df2 = \\n\", df2); \n",
    "print(\"df1 concatenated with df2 = \\n\", pd.concat([df1, df2]))"
   ]
  },
  {
   "cell_type": "code",
   "execution_count": 16,
   "id": "20d484dc",
   "metadata": {},
   "outputs": [
    {
     "name": "stdout",
     "output_type": "stream",
     "text": [
      "df3 = \n",
      "     A   B\n",
      "0  A0  B0\n",
      "1  A1  B1\n",
      "df4 = \n",
      "     C   D\n",
      "0  C0  D0\n",
      "1  C1  D1\n",
      "df3 concatenated with df4 = \n",
      "     A   B   C   D\n",
      "0  A0  B0  C0  D0\n",
      "1  A1  B1  C1  D1\n"
     ]
    }
   ],
   "source": [
    "#concatenate two dataframes with same columns\n",
    "df3 = make_df('AB', [0, 1])\n",
    "df4 = make_df('CD', [0, 1])\n",
    "print(\"df3 = \\n\", df3); print(\"df4 = \\n\", df4); \n",
    "print(\"df3 concatenated with df4 = \\n\", pd.concat([df3, df4], axis=1))"
   ]
  },
  {
   "cell_type": "code",
   "execution_count": 17,
   "id": "951c1457",
   "metadata": {},
   "outputs": [
    {
     "name": "stdout",
     "output_type": "stream",
     "text": [
      "df5 = \n",
      "     A   B   C\n",
      "1  A1  B1  C1\n",
      "2  A2  B2  C2\n",
      "df6 = \n",
      "     B   C   D\n",
      "3  B3  C3  D3\n",
      "4  B4  C4  D4\n",
      "df5 concatenated with df6 = \n",
      "      A   B   C    D\n",
      "1   A1  B1  C1  NaN\n",
      "2   A2  B2  C2  NaN\n",
      "3  NaN  B3  C3   D3\n",
      "4  NaN  B4  C4   D4\n"
     ]
    },
    {
     "name": "stderr",
     "output_type": "stream",
     "text": [
      "C:\\ProgramData\\Anaconda3\\lib\\site-packages\\ipykernel_launcher.py:8: FutureWarning: Sorting because non-concatenation axis is not aligned. A future version\n",
      "of pandas will change to not sort by default.\n",
      "\n",
      "To accept the future behavior, pass 'sort=False'.\n",
      "\n",
      "To retain the current behavior and silence the warning, pass 'sort=True'.\n",
      "\n",
      "  \n"
     ]
    }
   ],
   "source": [
    "#Ex. 2\n",
    "#Concatenating dataframes with only a few columns in common\n",
    "#two options: Inner Join and Outer join (default)\n",
    "\n",
    "df5 = make_df('ABC', [1, 2])\n",
    "df6 = make_df('BCD', [3, 4])\n",
    "print(\"df5 = \\n\",df5); print(\"df6 = \\n\",df6); \n",
    "print(\"df5 concatenated with df6 = \\n\", pd.concat([df5, df6]))"
   ]
  },
  {
   "cell_type": "code",
   "execution_count": 18,
   "id": "241ff81a",
   "metadata": {},
   "outputs": [
    {
     "name": "stdout",
     "output_type": "stream",
     "text": [
      "df5 = \n",
      "     A   B   C\n",
      "1  A1  B1  C1\n",
      "2  A2  B2  C2\n",
      "df6 = \n",
      "     B   C   D\n",
      "3  B3  C3  D3\n",
      "4  B4  C4  D4\n",
      "df5 concatenated with df6 = \n",
      "     B   C\n",
      "1  B1  C1\n",
      "2  B2  C2\n",
      "3  B3  C3\n",
      "4  B4  C4\n"
     ]
    }
   ],
   "source": [
    "#inner join - only columns in common will survive the concatenation\n",
    "print(\"df5 = \\n\",df5); print(\"df6 = \\n\",df6); \n",
    "print(\"df5 concatenated with df6 = \\n\", pd.concat([df5, df6], join='inner'))"
   ]
  },
  {
   "cell_type": "markdown",
   "id": "8862c58a",
   "metadata": {},
   "source": [
    "# Pandas Merge"
   ]
  },
  {
   "cell_type": "code",
   "execution_count": 19,
   "id": "c7972710",
   "metadata": {},
   "outputs": [
    {
     "name": "stdout",
     "output_type": "stream",
     "text": [
      "df1 = \n",
      "   employee        group\n",
      "0      Bob   Accounting\n",
      "1     Jake  Engineering\n",
      "2     Lisa  Engineering\n",
      "3      Sue           HR\n",
      "df2 = \n",
      "   employee  hire_date\n",
      "0     Lisa       2004\n",
      "1      Bob       2008\n",
      "2     Jake       2012\n",
      "3      Sue       2014\n",
      "df1 merged with df2 = \n",
      "   employee        group  hire_date\n",
      "0      Bob   Accounting       2008\n",
      "1     Jake  Engineering       2012\n",
      "2     Lisa  Engineering       2004\n",
      "3      Sue           HR       2014\n"
     ]
    }
   ],
   "source": [
    "#Ex. 3\n",
    "#one-to-one join\n",
    "df1 = pd.DataFrame({'employee': ['Bob', 'Jake', 'Lisa', 'Sue'],\n",
    "                    'group': ['Accounting', 'Engineering', 'Engineering', 'HR']})\n",
    "df2 = pd.DataFrame({'employee': ['Lisa', 'Bob', 'Jake', 'Sue'],\n",
    "                    'hire_date': [2004, 2008, 2012, 2014]})\n",
    "print(\"df1 = \\n\", df1); print(\"df2 = \\n\", df2)\n",
    "\n",
    "df3 = pd.merge(df1, df2)\n",
    "print(\"df1 merged with df2 = \\n\",df3)"
   ]
  },
  {
   "cell_type": "code",
   "execution_count": 20,
   "id": "6a04fc65",
   "metadata": {},
   "outputs": [
    {
     "name": "stdout",
     "output_type": "stream",
     "text": [
      "df3 = \n",
      "   employee        group  hire_date\n",
      "0      Bob   Accounting       2008\n",
      "1     Jake  Engineering       2012\n",
      "2     Lisa  Engineering       2004\n",
      "3      Sue           HR       2014\n",
      "df4 = \n",
      "          group supervisor\n",
      "0   Accounting      Carly\n",
      "1  Engineering      Guido\n",
      "2           HR      Steve\n",
      "df3 merged with df4 = \n",
      "   employee        group  hire_date supervisor\n",
      "0      Bob   Accounting       2008      Carly\n",
      "1     Jake  Engineering       2012      Guido\n",
      "2     Lisa  Engineering       2004      Guido\n",
      "3      Sue           HR       2014      Steve\n"
     ]
    }
   ],
   "source": [
    "#Many-to-one join\n",
    "df4 = pd.DataFrame({'group': ['Accounting', 'Engineering', 'HR'],\n",
    "                    'supervisor': ['Carly', 'Guido', 'Steve']})\n",
    "print(\"df3 = \\n\", df3); print(\"df4 = \\n\", df4)\n",
    "print(\"df3 merged with df4 = \\n\", pd.merge(df3, df4))"
   ]
  },
  {
   "cell_type": "code",
   "execution_count": 21,
   "id": "ddea4b73",
   "metadata": {},
   "outputs": [
    {
     "name": "stdout",
     "output_type": "stream",
     "text": [
      "df1 = \n",
      "   employee        group\n",
      "0      Bob   Accounting\n",
      "1     Jake  Engineering\n",
      "2     Lisa  Engineering\n",
      "3      Sue           HR\n",
      "df5 = \n",
      "          group        skills\n",
      "0   Accounting          math\n",
      "1   Accounting  spreadsheets\n",
      "2  Engineering        coding\n",
      "3  Engineering         linux\n",
      "4           HR  spreadsheets\n",
      "5           HR  organization\n",
      "df1 merged with df5 = \n",
      "   employee        group        skills\n",
      "0      Bob   Accounting          math\n",
      "1      Bob   Accounting  spreadsheets\n",
      "2     Jake  Engineering        coding\n",
      "3     Jake  Engineering         linux\n",
      "4     Lisa  Engineering        coding\n",
      "5     Lisa  Engineering         linux\n",
      "6      Sue           HR  spreadsheets\n",
      "7      Sue           HR  organization\n"
     ]
    }
   ],
   "source": [
    "#Many-to-many join\n",
    "df5 = pd.DataFrame({'group': ['Accounting', 'Accounting',\n",
    "                              'Engineering', 'Engineering', 'HR', 'HR'],\n",
    "                    'skills': ['math', 'spreadsheets', 'coding', 'linux',\n",
    "                               'spreadsheets', 'organization']})\n",
    "print(\"df1 = \\n\", df1); print(\"df5 = \\n\", df5); \n",
    "print(\"df1 merged with df5 = \\n\",pd.merge(df1, df5))"
   ]
  },
  {
   "cell_type": "code",
   "execution_count": 22,
   "id": "1325d903",
   "metadata": {},
   "outputs": [
    {
     "name": "stdout",
     "output_type": "stream",
     "text": [
      "df1 = \n",
      "   employee        group\n",
      "0      Bob   Accounting\n",
      "1     Jake  Engineering\n",
      "2     Lisa  Engineering\n",
      "3      Sue           HR\n",
      "df2 = \n",
      "   employee  hire_date\n",
      "0     Lisa       2004\n",
      "1      Bob       2008\n",
      "2     Jake       2012\n",
      "3      Sue       2014\n",
      "Merge on Employee\n",
      "   employee        group  hire_date\n",
      "0      Bob   Accounting       2008\n",
      "1     Jake  Engineering       2012\n",
      "2     Lisa  Engineering       2004\n",
      "3      Sue           HR       2014\n"
     ]
    }
   ],
   "source": [
    "#Ex. 4\n",
    "#Use of the on keyword\n",
    "print(\"df1 = \\n\", df1); print(\"df2 = \\n\", df2); \n",
    "print(\"Merge on Employee\\n\", pd.merge(df1, df2, on='employee'))\n"
   ]
  },
  {
   "cell_type": "code",
   "execution_count": 23,
   "id": "47bc3f96",
   "metadata": {},
   "outputs": [
    {
     "name": "stdout",
     "output_type": "stream",
     "text": [
      "df1 = \n",
      "   employee        group\n",
      "0      Bob   Accounting\n",
      "1     Jake  Engineering\n",
      "2     Lisa  Engineering\n",
      "3      Sue           HR\n",
      "df3 = \n",
      "    name  salary\n",
      "0   Bob   70000\n",
      "1  Jake   80000\n",
      "2  Lisa  120000\n",
      "3   Sue   90000\n",
      "Merge with left_on right_on\n",
      "   employee        group  name  salary\n",
      "0      Bob   Accounting   Bob   70000\n",
      "1     Jake  Engineering  Jake   80000\n",
      "2     Lisa  Engineering  Lisa  120000\n",
      "3      Sue           HR   Sue   90000\n"
     ]
    }
   ],
   "source": [
    "#Left_on and right_on keywords\n",
    "df3 = pd.DataFrame({'name': ['Bob', 'Jake', 'Lisa', 'Sue'],\n",
    "                    'salary': [70000, 80000, 120000, 90000]})\n",
    "print(\"df1 = \\n\", df1); print(\"df3 = \\n\", df3);\n",
    "print(\"Merge with left_on right_on\\n\", pd.merge(df1, df3, left_on=\"employee\", right_on=\"name\"))"
   ]
  },
  {
   "cell_type": "code",
   "execution_count": 24,
   "id": "b59c29aa",
   "metadata": {},
   "outputs": [
    {
     "name": "stdout",
     "output_type": "stream",
     "text": [
      "Merge with left_on right_on and dropping dup column\n",
      "\n"
     ]
    },
    {
     "data": {
      "text/html": [
       "<div>\n",
       "<style scoped>\n",
       "    .dataframe tbody tr th:only-of-type {\n",
       "        vertical-align: middle;\n",
       "    }\n",
       "\n",
       "    .dataframe tbody tr th {\n",
       "        vertical-align: top;\n",
       "    }\n",
       "\n",
       "    .dataframe thead th {\n",
       "        text-align: right;\n",
       "    }\n",
       "</style>\n",
       "<table border=\"1\" class=\"dataframe\">\n",
       "  <thead>\n",
       "    <tr style=\"text-align: right;\">\n",
       "      <th></th>\n",
       "      <th>employee</th>\n",
       "      <th>group</th>\n",
       "      <th>salary</th>\n",
       "    </tr>\n",
       "  </thead>\n",
       "  <tbody>\n",
       "    <tr>\n",
       "      <th>0</th>\n",
       "      <td>Bob</td>\n",
       "      <td>Accounting</td>\n",
       "      <td>70000</td>\n",
       "    </tr>\n",
       "    <tr>\n",
       "      <th>1</th>\n",
       "      <td>Jake</td>\n",
       "      <td>Engineering</td>\n",
       "      <td>80000</td>\n",
       "    </tr>\n",
       "    <tr>\n",
       "      <th>2</th>\n",
       "      <td>Lisa</td>\n",
       "      <td>Engineering</td>\n",
       "      <td>120000</td>\n",
       "    </tr>\n",
       "    <tr>\n",
       "      <th>3</th>\n",
       "      <td>Sue</td>\n",
       "      <td>HR</td>\n",
       "      <td>90000</td>\n",
       "    </tr>\n",
       "  </tbody>\n",
       "</table>\n",
       "</div>"
      ],
      "text/plain": [
       "  employee        group  salary\n",
       "0      Bob   Accounting   70000\n",
       "1     Jake  Engineering   80000\n",
       "2     Lisa  Engineering  120000\n",
       "3      Sue           HR   90000"
      ]
     },
     "execution_count": 24,
     "metadata": {},
     "output_type": "execute_result"
    }
   ],
   "source": [
    "print(\"Merge with left_on right_on and dropping dup column\\n\")\n",
    "pd.merge(df1, df3, left_on=\"employee\", right_on=\"name\").drop('name', axis=1)"
   ]
  },
  {
   "cell_type": "code",
   "execution_count": 2,
   "id": "afe022c3",
   "metadata": {},
   "outputs": [
    {
     "name": "stdout",
     "output_type": "stream",
     "text": [
      "df6 = \n",
      "     name   food\n",
      "0  Peter   fish\n",
      "1   Paul  beans\n",
      "2   Mary  bread\n",
      "df7 = \n",
      "      name drink\n",
      "0    Mary  wine\n",
      "1  Joseph  beer\n",
      "Merge of df6 with df7\n",
      "    name   food drink\n",
      "0  Mary  bread  wine\n",
      "Merge of df6 with df7 with inner join\n",
      "    name   food drink\n",
      "0  Mary  bread  wine\n",
      "Merge of df6 with df7 with outer join\n",
      "      name   food drink\n",
      "0   Peter   fish   NaN\n",
      "1    Paul  beans   NaN\n",
      "2    Mary  bread  wine\n",
      "3  Joseph    NaN  beer\n",
      "Merge of df6 with df7 with left join\n",
      "     name   food drink\n",
      "0  Peter   fish   NaN\n",
      "1   Paul  beans   NaN\n",
      "2   Mary  bread  wine\n"
     ]
    }
   ],
   "source": [
    "#Ex.5\n",
    "df6 = pd.DataFrame({'name': ['Peter', 'Paul', 'Mary'],\n",
    "                    'food': ['fish', 'beans', 'bread']},\n",
    "                    columns=['name', 'food'])\n",
    "df7 = pd.DataFrame({'name': ['Mary', 'Joseph'],\n",
    "                    'drink': ['wine', 'beer']},\n",
    "                   columns=['name', 'drink'])\n",
    "\n",
    "print(\"df6 = \\n\", df6); print(\"df7 = \\n\", df7); \n",
    "print(\"Merge of df6 with df7\\n\", pd.merge(df6, df7))\n",
    "\n",
    "#inner join\n",
    "print(\"Merge of df6 with df7 with inner join\\n\", pd.merge(df6, df7, how='inner'))\n",
    "\n",
    "#outer join\n",
    "print(\"Merge of df6 with df7 with outer join\\n\", pd.merge(df6, df7, how='outer'))\n",
    "\n",
    "#left join\n",
    "print(\"Merge of df6 with df7 with left join\\n\", pd.merge(df6, df7, how='left'))"
   ]
  },
  {
   "cell_type": "code",
   "execution_count": 3,
   "id": "3cb4fe5c",
   "metadata": {},
   "outputs": [
    {
     "name": "stdout",
     "output_type": "stream",
     "text": [
      "Merge of df6 with df7 with right join\n",
      "      name   food drink\n",
      "0    Mary  bread  wine\n",
      "1  Joseph    NaN  beer\n"
     ]
    }
   ],
   "source": [
    "print(\"Merge of df6 with df7 with right join\\n\", pd.merge(df6, df7, how='right'))"
   ]
  },
  {
   "cell_type": "code",
   "execution_count": null,
   "id": "e2f8563f",
   "metadata": {},
   "outputs": [],
   "source": []
  }
 ],
 "metadata": {
  "kernelspec": {
   "display_name": "Python 3",
   "language": "python",
   "name": "python3"
  },
  "language_info": {
   "codemirror_mode": {
    "name": "ipython",
    "version": 3
   },
   "file_extension": ".py",
   "mimetype": "text/x-python",
   "name": "python",
   "nbconvert_exporter": "python",
   "pygments_lexer": "ipython3",
   "version": "3.8.8"
  }
 },
 "nbformat": 4,
 "nbformat_minor": 5
}
