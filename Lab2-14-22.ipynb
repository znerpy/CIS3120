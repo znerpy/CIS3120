{
 "cells": [
  {
   "cell_type": "markdown",
   "metadata": {},
   "source": [
    "# Lab 2-14-22"
   ]
  },
  {
   "cell_type": "code",
   "execution_count": 1,
   "metadata": {},
   "outputs": [
    {
     "name": "stdout",
     "output_type": "stream",
     "text": [
      "Status code from the server:  200\n",
      "Reason or text associated with status code:  OK\n",
      "HTTP Response headers: \n",
      " {'Date': 'Mon, 14 Feb 2022 19:42:42 GMT', 'Server': 'Apache/2.4.6 () OpenSSL/1.0.2k-fips', 'Last-Modified': 'Wed, 13 Jan 2016 09:47:41 GMT', 'ETag': '\"70f-529340fa7b28d\"', 'Accept-Ranges': 'bytes', 'Content-Length': '1807', 'Keep-Alive': 'timeout=5, max=100', 'Connection': 'Keep-Alive', 'Content-Type': 'text/html', 'Strict-Transport-Security': 'max-age=16070400', 'X-Content-Type-Options': 'nosniff', 'X-XSS-Protection': '1; mode=block', 'X-Frame-Options': 'SAMEORIGIN'}\n",
      "request information saved as a Python object in r.request: \n",
      " <PreparedRequest [GET]>\n",
      "HTTP request headers: \n",
      " {'User-Agent': 'python-requests/2.21.0', 'Accept-Encoding': 'gzip, deflate', 'Accept': '*/*', 'Connection': 'keep-alive'}\n",
      "HTTP request text in string format: \n",
      " <html>\n",
      "\n",
      "<head>\n",
      "<title>A very simple webpage</title>\n",
      "<basefont size=4>\n",
      "</head>\n",
      "\n",
      "<body bgcolor=FFFFFF>\n",
      "\n",
      "<h1>A very simple webpage. This is an \"h1\" level header.</h1>\n",
      "\n",
      "<h2>This is a level h2 header.</h2>\n",
      "\n",
      "<h6>This is a level h6 header.  Pretty small!</h6>\n",
      "\n",
      "<p>This is a standard paragraph.</p>\n",
      "\n",
      "<p align=center>Now I've aligned it in the center of the screen.</p>\n",
      "\n",
      "<p align=right>Now aligned to the right</p>\n",
      "\n",
      "<p><b>Bold text</b></p>\n",
      "\n",
      "<p><strong>Strongly emphasized text</strong>  Can you tell the difference vs. bold?</p>\n",
      "\n",
      "<p><i>Italics</i></p>\n",
      "\n",
      "<p><em>Emphasized text</em>  Just like Italics!</p>\n",
      "\n",
      "<p>Here is a pretty picture: <img src=example/prettypicture.jpg alt=\"Pretty Picture\"></p>\n",
      "\n",
      "<p>Same thing, aligned differently to the paragraph: <img align=top src=example/prettypicture.jpg alt=\"Pretty Picture\"></p>\n",
      "\n",
      "<hr>\n",
      "\n",
      "<h2>How about a nice ordered list!</h2>\n",
      "<ol>\n",
      "  <li>This little piggy went to market\n",
      "  <li>This little piggy went to SB228 class\n",
      "  <li>This little piggy went to an expensive restaurant in Downtown Palo Alto\n",
      "  <li>This little piggy ate too much at Indian Buffet.\n",
      "  <li>This little piggy got lost\n",
      "</ol>\n",
      "\n",
      "<h2>Unordered list</h2>\n",
      "<ul>\n",
      "  <li>First element\n",
      "  <li>Second element\n",
      "  <li>Third element\n",
      "</ul>\n",
      "\n",
      "<hr>\n",
      "\n",
      "<h2>Nested Lists!</h2>\n",
      "<ul>\n",
      "  <li>Things to to today:\n",
      "    <ol>\n",
      "      <li>Walk the dog\n",
      "      <li>Feed the cat\n",
      "      <li>Mow the lawn\n",
      "    </ol>\n",
      "  <li>Things to do tomorrow:\n",
      "    <ol>\n",
      "      <li>Lunch with mom\n",
      "      <li>Feed the hamster\n",
      "      <li>Clean kitchen\n",
      "    </ol>\n",
      "</ul>\n",
      "\n",
      "<p>And finally, how about some <a href=http://www.yahoo.com/>Links?</a></p>\n",
      "\n",
      "<p>Or let's just link to <a href=../../index.html>another page on this server</a></p>\n",
      "\n",
      "<p>Remember, you can view the HTMl code from this or any other page by using the \"View Page Source\" command of your browser.</p>\n",
      "\n",
      "</body>\n",
      "\n",
      "</html>\n",
      "\n",
      "HTTP request content in bytes: \n",
      " b'<html>\\n\\n<head>\\n<title>A very simple webpage</title>\\n<basefont size=4>\\n</head>\\n\\n<body bgcolor=FFFFFF>\\n\\n<h1>A very simple webpage. This is an \"h1\" level header.</h1>\\n\\n<h2>This is a level h2 header.</h2>\\n\\n<h6>This is a level h6 header.  Pretty small!</h6>\\n\\n<p>This is a standard paragraph.</p>\\n\\n<p align=center>Now I\\'ve aligned it in the center of the screen.</p>\\n\\n<p align=right>Now aligned to the right</p>\\n\\n<p><b>Bold text</b></p>\\n\\n<p><strong>Strongly emphasized text</strong>  Can you tell the difference vs. bold?</p>\\n\\n<p><i>Italics</i></p>\\n\\n<p><em>Emphasized text</em>  Just like Italics!</p>\\n\\n<p>Here is a pretty picture: <img src=example/prettypicture.jpg alt=\"Pretty Picture\"></p>\\n\\n<p>Same thing, aligned differently to the paragraph: <img align=top src=example/prettypicture.jpg alt=\"Pretty Picture\"></p>\\n\\n<hr>\\n\\n<h2>How about a nice ordered list!</h2>\\n<ol>\\n  <li>This little piggy went to market\\n  <li>This little piggy went to SB228 class\\n  <li>This little piggy went to an expensive restaurant in Downtown Palo Alto\\n  <li>This little piggy ate too much at Indian Buffet.\\n  <li>This little piggy got lost\\n</ol>\\n\\n<h2>Unordered list</h2>\\n<ul>\\n  <li>First element\\n  <li>Second element\\n  <li>Third element\\n</ul>\\n\\n<hr>\\n\\n<h2>Nested Lists!</h2>\\n<ul>\\n  <li>Things to to today:\\n    <ol>\\n      <li>Walk the dog\\n      <li>Feed the cat\\n      <li>Mow the lawn\\n    </ol>\\n  <li>Things to do tomorrow:\\n    <ol>\\n      <li>Lunch with mom\\n      <li>Feed the hamster\\n      <li>Clean kitchen\\n    </ol>\\n</ul>\\n\\n<p>And finally, how about some <a href=http://www.yahoo.com/>Links?</a></p>\\n\\n<p>Or let\\'s just link to <a href=../../index.html>another page on this server</a></p>\\n\\n<p>Remember, you can view the HTMl code from this or any other page by using the \"View Page Source\" command of your browser.</p>\\n\\n</body>\\n\\n</html>\\n'\n"
     ]
    }
   ],
   "source": [
    "#Ex.1 - Familiarization with request object\n",
    "\n",
    "import requests\n",
    "#url = 'http://www.webscrapingfordatascience.com/basichttp/'\n",
    "url='https://web.ics.purdue.edu/~gchopra/class/public/pages/webdesign/05_simple.html'\n",
    "r = requests.get(url)\n",
    "\n",
    "print('Status code from the server: ', r.status_code)\n",
    "\n",
    "print('Reason or text associated with status code: ', r.reason)\n",
    "\n",
    "print('HTTP Response headers: \\n', r.headers)\n",
    "\n",
    "print('request information saved as a Python object in r.request: \\n', r.request)\n",
    "\n",
    "print('HTTP request headers: \\n', r.request.headers)\n",
    "\n",
    "print('HTTP request text in string format: \\n', r.text)\n",
    "\n",
    "print('HTTP request content in bytes: \\n', r.content)"
   ]
  },
  {
   "cell_type": "code",
   "execution_count": 4,
   "metadata": {},
   "outputs": [
    {
     "data": {
      "text/html": [
       "<h1> This is heading 1 </h1>\n",
       "<h2> This is heading 2 </h2>\n"
      ],
      "text/plain": [
       "<IPython.core.display.HTML object>"
      ]
     },
     "metadata": {},
     "output_type": "display_data"
    }
   ],
   "source": [
    "%%HTML\n",
    "<h1> This is heading 1 </h1>\n",
    "<h2> This is heading 2 </h2>\n"
   ]
  },
  {
   "cell_type": "code",
   "execution_count": 6,
   "metadata": {},
   "outputs": [
    {
     "data": {
      "text/html": [
       "<a href='www.baruch.cuny.edu'> My Baruch Homepage Link </a>\n"
      ],
      "text/plain": [
       "<IPython.core.display.HTML object>"
      ]
     },
     "metadata": {},
     "output_type": "display_data"
    }
   ],
   "source": [
    "%%HTML\n",
    "<a href='www.baruch.cuny.edu'> My Baruch Homepage Link </a>"
   ]
  },
  {
   "cell_type": "code",
   "execution_count": 7,
   "metadata": {},
   "outputs": [
    {
     "data": {
      "text/html": [
       "<img src=\"https://toolkit.baruch.cuny.edu/wp-content/uploads/sites/11/2020/03/Baruch-College-stacked-Logo.jpg\">\n"
      ],
      "text/plain": [
       "<IPython.core.display.HTML object>"
      ]
     },
     "metadata": {},
     "output_type": "display_data"
    }
   ],
   "source": [
    "%%HTML\n",
    "<img src=\"https://toolkit.baruch.cuny.edu/wp-content/uploads/sites/11/2020/03/Baruch-College-stacked-Logo.jpg\">\n"
   ]
  },
  {
   "cell_type": "code",
   "execution_count": 11,
   "metadata": {},
   "outputs": [
    {
     "data": {
      "text/html": [
       "<table>\n",
       "    <tr>\n",
       "        <th> NameCol 1 </th>\n",
       "        <th> NameCol 2 </th>\n",
       "\n",
       "    </tr>\n",
       "    <tr>\n",
       "        <td> row 1, col 1 </td>\n",
       "        <td> row 1, col 2 </td>\n",
       "    </tr>\n",
       "    <tr>\n",
       "        <td> Row 2, col 1 </td>\n",
       "        <td> Row 2, col 2 </td>\n",
       "    </tr>\n",
       "</table>\n",
       "\n",
       "<!comment\n"
      ],
      "text/plain": [
       "<IPython.core.display.HTML object>"
      ]
     },
     "metadata": {},
     "output_type": "display_data"
    }
   ],
   "source": [
    "%%HTML\n",
    "<table>\n",
    "    <tr>\n",
    "        <th> NameCol 1 </th>\n",
    "        <th> NameCol 2 </th>\n",
    "\n",
    "    </tr>\n",
    "    <tr>\n",
    "        <td> row 1, col 1 </td>\n",
    "        <td> row 1, col 2 </td>\n",
    "    </tr>\n",
    "    <tr>\n",
    "        <td> Row 2, col 1 </td>\n",
    "        <td> Row 2, col 2 </td>\n",
    "    </tr>\n",
    "</table>\n",
    "\n",
    "<!comment"
   ]
  },
  {
   "cell_type": "code",
   "execution_count": 12,
   "metadata": {},
   "outputs": [
    {
     "name": "stdout",
     "output_type": "stream",
     "text": [
      "<html>\n",
      " <head>\n",
      "  <title>\n",
      "   The Dormouse's story\n",
      "  </title>\n",
      " </head>\n",
      " <body>\n",
      "  <p class=\"title\">\n",
      "   <b>\n",
      "    The Dormouse's story\n",
      "   </b>\n",
      "  </p>\n",
      "  <p class=\"story\">\n",
      "   Once upon a time there were three little sisters; and their names were\n",
      "   <a class=\"sister\" href=\"http://example.com/elsie\" id=\"link1\">\n",
      "    Elsie\n",
      "   </a>\n",
      "   ,\n",
      "   <a class=\"sister\" href=\"http://example.com/lacie\" id=\"link2\">\n",
      "    Lacie\n",
      "   </a>\n",
      "   and\n",
      "   <a class=\"sister\" href=\"http://example.com/tillie\" id=\"link3\">\n",
      "    Tillie\n",
      "   </a>\n",
      "   ;\n",
      "and they lived at the bottom of a well.\n",
      "  </p>\n",
      "  <p class=\"story\">\n",
      "   ...\n",
      "  </p>\n",
      " </body>\n",
      "</html>\n"
     ]
    }
   ],
   "source": [
    "#Ex.4- HTML source in a Python variable called html_doc\n",
    "\n",
    "#Source:http://omz-software.com/pythonista/docs/ios/beautifulsoup_guide.html\n",
    "\n",
    "from bs4 import BeautifulSoup\n",
    "\n",
    "html_doc = \"\"\"\n",
    "<html><head><title>The Dormouse's story</title></head>\n",
    "\n",
    "<p class=\"title\"><b>The Dormouse's story</b></p>\n",
    "\n",
    "<p class=\"story\">Once upon a time there were three little sisters; and their names were\n",
    "<a href=\"http://example.com/elsie\" class=\"sister\" id=\"link1\">Elsie</a>,\n",
    "<a href=\"http://example.com/lacie\" class=\"sister\" id=\"link2\">Lacie</a> and\n",
    "<a href=\"http://example.com/tillie\" class=\"sister\" id=\"link3\">Tillie</a>;\n",
    "and they lived at the bottom of a well.</p>\n",
    "\n",
    "<p class=\"story\">...</p>\n",
    "\"\"\"\n",
    "soup = BeautifulSoup(html_doc)\n",
    "print(soup.prettify())\n"
   ]
  },
  {
   "cell_type": "code",
   "execution_count": 13,
   "metadata": {},
   "outputs": [
    {
     "name": "stdout",
     "output_type": "stream",
     "text": [
      "This is soup.title: \n",
      " <title>The Dormouse's story</title>\n"
     ]
    }
   ],
   "source": [
    "print('This is soup.title: \\n', soup.title)\n"
   ]
  },
  {
   "cell_type": "code",
   "execution_count": 15,
   "metadata": {},
   "outputs": [
    {
     "name": "stdout",
     "output_type": "stream",
     "text": [
      "This is soup.title.name: \n",
      " The Dormouse's story\n"
     ]
    }
   ],
   "source": [
    "print('This is soup.title.name: \\n', soup.title.text)"
   ]
  },
  {
   "cell_type": "code",
   "execution_count": 16,
   "metadata": {},
   "outputs": [
    {
     "name": "stdout",
     "output_type": "stream",
     "text": [
      "This is the p tag in soup :\n",
      " <p class=\"title\"><b>The Dormouse's story</b></p>\n"
     ]
    }
   ],
   "source": [
    "print('This is the p tag in soup :\\n', soup.p)"
   ]
  },
  {
   "cell_type": "code",
   "execution_count": 17,
   "metadata": {},
   "outputs": [
    {
     "name": "stdout",
     "output_type": "stream",
     "text": [
      "This is the a tag in soup :\n",
      " <a class=\"sister\" href=\"http://example.com/elsie\" id=\"link1\">Elsie</a>\n"
     ]
    }
   ],
   "source": [
    "print('This is the a tag in soup :\\n', soup.a)"
   ]
  },
  {
   "cell_type": "code",
   "execution_count": 18,
   "metadata": {},
   "outputs": [
    {
     "name": "stdout",
     "output_type": "stream",
     "text": [
      "[<a class=\"sister\" href=\"http://example.com/elsie\" id=\"link1\">Elsie</a>, <a class=\"sister\" href=\"http://example.com/lacie\" id=\"link2\">Lacie</a>, <a class=\"sister\" href=\"http://example.com/tillie\" id=\"link3\">Tillie</a>]\n"
     ]
    }
   ],
   "source": [
    "print(soup.find_all('a'))"
   ]
  },
  {
   "cell_type": "code",
   "execution_count": 19,
   "metadata": {},
   "outputs": [
    {
     "name": "stdout",
     "output_type": "stream",
     "text": [
      "[<a class=\"sister\" href=\"http://example.com/elsie\" id=\"link1\">Elsie</a>, <a class=\"sister\" href=\"http://example.com/lacie\" id=\"link2\">Lacie</a>, <a class=\"sister\" href=\"http://example.com/tillie\" id=\"link3\">Tillie</a>]\n"
     ]
    }
   ],
   "source": [
    "AllaTags = soup.find_all('a')\n",
    "print(AllaTags)"
   ]
  },
  {
   "cell_type": "code",
   "execution_count": 21,
   "metadata": {},
   "outputs": [
    {
     "name": "stdout",
     "output_type": "stream",
     "text": [
      "<class 'bs4.element.ResultSet'>\n"
     ]
    }
   ],
   "source": [
    "print(type(AllaTags))"
   ]
  },
  {
   "cell_type": "code",
   "execution_count": 22,
   "metadata": {},
   "outputs": [
    {
     "name": "stdout",
     "output_type": "stream",
     "text": [
      "<a class=\"sister\" href=\"http://example.com/lacie\" id=\"link2\">Lacie</a>\n"
     ]
    }
   ],
   "source": [
    "print(AllaTags[1])"
   ]
  },
  {
   "cell_type": "code",
   "execution_count": 23,
   "metadata": {},
   "outputs": [
    {
     "name": "stdout",
     "output_type": "stream",
     "text": [
      "<a class=\"sister\" href=\"http://example.com/tillie\" id=\"link3\">Tillie</a>\n"
     ]
    }
   ],
   "source": [
    "print(soup.find(id='link3'))"
   ]
  },
  {
   "cell_type": "code",
   "execution_count": 25,
   "metadata": {},
   "outputs": [
    {
     "name": "stdout",
     "output_type": "stream",
     "text": [
      "<a class=\"sister\" href=\"http://example.com/lacie\" id=\"link2\">Lacie</a>\n"
     ]
    }
   ],
   "source": [
    "print(soup.find(id='link2'))"
   ]
  },
  {
   "cell_type": "code",
   "execution_count": null,
   "metadata": {},
   "outputs": [],
   "source": []
  }
 ],
 "metadata": {
  "kernelspec": {
   "display_name": "Python 3",
   "language": "python",
   "name": "python3"
  },
  "language_info": {
   "codemirror_mode": {
    "name": "ipython",
    "version": 3
   },
   "file_extension": ".py",
   "mimetype": "text/x-python",
   "name": "python",
   "nbconvert_exporter": "python",
   "pygments_lexer": "ipython3",
   "version": "3.7.3"
  }
 },
 "nbformat": 4,
 "nbformat_minor": 2
}
