{
 "cells": [
  {
   "cell_type": "markdown",
   "metadata": {},
   "source": [
    "# Lab 3-16-22"
   ]
  },
  {
   "cell_type": "code",
   "execution_count": 4,
   "metadata": {},
   "outputs": [
    {
     "name": "stdout",
     "output_type": "stream",
     "text": [
      "This is data1:\n",
      "0    0.25\n",
      "1    0.50\n",
      "2    0.75\n",
      "3    1.00\n",
      "dtype: float64\n",
      "This is data1.values:  [0.25 0.5  0.75 1.  ]\n",
      "This is data1.index:  RangeIndex(start=0, stop=4, step=1)\n"
     ]
    }
   ],
   "source": [
    "import numpy as np\n",
    "import pandas as pd\n",
    "\n",
    "#Ex1-1. Creating a panda series from a list or array with default index\n",
    "data1 = pd.Series([0.25, 0.5, 0.75, 1.0])\n",
    "print('This is data1:')\n",
    "print(data1)\n",
    "print('This is data1.values: ', data1.values)\n",
    "print('This is data1.index: ', data1.index)"
   ]
  },
  {
   "cell_type": "code",
   "execution_count": 7,
   "metadata": {},
   "outputs": [
    {
     "name": "stdout",
     "output_type": "stream",
     "text": [
      "This is data2:\n",
      "a    0.25\n",
      "b    0.50\n",
      "c    0.75\n",
      "d    1.00\n",
      "dtype: float64\n",
      "This is data2.values:  [0.25 0.5  0.75 1.  ]\n",
      "This is data2.index:  Index(['a', 'b', 'c', 'd'], dtype='object')\n",
      "Data in b using explicit index is:  0.5\n",
      "Data in b using implicit index is:  0.5\n"
     ]
    }
   ],
   "source": [
    "#Ex1-2. With explictly defined index consisting of string\n",
    "data2 = pd.Series([0.25, 0.5, 0.75, 1.0],\n",
    "                  index=['a', 'b', 'c', 'd'])\n",
    "print('This is data2:')\n",
    "print(data2)\n",
    "print('This is data2.values: ', data2.values)\n",
    "print('This is data2.index: ', data2.index)\n",
    "\n",
    "#access data in b\n",
    "print('Data in b using explicit index is: ', data2['b'])\n",
    "print('Data in b using implicit index is: ', data2[1])"
   ]
  },
  {
   "cell_type": "code",
   "execution_count": 11,
   "metadata": {},
   "outputs": [
    {
     "name": "stdout",
     "output_type": "stream",
     "text": [
      "This is data3:\n",
      "2    0.25\n",
      "5    0.50\n",
      "3    0.75\n",
      "7    1.00\n",
      "dtype: float64\n",
      "This is data3.values:  [0.25 0.5  0.75 1.  ]\n",
      "This is data3.index:  Int64Index([2, 5, 3, 7], dtype='int64')\n",
      "this is data[2]:  0.25\n"
     ]
    }
   ],
   "source": [
    "#Ex1-3. With explictly defined index consisting of non sequential integers\n",
    "data3 = pd.Series([0.25, 0.5, 0.75, 1.0], index=[2, 5, 3, 7])\n",
    "print('This is data3:')\n",
    "print(data3)\n",
    "print('This is data3.values: ', data3.values)\n",
    "print('This is data3.index: ', data3.index)\n",
    "\n",
    "print('this is data[2]: ', data3[2])\n",
    "#print('this is data[0]: ', data3[0]) gives an error"
   ]
  },
  {
   "cell_type": "code",
   "execution_count": 17,
   "metadata": {},
   "outputs": [
    {
     "name": "stdout",
     "output_type": "stream",
     "text": [
      "This is the population Pandas Series:\n",
      "California    38332521\n",
      "Texas         26448193\n",
      "New York      19651127\n",
      "Florida       19552860\n",
      "Illinois      12882135\n",
      "dtype: int64\n",
      "This is the population in New York: 19651127\n",
      "This is the slice California:New York \n",
      " California    38332521\n",
      "Texas         26448193\n",
      "New York      19651127\n",
      "dtype: int64\n",
      "This is the slice California:New York with implicit index \n",
      " California    38332521\n",
      "Texas         26448193\n",
      "New York      19651127\n",
      "dtype: int64\n"
     ]
    }
   ],
   "source": [
    "#Ex1-4. Creating a Series from a dictionary\n",
    "population_dict = {'California': 38332521,\n",
    "                   'Texas': 26448193,\n",
    "                   'New York': 19651127,\n",
    "                   'Florida': 19552860,\n",
    "                   'Illinois': 12882135}\n",
    "population = pd.Series(population_dict)\n",
    "print('This is the population Pandas Series:')\n",
    "print(population)\n",
    "print('This is the population in New York:', population['New York'])\n",
    "print('This is the slice California:New York \\n', population['California': 'New York'])\n",
    "print('This is the slice California:New York with implicit index \\n', population[:3])"
   ]
  },
  {
   "cell_type": "code",
   "execution_count": 19,
   "metadata": {},
   "outputs": [
    {
     "name": "stdout",
     "output_type": "stream",
     "text": [
      "This is shares\n",
      "Mon     10.7\n",
      "Tues    10.8\n",
      "Wed     10.5\n",
      "Thu     10.9\n",
      "dtype: float64\n",
      "This is the index object of shares\n",
      "Index(['Mon', 'Tues', 'Wed', 'Thu'], dtype='object')\n"
     ]
    }
   ],
   "source": [
    "#Application Example: Stock prices in a series\n",
    "prices = [10.70, 10.80, 10.50, 10.90]\n",
    "#create a series with the prices called shares\n",
    "#shares = pd.Series(prices)\n",
    "#print('This is shares')\n",
    "#print(shares)\n",
    "days = ['Mon', 'Tues', 'Wed', 'Thu']\n",
    "shares = pd.Series(prices, index=days)\n",
    "#set the index of shares to the days of the week\n",
    "print('This is shares')\n",
    "print(shares)\n",
    "#print the index object\n",
    "print('This is the index object of shares')\n",
    "print(shares.index)\n"
   ]
  },
  {
   "cell_type": "code",
   "execution_count": 25,
   "metadata": {},
   "outputs": [
    {
     "name": "stdout",
     "output_type": "stream",
     "text": [
      "This is shares.index[1]:  Tues and the value is 10.8\n",
      "This is shares.index[ :2]:  Index(['Mon', 'Tues'], dtype='object', name='Weekdays')\n",
      "This is shares.index[-2:]:  Index(['Wed', 'Thu'], dtype='object', name='Weekdays')\n"
     ]
    }
   ],
   "source": [
    "#Index Operations (Access and Slicing)\n",
    "\n",
    "#print the index of the second element shares.index[1]\n",
    "print('This is shares.index[1]: ', shares.index[1], 'and the value is', shares[1])\n",
    "\n",
    "#print the first two indices\n",
    "print('This is shares.index[ :2]: ', shares.index[ :2])\n",
    "\n",
    "#print the last two indices\n",
    "print('This is shares.index[-2:]: ', shares.index[ -2:])\n"
   ]
  },
  {
   "cell_type": "code",
   "execution_count": 23,
   "metadata": {},
   "outputs": [
    {
     "ename": "TypeError",
     "evalue": "Index does not support mutable operations",
     "output_type": "error",
     "traceback": [
      "\u001b[1;31m---------------------------------------------------------------------------\u001b[0m",
      "\u001b[1;31mTypeError\u001b[0m                                 Traceback (most recent call last)",
      "\u001b[1;32m<ipython-input-23-4f86e3d67015>\u001b[0m in \u001b[0;36m<module>\u001b[1;34m\u001b[0m\n\u001b[0;32m      2\u001b[0m \u001b[1;31m#change the index in 2 to 'Wednesday'\u001b[0m\u001b[1;33m\u001b[0m\u001b[1;33m\u001b[0m\u001b[1;33m\u001b[0m\u001b[0m\n\u001b[0;32m      3\u001b[0m \u001b[1;31m#shares.index[2] = 'Wednesday'\u001b[0m\u001b[1;33m\u001b[0m\u001b[1;33m\u001b[0m\u001b[1;33m\u001b[0m\u001b[0m\n\u001b[1;32m----> 4\u001b[1;33m \u001b[0mshares\u001b[0m\u001b[1;33m.\u001b[0m\u001b[0mindex\u001b[0m\u001b[1;33m[\u001b[0m \u001b[1;33m:\u001b[0m\u001b[1;36m4\u001b[0m\u001b[1;33m]\u001b[0m \u001b[1;33m=\u001b[0m \u001b[1;33m[\u001b[0m\u001b[1;34m'Monday'\u001b[0m\u001b[1;33m,\u001b[0m \u001b[1;34m'Tuesday'\u001b[0m\u001b[1;33m]\u001b[0m\u001b[1;33m\u001b[0m\u001b[1;33m\u001b[0m\u001b[0m\n\u001b[0m",
      "\u001b[1;32m~\\anaconda3\\lib\\site-packages\\pandas\\core\\indexes\\base.py\u001b[0m in \u001b[0;36m__setitem__\u001b[1;34m(self, key, value)\u001b[0m\n\u001b[0;32m   4079\u001b[0m \u001b[1;33m\u001b[0m\u001b[0m\n\u001b[0;32m   4080\u001b[0m     \u001b[1;32mdef\u001b[0m \u001b[0m__setitem__\u001b[0m\u001b[1;33m(\u001b[0m\u001b[0mself\u001b[0m\u001b[1;33m,\u001b[0m \u001b[0mkey\u001b[0m\u001b[1;33m,\u001b[0m \u001b[0mvalue\u001b[0m\u001b[1;33m)\u001b[0m\u001b[1;33m:\u001b[0m\u001b[1;33m\u001b[0m\u001b[1;33m\u001b[0m\u001b[0m\n\u001b[1;32m-> 4081\u001b[1;33m         \u001b[1;32mraise\u001b[0m \u001b[0mTypeError\u001b[0m\u001b[1;33m(\u001b[0m\u001b[1;34m\"Index does not support mutable operations\"\u001b[0m\u001b[1;33m)\u001b[0m\u001b[1;33m\u001b[0m\u001b[1;33m\u001b[0m\u001b[0m\n\u001b[0m\u001b[0;32m   4082\u001b[0m \u001b[1;33m\u001b[0m\u001b[0m\n\u001b[0;32m   4083\u001b[0m     \u001b[1;32mdef\u001b[0m \u001b[0m__getitem__\u001b[0m\u001b[1;33m(\u001b[0m\u001b[0mself\u001b[0m\u001b[1;33m,\u001b[0m \u001b[0mkey\u001b[0m\u001b[1;33m)\u001b[0m\u001b[1;33m:\u001b[0m\u001b[1;33m\u001b[0m\u001b[1;33m\u001b[0m\u001b[0m\n",
      "\u001b[1;31mTypeError\u001b[0m: Index does not support mutable operations"
     ]
    }
   ],
   "source": [
    "#Index operations may not always work!\n",
    "#change the index in 2 to 'Wednesday'\n",
    "#shares.index[2] = 'Wednesday'\n",
    "#shares.index[ :4] = ['Monday', 'Tuesday']"
   ]
  },
  {
   "cell_type": "code",
   "execution_count": 24,
   "metadata": {},
   "outputs": [
    {
     "name": "stdout",
     "output_type": "stream",
     "text": [
      "This is the index object of shares\n",
      "Index(['Mon', 'Tues', 'Wed', 'Thu'], dtype='object', name='Weekdays')\n"
     ]
    }
   ],
   "source": [
    "shares.index.name='Weekdays'\n",
    "print('This is the index object of shares')\n",
    "print(shares.index)"
   ]
  },
  {
   "cell_type": "code",
   "execution_count": null,
   "metadata": {},
   "outputs": [],
   "source": [
    "#Access data with the implicit (iloc) vs. explicit index (loc)\n",
    "#print the share prices on Tuesday using both methods"
   ]
  },
  {
   "cell_type": "code",
   "execution_count": null,
   "metadata": {},
   "outputs": [],
   "source": [
    "#Slice data with the implicit (iloc) vs. explicit index (loc)\n",
    "#print the share prices from Tues to Thurs"
   ]
  }
 ],
 "metadata": {
  "kernelspec": {
   "display_name": "Python 3",
   "language": "python",
   "name": "python3"
  },
  "language_info": {
   "codemirror_mode": {
    "name": "ipython",
    "version": 3
   },
   "file_extension": ".py",
   "mimetype": "text/x-python",
   "name": "python",
   "nbconvert_exporter": "python",
   "pygments_lexer": "ipython3",
   "version": "3.8.5"
  }
 },
 "nbformat": 4,
 "nbformat_minor": 4
}
