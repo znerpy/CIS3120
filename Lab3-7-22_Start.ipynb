{
 "cells": [
  {
   "cell_type": "markdown",
   "id": "5d9a7bdf",
   "metadata": {},
   "source": [
    "# Lab 3-7-22 Start\n",
    "## Numpy Array Operations"
   ]
  },
  {
   "cell_type": "code",
   "execution_count": null,
   "id": "aa5f96e8",
   "metadata": {},
   "outputs": [],
   "source": [
    "#Exercise 1: Slicing Arrays\n",
    "\n",
    "#Create a one-dimensional array of consecutive numbers 0 to 9 and slice it\n",
    "x = np.arange(10) \n",
    "print('This is the x array: ', x)\n",
    "\n",
    "#slice all elements after index 5\n",
    "\n",
    "#slice the middle subarray between indexes 4 and 7, not including the end position\n",
    "\n",
    "#slice every other element or go in steps of two\n",
    "\n",
    "# slice every other element, starting at index 1\n",
    "\n",
    "# slice all elements, reversed\n",
    "\n",
    "# slice with every other element reversed from index 5\n",
    "\n",
    "#Create an array x2 (3x4 randon numbers) and produce the following slices:\n",
    "\n",
    "#Slice 1: two rows, three columns\n",
    "\n",
    "#Slice 2: all rows, every other column\n"
   ]
  },
  {
   "cell_type": "code",
   "execution_count": null,
   "id": "873f4b98",
   "metadata": {},
   "outputs": [],
   "source": [
    "#In class exercise: Generate a 2D-array x2 of random numbers with 3 rows and 4 columns and print the following slices:\n",
    "#Slice 1: first two rows and first three columns\n",
    "#Slice 2: all rows, every other column"
   ]
  },
  {
   "cell_type": "code",
   "execution_count": null,
   "id": "15436ef4",
   "metadata": {},
   "outputs": [],
   "source": [
    "#Exercise 2: Reshaping Arrays\n",
    "#Reshape Pattern 1: reshape 1D into a grid \n",
    "grid1 = np.arange(1, 10)\n",
    "\n",
    "#Reshape into a 3x3 grid and print\n",
    "\n",
    "#Reshape Pattern 2: conversion of 1D array into a row or column matrix\n",
    "x = np.array([1, 2, 3])\n",
    "\n",
    "# row vector via reshape\n",
    "\n",
    "# column vector via reshape"
   ]
  },
  {
   "cell_type": "code",
   "execution_count": null,
   "id": "71fcd88c",
   "metadata": {},
   "outputs": [],
   "source": [
    "#Exercise 3: Concatenating arrays of the same dimension\n",
    "\n",
    "#np.concatenate can join two or three unidimensional arrays\n",
    "x = np.array([1, 2, 3])\n",
    "y = np.array([3, 2, 1])\n",
    "\n",
    "#concatenate x and y\n",
    "\n",
    "z = [99, 99, 99]\n",
    "\n",
    "#concatenate z to x and y\n",
    "\n",
    "#np.concatenate can also join two-dimensional arrays\n",
    "grid = np.array([[1, 2, 3],\n",
    "                 [4, 5, 6]])\n",
    "\n",
    "#Concatenation of grid along first axis\n",
    "\n",
    "#Concatenation of grid along second axis:\n",
    "\n"
   ]
  },
  {
   "cell_type": "code",
   "execution_count": null,
   "id": "a23e4f22",
   "metadata": {},
   "outputs": [],
   "source": [
    "#Exercise 4: Concatenating arrays of the same dimension\n",
    "\n",
    "#For arrays of different dimensions, it is clearer to use vertical or horizontal stack\n",
    "x = np.array([1, 2, 3])\n",
    "grid = np.array([[9, 8, 7],\n",
    "                 [6, 5, 4]])\n",
    "\n",
    "#Vertically stack the arrays x and grid\n",
    "\n",
    "y = np.array([[99],\n",
    "              [99]])\n",
    "\n",
    "#Horizontally stack the arrays grid and y\n"
   ]
  },
  {
   "cell_type": "code",
   "execution_count": null,
   "id": "3499e243",
   "metadata": {},
   "outputs": [],
   "source": [
    "#Exercise 5: Splitting Arrays\n",
    "x = [1, 2, 3, 99, 99, 3, 2, 1]\n",
    "x1, x2, x3 = np.split(x, [3, 5])\n",
    "\n",
    "#what is the result?\n",
    "\n",
    "#Check vsplit and hsplit in a 4x4 array"
   ]
  },
  {
   "cell_type": "code",
   "execution_count": null,
   "id": "5249527a",
   "metadata": {},
   "outputs": [],
   "source": [
    "#Exercise 6: Examples of array arithmetic operations\n",
    "\n",
    "x = np.arange(4)\n",
    "print(\"x =\", x)\n",
    "print(\"x + 5 =\", x + 5)\n",
    "print(\"x - 5 =\", x - 5)\n",
    "print(\"x * 2 =\", x * 2)\n",
    "print(\"x / 2 =\", x / 2)\n",
    "print(\"x // 2 =\", x // 2) # floor division\n",
    "print(\"-x = \", -x)\n",
    "print(\"x ** 2 = \", x ** 2)\n",
    "print(\"x % 2 = \", x % 2)\n",
    "y = -(0.5*x + 1) ** 2\n",
    "print(\"y = \", y)\n",
    "\n",
    "#Use np.add to add 2 to x\n",
    "\n",
    "# Use the output parameter to put the result in y and print y\n"
   ]
  },
  {
   "cell_type": "code",
   "execution_count": null,
   "id": "2d281be3",
   "metadata": {},
   "outputs": [],
   "source": [
    "#Exercise 7: Examples of array aggregation operations (add.reduce and multiply.reduce)\n"
   ]
  }
 ],
 "metadata": {
  "kernelspec": {
   "display_name": "Python 3",
   "language": "python",
   "name": "python3"
  },
  "language_info": {
   "codemirror_mode": {
    "name": "ipython",
    "version": 3
   },
   "file_extension": ".py",
   "mimetype": "text/x-python",
   "name": "python",
   "nbconvert_exporter": "python",
   "pygments_lexer": "ipython3",
   "version": "3.8.8"
  }
 },
 "nbformat": 4,
 "nbformat_minor": 5
}
