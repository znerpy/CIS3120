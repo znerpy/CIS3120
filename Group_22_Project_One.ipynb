{
  "nbformat": 4,
  "nbformat_minor": 0,
  "metadata": {
    "colab": {
      "name": "Group 22 - Project One.ipynb",
      "provenance": [],
      "collapsed_sections": []
    },
    "kernelspec": {
      "name": "python3",
      "display_name": "Python 3"
    },
    "language_info": {
      "name": "python"
    }
  },
  "cells": [
    {
      "cell_type": "markdown",
      "source": [
        "BRANDON PRENZ & TENZING PALDEN (GROUP 22) \n",
        "WEB-SCRAPING (https://www.worldometers.info/geography/how-many-countries-in-asia/)"
      ],
      "metadata": {
        "id": "-_6G7fv02iIx"
      }
    },
    {
      "cell_type": "markdown",
      "source": [
        ""
      ],
      "metadata": {
        "id": "9ML3YKtb2hpb"
      }
    },
    {
      "cell_type": "markdown",
      "source": [
        "Group Project #1: Web scraping\n",
        "Due Date: Wed. 3/2/22 (at 1pm)\n",
        "\n",
        "Objective: To apply web scraping concepts and use nested built-in data structures in Python.\n",
        "\n",
        "Instructions: Complete this project in groups of two and without assistance from other groups or outside parties. Doing so will be considered an academic integrity violation. See below.\n",
        "\n",
        "Requirements: Your code should have the following components:\n",
        "\n",
        "Using the URL assigned to your group (based on your group number), write Python code to scrape the table found on that page. If there is more than one table, you should only scrape the first. \n",
        "\n",
        "Scrape the data from the table and store it in a built-in Python structure (a list of dictionaries). \n",
        "\n",
        "Once the data is stored in your Python data structure, write code to calculate the average of the numeric column. (Hint: you may need to strip the commas from the numbers and convert them to numbers before calculating the average). \n",
        "Output: Your program should print the following (please make sure you remove any extra output): \n",
        "\n",
        "1. The heading in the page that describes the content of the table (h1). \n",
        "2. The built-in data structure you created showing data from the table. Print it all at once. \n",
        "3. The number of items in your list and the average of the numeric column with two decimals. \n",
        "4. Written Communication Component: Add a comment in the last cell of your notebook with your interpretation of the results printed in step 3. \n",
        "Documentation: Include the three levels of documentation discussed in class. \n",
        "Submit for grading: Upload a Jupyter notebook file (.ipynb) with your Python program (or a .py file if you use an IDE like Spyder), using the corresponding Bb link. Only one submission per group is needed. Use the group number when you name your file (e.g., G7WebScraping.ipynb). \n",
        "\n",
        "Professor consultation while assignment is ongoing: To be fair to other students, the professor cannot “check your code to see if it is ok” before the deadline, or “help you find errors in your code.” Debugging your code is part of this assignment. However, your professor can help you figure out the meaning of an error message and/or answer questions about the code examples covered in class.   \n",
        "\n",
        "Academic Integrity Warnings: Seeking outside assistance from advanced programmers or homework helping sites is considered an academic integrity violation and will be handled accordingly. If your program uses advanced data structures or libraries not covered in class, you will be asked to explain your code in an oral exam and/or in class. Please remember that copy/pasting code from the Web without attribution is considered an Academic Integrity violation and will be handled accordingly.\n",
        "\n",
        "Honor Code: By submitting the required files, you attest that your group completed this assignment with academic integrity, without colluding with other groups, or seeking assistance from homework helping sites, or other programmers. \n",
        "\n",
        "Grading Rubric: \n",
        "40% independent verification of program run.\n",
        "30% required data structure and correct output (eliminate the output of intermediate steps). \n",
        "30% documentation (3 levels: top of the notebook, comments in code, and labeling of the output) and interpretation of results."
      ],
      "metadata": {
        "id": "M4D8rzoF2jUX"
      }
    },
    {
      "cell_type": "code",
      "source": [
        "import requests\n",
        "from bs4 import BeautifulSoup\n",
        "\n",
        "url = 'https://www.worldometers.info/geography/how-many-countries-in-asia/'\n",
        "r = requests.get(url)\n",
        "soup = BeautifulSoup(r.content, 'html.parser')\n",
        "print(soup.title.text)"
      ],
      "metadata": {
        "id": "pbEg4nkY4aXh",
        "colab": {
          "base_uri": "https://localhost:8080/"
        },
        "outputId": "b4b2ef95-b15e-459d-916f-a3360e2abc42"
      },
      "execution_count": 57,
      "outputs": [
        {
          "output_type": "stream",
          "name": "stdout",
          "text": [
            "How many countries in Asia? - Worldometer\n"
          ]
        }
      ]
    },
    {
      "cell_type": "code",
      "source": [
        "#Retrieve the first table with all the movies\n",
        "co_table = soup.find('table')\n",
        "print(co_table)\n",
        "\n",
        "#Part I: Retrieve the headers and put them in a list\n",
        "headers = []\n",
        "\n",
        "all_th = co_table.find('thead').find_all('th')\n",
        "print(\"This is the content of all_th: \",all_th)\n",
        "\n",
        "for header in all_th:\n",
        "  headers.append(header.text)\n",
        "print(\"This is headers: \", headers)\n",
        "\n",
        "print(all_th)"
      ],
      "metadata": {
        "id": "VK-YtvO73nxZ",
        "colab": {
          "base_uri": "https://localhost:8080/"
        },
        "outputId": "69309094-128d-48c3-ea11-69d8ccb1b240"
      },
      "execution_count": 58,
      "outputs": [
        {
          "output_type": "stream",
          "name": "stdout",
          "text": [
            "<table cellspacing=\"0\" class=\"table table-striped table-bordered\" id=\"example2\" width=\"100%\"><thead> <tr> <th>#</th><th>Country</th><th>Population<br/>(2020)</th><th>Subregion</th> </tr></thead><tbody> <tr> <td>1</td> <td style=\"font-weight: bold; font-size:15px; text-align:left\"><a href=\"/world-population/china-population/\">China</a></td> <td style=\"font-weight: bold;\">1,439,323,776</td> <td>Eastern Asia</td> </tr> <tr> <td>2</td> <td style=\"font-weight: bold; font-size:15px; text-align:left\"><a href=\"/world-population/india-population/\">India</a></td> <td style=\"font-weight: bold;\">1,380,004,385</td> <td>Southern Asia</td> </tr> <tr> <td>3</td> <td style=\"font-weight: bold; font-size:15px; text-align:left\"><a href=\"/world-population/indonesia-population/\">Indonesia</a></td> <td style=\"font-weight: bold;\">273,523,615</td> <td>South-Eastern Asia</td> </tr> <tr> <td>4</td> <td style=\"font-weight: bold; font-size:15px; text-align:left\"><a href=\"/world-population/pakistan-population/\">Pakistan</a></td> <td style=\"font-weight: bold;\">220,892,340</td> <td>Southern Asia</td> </tr> <tr> <td>5</td> <td style=\"font-weight: bold; font-size:15px; text-align:left\"><a href=\"/world-population/bangladesh-population/\">Bangladesh</a></td> <td style=\"font-weight: bold;\">164,689,383</td> <td>Southern Asia</td> </tr> <tr> <td>6</td> <td style=\"font-weight: bold; font-size:15px; text-align:left\"><a href=\"/world-population/japan-population/\">Japan</a></td> <td style=\"font-weight: bold;\">126,476,461</td> <td>Eastern Asia</td> </tr> <tr> <td>7</td> <td style=\"font-weight: bold; font-size:15px; text-align:left\"><a href=\"/world-population/philippines-population/\">Philippines</a></td> <td style=\"font-weight: bold;\">109,581,078</td> <td>South-Eastern Asia</td> </tr> <tr> <td>8</td> <td style=\"font-weight: bold; font-size:15px; text-align:left\"><a href=\"/world-population/vietnam-population/\">Vietnam</a></td> <td style=\"font-weight: bold;\">97,338,579</td> <td>South-Eastern Asia</td> </tr> <tr> <td>9</td> <td style=\"font-weight: bold; font-size:15px; text-align:left\"><a href=\"/world-population/turkey-population/\">Turkey</a></td> <td style=\"font-weight: bold;\">84,339,067</td> <td>Western Asia</td> </tr> <tr> <td>10</td> <td style=\"font-weight: bold; font-size:15px; text-align:left\"><a href=\"/world-population/iran-population/\">Iran</a></td> <td style=\"font-weight: bold;\">83,992,949</td> <td>Southern Asia</td> </tr> <tr> <td>11</td> <td style=\"font-weight: bold; font-size:15px; text-align:left\"><a href=\"/world-population/thailand-population/\">Thailand</a></td> <td style=\"font-weight: bold;\">69,799,978</td> <td>South-Eastern Asia</td> </tr> <tr> <td>12</td> <td style=\"font-weight: bold; font-size:15px; text-align:left\"><a href=\"/world-population/myanmar-population/\">Myanmar</a></td> <td style=\"font-weight: bold;\">54,409,800</td> <td>South-Eastern Asia</td> </tr> <tr> <td>13</td> <td style=\"font-weight: bold; font-size:15px; text-align:left\"><a href=\"/world-population/south-korea-population/\">South Korea</a></td> <td style=\"font-weight: bold;\">51,269,185</td> <td>Eastern Asia</td> </tr> <tr> <td>14</td> <td style=\"font-weight: bold; font-size:15px; text-align:left\"><a href=\"/world-population/iraq-population/\">Iraq</a></td> <td style=\"font-weight: bold;\">40,222,493</td> <td>Western Asia</td> </tr> <tr> <td>15</td> <td style=\"font-weight: bold; font-size:15px; text-align:left\"><a href=\"/world-population/afghanistan-population/\">Afghanistan</a></td> <td style=\"font-weight: bold;\">38,928,346</td> <td>Southern Asia</td> </tr> <tr> <td>16</td> <td style=\"font-weight: bold; font-size:15px; text-align:left\"><a href=\"/world-population/saudi-arabia-population/\">Saudi Arabia</a></td> <td style=\"font-weight: bold;\">34,813,871</td> <td>Western Asia</td> </tr> <tr> <td>17</td> <td style=\"font-weight: bold; font-size:15px; text-align:left\"><a href=\"/world-population/uzbekistan-population/\">Uzbekistan</a></td> <td style=\"font-weight: bold;\">33,469,203</td> <td>Central Asia</td> </tr> <tr> <td>18</td> <td style=\"font-weight: bold; font-size:15px; text-align:left\"><a href=\"/world-population/malaysia-population/\">Malaysia</a></td> <td style=\"font-weight: bold;\">32,365,999</td> <td>South-Eastern Asia</td> </tr> <tr> <td>19</td> <td style=\"font-weight: bold; font-size:15px; text-align:left\"><a href=\"/world-population/yemen-population/\">Yemen</a></td> <td style=\"font-weight: bold;\">29,825,964</td> <td>Western Asia</td> </tr> <tr> <td>20</td> <td style=\"font-weight: bold; font-size:15px; text-align:left\"><a href=\"/world-population/nepal-population/\">Nepal</a></td> <td style=\"font-weight: bold;\">29,136,808</td> <td>Southern Asia</td> </tr> <tr> <td>21</td> <td style=\"font-weight: bold; font-size:15px; text-align:left\"><a href=\"/world-population/north-korea-population/\">North Korea</a></td> <td style=\"font-weight: bold;\">25,778,816</td> <td>Eastern Asia</td> </tr> <tr> <td>22</td> <td style=\"font-weight: bold; font-size:15px; text-align:left\"><a href=\"/world-population/sri-lanka-population/\">Sri Lanka</a></td> <td style=\"font-weight: bold;\">21,413,249</td> <td>Southern Asia</td> </tr> <tr> <td>23</td> <td style=\"font-weight: bold; font-size:15px; text-align:left\"><a href=\"/world-population/kazakhstan-population/\">Kazakhstan</a></td> <td style=\"font-weight: bold;\">18,776,707</td> <td>Central Asia</td> </tr> <tr> <td>24</td> <td style=\"font-weight: bold; font-size:15px; text-align:left\"><a href=\"/world-population/syria-population/\">Syria</a></td> <td style=\"font-weight: bold;\">17,500,658</td> <td>Western Asia</td> </tr> <tr> <td>25</td> <td style=\"font-weight: bold; font-size:15px; text-align:left\"><a href=\"/world-population/cambodia-population/\">Cambodia</a></td> <td style=\"font-weight: bold;\">16,718,965</td> <td>South-Eastern Asia</td> </tr> <tr> <td>26</td> <td style=\"font-weight: bold; font-size:15px; text-align:left\"><a href=\"/world-population/jordan-population/\">Jordan</a></td> <td style=\"font-weight: bold;\">10,203,134</td> <td>Western Asia</td> </tr> <tr> <td>27</td> <td style=\"font-weight: bold; font-size:15px; text-align:left\"><a href=\"/world-population/azerbaijan-population/\">Azerbaijan</a></td> <td style=\"font-weight: bold;\">10,139,177</td> <td>Western Asia</td> </tr> <tr> <td>28</td> <td style=\"font-weight: bold; font-size:15px; text-align:left\"><a href=\"/world-population/united-arab-emirates-population/\">United Arab Emirates</a></td> <td style=\"font-weight: bold;\">9,890,402</td> <td>Western Asia</td> </tr> <tr> <td>29</td> <td style=\"font-weight: bold; font-size:15px; text-align:left\"><a href=\"/world-population/tajikistan-population/\">Tajikistan</a></td> <td style=\"font-weight: bold;\">9,537,645</td> <td>Central Asia</td> </tr> <tr> <td>30</td> <td style=\"font-weight: bold; font-size:15px; text-align:left\"><a href=\"/world-population/israel-population/\">Israel</a></td> <td style=\"font-weight: bold;\">8,655,535</td> <td>Western Asia</td> </tr> <tr> <td>31</td> <td style=\"font-weight: bold; font-size:15px; text-align:left\"><a href=\"/world-population/laos-population/\">Laos</a></td> <td style=\"font-weight: bold;\">7,275,560</td> <td>South-Eastern Asia</td> </tr> <tr> <td>32</td> <td style=\"font-weight: bold; font-size:15px; text-align:left\"><a href=\"/world-population/lebanon-population/\">Lebanon</a></td> <td style=\"font-weight: bold;\">6,825,445</td> <td>Western Asia</td> </tr> <tr> <td>33</td> <td style=\"font-weight: bold; font-size:15px; text-align:left\"><a href=\"/world-population/kyrgyzstan-population/\">Kyrgyzstan</a></td> <td style=\"font-weight: bold;\">6,524,195</td> <td>Central Asia</td> </tr> <tr> <td>34</td> <td style=\"font-weight: bold; font-size:15px; text-align:left\"><a href=\"/world-population/turkmenistan-population/\">Turkmenistan</a></td> <td style=\"font-weight: bold;\">6,031,200</td> <td>Central Asia</td> </tr> <tr> <td>35</td> <td style=\"font-weight: bold; font-size:15px; text-align:left\"><a href=\"/world-population/singapore-population/\">Singapore</a></td> <td style=\"font-weight: bold;\">5,850,342</td> <td>South-Eastern Asia</td> </tr> <tr> <td>36</td> <td style=\"font-weight: bold; font-size:15px; text-align:left\"><a href=\"/world-population/oman-population/\">Oman</a></td> <td style=\"font-weight: bold;\">5,106,626</td> <td>Western Asia</td> </tr> <tr> <td>37</td> <td style=\"font-weight: bold; font-size:15px; text-align:left\"><a href=\"/world-population/state-of-palestine-population/\">State of Palestine</a></td> <td style=\"font-weight: bold;\">5,101,414</td> <td>Western Asia</td> </tr> <tr> <td>38</td> <td style=\"font-weight: bold; font-size:15px; text-align:left\"><a href=\"/world-population/kuwait-population/\">Kuwait</a></td> <td style=\"font-weight: bold;\">4,270,571</td> <td>Western Asia</td> </tr> <tr> <td>39</td> <td style=\"font-weight: bold; font-size:15px; text-align:left\"><a href=\"/world-population/georgia-population/\">Georgia</a></td> <td style=\"font-weight: bold;\">3,989,167</td> <td>Western Asia</td> </tr> <tr> <td>40</td> <td style=\"font-weight: bold; font-size:15px; text-align:left\"><a href=\"/world-population/mongolia-population/\">Mongolia</a></td> <td style=\"font-weight: bold;\">3,278,290</td> <td>Eastern Asia</td> </tr> <tr> <td>41</td> <td style=\"font-weight: bold; font-size:15px; text-align:left\"><a href=\"/world-population/armenia-population/\">Armenia</a></td> <td style=\"font-weight: bold;\">2,963,243</td> <td>Western Asia</td> </tr> <tr> <td>42</td> <td style=\"font-weight: bold; font-size:15px; text-align:left\"><a href=\"/world-population/qatar-population/\">Qatar</a></td> <td style=\"font-weight: bold;\">2,881,053</td> <td>Western Asia</td> </tr> <tr> <td>43</td> <td style=\"font-weight: bold; font-size:15px; text-align:left\"><a href=\"/world-population/bahrain-population/\">Bahrain</a></td> <td style=\"font-weight: bold;\">1,701,575</td> <td>Western Asia</td> </tr> <tr> <td>44</td> <td style=\"font-weight: bold; font-size:15px; text-align:left\"><a href=\"/world-population/timor-leste-population/\">Timor-Leste</a></td> <td style=\"font-weight: bold;\">1,318,445</td> <td>South-Eastern Asia</td> </tr> <tr> <td>45</td> <td style=\"font-weight: bold; font-size:15px; text-align:left\"><a href=\"/world-population/cyprus-population/\">Cyprus</a></td> <td style=\"font-weight: bold;\">1,207,359</td> <td>Western Asia</td> </tr> <tr> <td>46</td> <td style=\"font-weight: bold; font-size:15px; text-align:left\"><a href=\"/world-population/bhutan-population/\">Bhutan</a></td> <td style=\"font-weight: bold;\">771,608</td> <td>Southern Asia</td> </tr> <tr> <td>47</td> <td style=\"font-weight: bold; font-size:15px; text-align:left\"><a href=\"/world-population/maldives-population/\">Maldives</a></td> <td style=\"font-weight: bold;\">540,544</td> <td>Southern Asia</td> </tr> <tr> <td>48</td> <td style=\"font-weight: bold; font-size:15px; text-align:left\"><a href=\"/world-population/brunei-darussalam-population/\">Brunei </a></td> <td style=\"font-weight: bold;\">437,479</td> <td>South-Eastern Asia</td> </tr> </tbody> </table>\n",
            "This is the content of all_th:  [<th>#</th>, <th>Country</th>, <th>Population<br/>(2020)</th>, <th>Subregion</th>]\n",
            "This is headers:  ['#', 'Country', 'Population(2020)', 'Subregion']\n",
            "[<th>#</th>, <th>Country</th>, <th>Population<br/>(2020)</th>, <th>Subregion</th>]\n"
          ]
        }
      ]
    },
    {
      "cell_type": "code",
      "source": [
        "#Part II: Retrieve the rows and store data in a list of dictionaries\n",
        "countries = []\n",
        "all_bodytr = co_table.find('tbody').find_all('tr')\n",
        "\n",
        "# 3 For Loops: one to go through rows, second to go through columns in each row,\n",
        "# third for loop to scrape data and create our dictionary!\n",
        "\n",
        "for row in all_bodytr:\n",
        "  values = []\n",
        "  for col in row.find_all('td'):\n",
        "      values.append(col.text)\n",
        "  if values:\n",
        "      co_dict = {}\n",
        "      for i in range(len(values)):\n",
        "        co_dict[headers[i]]=values[i]\n",
        "      countries.append(co_dict)\n",
        "\n",
        "print('All the countries at once \\n', countries)\n",
        "for country in countries:\n",
        "  print('country_dict: ', country)\n",
        "  print()"
      ],
      "metadata": {
        "colab": {
          "base_uri": "https://localhost:8080/"
        },
        "id": "wg_q0QwW57VW",
        "outputId": "3ef6bc10-a7b6-476b-e1bd-37c57f73ffb5"
      },
      "execution_count": 59,
      "outputs": [
        {
          "output_type": "stream",
          "name": "stdout",
          "text": [
            "All the countries at once \n",
            " [{'#': '1', 'Country': 'China', 'Population(2020)': '1,439,323,776', 'Subregion': 'Eastern Asia'}, {'#': '2', 'Country': 'India', 'Population(2020)': '1,380,004,385', 'Subregion': 'Southern Asia'}, {'#': '3', 'Country': 'Indonesia', 'Population(2020)': '273,523,615', 'Subregion': 'South-Eastern Asia'}, {'#': '4', 'Country': 'Pakistan', 'Population(2020)': '220,892,340', 'Subregion': 'Southern Asia'}, {'#': '5', 'Country': 'Bangladesh', 'Population(2020)': '164,689,383', 'Subregion': 'Southern Asia'}, {'#': '6', 'Country': 'Japan', 'Population(2020)': '126,476,461', 'Subregion': 'Eastern Asia'}, {'#': '7', 'Country': 'Philippines', 'Population(2020)': '109,581,078', 'Subregion': 'South-Eastern Asia'}, {'#': '8', 'Country': 'Vietnam', 'Population(2020)': '97,338,579', 'Subregion': 'South-Eastern Asia'}, {'#': '9', 'Country': 'Turkey', 'Population(2020)': '84,339,067', 'Subregion': 'Western Asia'}, {'#': '10', 'Country': 'Iran', 'Population(2020)': '83,992,949', 'Subregion': 'Southern Asia'}, {'#': '11', 'Country': 'Thailand', 'Population(2020)': '69,799,978', 'Subregion': 'South-Eastern Asia'}, {'#': '12', 'Country': 'Myanmar', 'Population(2020)': '54,409,800', 'Subregion': 'South-Eastern Asia'}, {'#': '13', 'Country': 'South Korea', 'Population(2020)': '51,269,185', 'Subregion': 'Eastern Asia'}, {'#': '14', 'Country': 'Iraq', 'Population(2020)': '40,222,493', 'Subregion': 'Western Asia'}, {'#': '15', 'Country': 'Afghanistan', 'Population(2020)': '38,928,346', 'Subregion': 'Southern Asia'}, {'#': '16', 'Country': 'Saudi Arabia', 'Population(2020)': '34,813,871', 'Subregion': 'Western Asia'}, {'#': '17', 'Country': 'Uzbekistan', 'Population(2020)': '33,469,203', 'Subregion': 'Central Asia'}, {'#': '18', 'Country': 'Malaysia', 'Population(2020)': '32,365,999', 'Subregion': 'South-Eastern Asia'}, {'#': '19', 'Country': 'Yemen', 'Population(2020)': '29,825,964', 'Subregion': 'Western Asia'}, {'#': '20', 'Country': 'Nepal', 'Population(2020)': '29,136,808', 'Subregion': 'Southern Asia'}, {'#': '21', 'Country': 'North Korea', 'Population(2020)': '25,778,816', 'Subregion': 'Eastern Asia'}, {'#': '22', 'Country': 'Sri Lanka', 'Population(2020)': '21,413,249', 'Subregion': 'Southern Asia'}, {'#': '23', 'Country': 'Kazakhstan', 'Population(2020)': '18,776,707', 'Subregion': 'Central Asia'}, {'#': '24', 'Country': 'Syria', 'Population(2020)': '17,500,658', 'Subregion': 'Western Asia'}, {'#': '25', 'Country': 'Cambodia', 'Population(2020)': '16,718,965', 'Subregion': 'South-Eastern Asia'}, {'#': '26', 'Country': 'Jordan', 'Population(2020)': '10,203,134', 'Subregion': 'Western Asia'}, {'#': '27', 'Country': 'Azerbaijan', 'Population(2020)': '10,139,177', 'Subregion': 'Western Asia'}, {'#': '28', 'Country': 'United Arab Emirates', 'Population(2020)': '9,890,402', 'Subregion': 'Western Asia'}, {'#': '29', 'Country': 'Tajikistan', 'Population(2020)': '9,537,645', 'Subregion': 'Central Asia'}, {'#': '30', 'Country': 'Israel', 'Population(2020)': '8,655,535', 'Subregion': 'Western Asia'}, {'#': '31', 'Country': 'Laos', 'Population(2020)': '7,275,560', 'Subregion': 'South-Eastern Asia'}, {'#': '32', 'Country': 'Lebanon', 'Population(2020)': '6,825,445', 'Subregion': 'Western Asia'}, {'#': '33', 'Country': 'Kyrgyzstan', 'Population(2020)': '6,524,195', 'Subregion': 'Central Asia'}, {'#': '34', 'Country': 'Turkmenistan', 'Population(2020)': '6,031,200', 'Subregion': 'Central Asia'}, {'#': '35', 'Country': 'Singapore', 'Population(2020)': '5,850,342', 'Subregion': 'South-Eastern Asia'}, {'#': '36', 'Country': 'Oman', 'Population(2020)': '5,106,626', 'Subregion': 'Western Asia'}, {'#': '37', 'Country': 'State of Palestine', 'Population(2020)': '5,101,414', 'Subregion': 'Western Asia'}, {'#': '38', 'Country': 'Kuwait', 'Population(2020)': '4,270,571', 'Subregion': 'Western Asia'}, {'#': '39', 'Country': 'Georgia', 'Population(2020)': '3,989,167', 'Subregion': 'Western Asia'}, {'#': '40', 'Country': 'Mongolia', 'Population(2020)': '3,278,290', 'Subregion': 'Eastern Asia'}, {'#': '41', 'Country': 'Armenia', 'Population(2020)': '2,963,243', 'Subregion': 'Western Asia'}, {'#': '42', 'Country': 'Qatar', 'Population(2020)': '2,881,053', 'Subregion': 'Western Asia'}, {'#': '43', 'Country': 'Bahrain', 'Population(2020)': '1,701,575', 'Subregion': 'Western Asia'}, {'#': '44', 'Country': 'Timor-Leste', 'Population(2020)': '1,318,445', 'Subregion': 'South-Eastern Asia'}, {'#': '45', 'Country': 'Cyprus', 'Population(2020)': '1,207,359', 'Subregion': 'Western Asia'}, {'#': '46', 'Country': 'Bhutan', 'Population(2020)': '771,608', 'Subregion': 'Southern Asia'}, {'#': '47', 'Country': 'Maldives', 'Population(2020)': '540,544', 'Subregion': 'Southern Asia'}, {'#': '48', 'Country': 'Brunei ', 'Population(2020)': '437,479', 'Subregion': 'South-Eastern Asia'}]\n",
            "country_dict:  {'#': '1', 'Country': 'China', 'Population(2020)': '1,439,323,776', 'Subregion': 'Eastern Asia'}\n",
            "\n",
            "country_dict:  {'#': '2', 'Country': 'India', 'Population(2020)': '1,380,004,385', 'Subregion': 'Southern Asia'}\n",
            "\n",
            "country_dict:  {'#': '3', 'Country': 'Indonesia', 'Population(2020)': '273,523,615', 'Subregion': 'South-Eastern Asia'}\n",
            "\n",
            "country_dict:  {'#': '4', 'Country': 'Pakistan', 'Population(2020)': '220,892,340', 'Subregion': 'Southern Asia'}\n",
            "\n",
            "country_dict:  {'#': '5', 'Country': 'Bangladesh', 'Population(2020)': '164,689,383', 'Subregion': 'Southern Asia'}\n",
            "\n",
            "country_dict:  {'#': '6', 'Country': 'Japan', 'Population(2020)': '126,476,461', 'Subregion': 'Eastern Asia'}\n",
            "\n",
            "country_dict:  {'#': '7', 'Country': 'Philippines', 'Population(2020)': '109,581,078', 'Subregion': 'South-Eastern Asia'}\n",
            "\n",
            "country_dict:  {'#': '8', 'Country': 'Vietnam', 'Population(2020)': '97,338,579', 'Subregion': 'South-Eastern Asia'}\n",
            "\n",
            "country_dict:  {'#': '9', 'Country': 'Turkey', 'Population(2020)': '84,339,067', 'Subregion': 'Western Asia'}\n",
            "\n",
            "country_dict:  {'#': '10', 'Country': 'Iran', 'Population(2020)': '83,992,949', 'Subregion': 'Southern Asia'}\n",
            "\n",
            "country_dict:  {'#': '11', 'Country': 'Thailand', 'Population(2020)': '69,799,978', 'Subregion': 'South-Eastern Asia'}\n",
            "\n",
            "country_dict:  {'#': '12', 'Country': 'Myanmar', 'Population(2020)': '54,409,800', 'Subregion': 'South-Eastern Asia'}\n",
            "\n",
            "country_dict:  {'#': '13', 'Country': 'South Korea', 'Population(2020)': '51,269,185', 'Subregion': 'Eastern Asia'}\n",
            "\n",
            "country_dict:  {'#': '14', 'Country': 'Iraq', 'Population(2020)': '40,222,493', 'Subregion': 'Western Asia'}\n",
            "\n",
            "country_dict:  {'#': '15', 'Country': 'Afghanistan', 'Population(2020)': '38,928,346', 'Subregion': 'Southern Asia'}\n",
            "\n",
            "country_dict:  {'#': '16', 'Country': 'Saudi Arabia', 'Population(2020)': '34,813,871', 'Subregion': 'Western Asia'}\n",
            "\n",
            "country_dict:  {'#': '17', 'Country': 'Uzbekistan', 'Population(2020)': '33,469,203', 'Subregion': 'Central Asia'}\n",
            "\n",
            "country_dict:  {'#': '18', 'Country': 'Malaysia', 'Population(2020)': '32,365,999', 'Subregion': 'South-Eastern Asia'}\n",
            "\n",
            "country_dict:  {'#': '19', 'Country': 'Yemen', 'Population(2020)': '29,825,964', 'Subregion': 'Western Asia'}\n",
            "\n",
            "country_dict:  {'#': '20', 'Country': 'Nepal', 'Population(2020)': '29,136,808', 'Subregion': 'Southern Asia'}\n",
            "\n",
            "country_dict:  {'#': '21', 'Country': 'North Korea', 'Population(2020)': '25,778,816', 'Subregion': 'Eastern Asia'}\n",
            "\n",
            "country_dict:  {'#': '22', 'Country': 'Sri Lanka', 'Population(2020)': '21,413,249', 'Subregion': 'Southern Asia'}\n",
            "\n",
            "country_dict:  {'#': '23', 'Country': 'Kazakhstan', 'Population(2020)': '18,776,707', 'Subregion': 'Central Asia'}\n",
            "\n",
            "country_dict:  {'#': '24', 'Country': 'Syria', 'Population(2020)': '17,500,658', 'Subregion': 'Western Asia'}\n",
            "\n",
            "country_dict:  {'#': '25', 'Country': 'Cambodia', 'Population(2020)': '16,718,965', 'Subregion': 'South-Eastern Asia'}\n",
            "\n",
            "country_dict:  {'#': '26', 'Country': 'Jordan', 'Population(2020)': '10,203,134', 'Subregion': 'Western Asia'}\n",
            "\n",
            "country_dict:  {'#': '27', 'Country': 'Azerbaijan', 'Population(2020)': '10,139,177', 'Subregion': 'Western Asia'}\n",
            "\n",
            "country_dict:  {'#': '28', 'Country': 'United Arab Emirates', 'Population(2020)': '9,890,402', 'Subregion': 'Western Asia'}\n",
            "\n",
            "country_dict:  {'#': '29', 'Country': 'Tajikistan', 'Population(2020)': '9,537,645', 'Subregion': 'Central Asia'}\n",
            "\n",
            "country_dict:  {'#': '30', 'Country': 'Israel', 'Population(2020)': '8,655,535', 'Subregion': 'Western Asia'}\n",
            "\n",
            "country_dict:  {'#': '31', 'Country': 'Laos', 'Population(2020)': '7,275,560', 'Subregion': 'South-Eastern Asia'}\n",
            "\n",
            "country_dict:  {'#': '32', 'Country': 'Lebanon', 'Population(2020)': '6,825,445', 'Subregion': 'Western Asia'}\n",
            "\n",
            "country_dict:  {'#': '33', 'Country': 'Kyrgyzstan', 'Population(2020)': '6,524,195', 'Subregion': 'Central Asia'}\n",
            "\n",
            "country_dict:  {'#': '34', 'Country': 'Turkmenistan', 'Population(2020)': '6,031,200', 'Subregion': 'Central Asia'}\n",
            "\n",
            "country_dict:  {'#': '35', 'Country': 'Singapore', 'Population(2020)': '5,850,342', 'Subregion': 'South-Eastern Asia'}\n",
            "\n",
            "country_dict:  {'#': '36', 'Country': 'Oman', 'Population(2020)': '5,106,626', 'Subregion': 'Western Asia'}\n",
            "\n",
            "country_dict:  {'#': '37', 'Country': 'State of Palestine', 'Population(2020)': '5,101,414', 'Subregion': 'Western Asia'}\n",
            "\n",
            "country_dict:  {'#': '38', 'Country': 'Kuwait', 'Population(2020)': '4,270,571', 'Subregion': 'Western Asia'}\n",
            "\n",
            "country_dict:  {'#': '39', 'Country': 'Georgia', 'Population(2020)': '3,989,167', 'Subregion': 'Western Asia'}\n",
            "\n",
            "country_dict:  {'#': '40', 'Country': 'Mongolia', 'Population(2020)': '3,278,290', 'Subregion': 'Eastern Asia'}\n",
            "\n",
            "country_dict:  {'#': '41', 'Country': 'Armenia', 'Population(2020)': '2,963,243', 'Subregion': 'Western Asia'}\n",
            "\n",
            "country_dict:  {'#': '42', 'Country': 'Qatar', 'Population(2020)': '2,881,053', 'Subregion': 'Western Asia'}\n",
            "\n",
            "country_dict:  {'#': '43', 'Country': 'Bahrain', 'Population(2020)': '1,701,575', 'Subregion': 'Western Asia'}\n",
            "\n",
            "country_dict:  {'#': '44', 'Country': 'Timor-Leste', 'Population(2020)': '1,318,445', 'Subregion': 'South-Eastern Asia'}\n",
            "\n",
            "country_dict:  {'#': '45', 'Country': 'Cyprus', 'Population(2020)': '1,207,359', 'Subregion': 'Western Asia'}\n",
            "\n",
            "country_dict:  {'#': '46', 'Country': 'Bhutan', 'Population(2020)': '771,608', 'Subregion': 'Southern Asia'}\n",
            "\n",
            "country_dict:  {'#': '47', 'Country': 'Maldives', 'Population(2020)': '540,544', 'Subregion': 'Southern Asia'}\n",
            "\n",
            "country_dict:  {'#': '48', 'Country': 'Brunei ', 'Population(2020)': '437,479', 'Subregion': 'South-Eastern Asia'}\n",
            "\n"
          ]
        }
      ]
    },
    {
      "cell_type": "code",
      "source": [
        "print('The total number of countries is: ', len(countries))"
      ],
      "metadata": {
        "colab": {
          "base_uri": "https://localhost:8080/"
        },
        "id": "655txPpG8v5r",
        "outputId": "25d13173-244f-463e-c883-9af5c19b44da"
      },
      "execution_count": 60,
      "outputs": [
        {
          "output_type": "stream",
          "name": "stdout",
          "text": [
            "The total number of countries is:  48\n"
          ]
        }
      ]
    },
    {
      "cell_type": "code",
      "source": [
        "from sys import float_repr_style\n",
        "#Part III: Calculation of total population \n",
        "#tot is total ratings and used to accumulate ratings\n",
        "tot = 0\n",
        "\n",
        "#dte is the data element in each row(countries in this case)\n",
        "for country in countries:\n",
        "     #remove special characters from ratings\n",
        "    dte = country['Population(2020)'].replace('\\n','')\n",
        "    f = float(dte.replace(',',''))\n",
        "    #transform to float and accumulate in tot\n",
        "    tot += f\n",
        "\n",
        "#To compute average, divide tot by the number of total countries\n",
        "pop_avg = tot/len(countries)\n",
        "\n",
        "print(\"Average Population for Countries in Asia (2020)\",\"{:.2f}\".format(pop_avg))"
      ],
      "metadata": {
        "colab": {
          "base_uri": "https://localhost:8080/"
        },
        "id": "S0YelqaU87BJ",
        "outputId": "c5b0505e-89bd-466b-8a41-ec6237e29fcc"
      },
      "execution_count": 61,
      "outputs": [
        {
          "output_type": "stream",
          "name": "stdout",
          "text": [
            "Average Population for Countries in Asia (2020) 96022743.42\n"
          ]
        }
      ]
    },
    {
      "cell_type": "code",
      "source": [
        "#Written Communication Part to Analyze Results\n",
        "#The total number of countries in Asia is 48.\n",
        "#All together the total population in all 48 countries in Asia is: \n",
        "#4,609,091,684.16\n",
        "#In order to calculate avg. pop. for 48 countries in Asia: \n",
        "#4609091684.16/48\n",
        "#The average population for countries in Asia was: \n",
        "# (4609091684.16/48) = 96,022,743.42 "
      ],
      "metadata": {
        "id": "qka_aw1WACtZ"
      },
      "execution_count": 62,
      "outputs": []
    }
  ]
}