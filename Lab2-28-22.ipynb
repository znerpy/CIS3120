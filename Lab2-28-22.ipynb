{
 "cells": [
  {
   "cell_type": "markdown",
   "metadata": {},
   "source": [
    "# Lab 2-28-22"
   ]
  },
  {
   "cell_type": "code",
   "execution_count": 2,
   "metadata": {},
   "outputs": [
    {
     "name": "stdout",
     "output_type": "stream",
     "text": [
      "Chronological List of Presidents, First Ladies, and Vice Presidents of the United States - Guides, Reference Aids, and Finding Aids (Prints andPhotographs Reading Room, Library of Congress)\n"
     ]
    }
   ],
   "source": [
    "#WebScraping US Presidents Table\n",
    "#PART A - Scraping headers\n",
    "\n",
    "import requests\n",
    "from bs4 import BeautifulSoup\n",
    "url = 'https://www.loc.gov/rr/print/list/057_chron.html'\n",
    "\n",
    "r = requests.get(url)\n",
    "src=r.content\n",
    "soup = BeautifulSoup(src, 'html.parser')\n",
    "print(soup.title.text)\n",
    "alltables = soup.find_all('table')"
   ]
  },
  {
   "cell_type": "code",
   "execution_count": 3,
   "metadata": {},
   "outputs": [
    {
     "name": "stdout",
     "output_type": "stream",
     "text": [
      "<class 'bs4.element.ResultSet'>\n"
     ]
    }
   ],
   "source": [
    "print(type(alltables))"
   ]
  },
  {
   "cell_type": "code",
   "execution_count": 6,
   "metadata": {},
   "outputs": [
    {
     "name": "stdout",
     "output_type": "stream",
     "text": [
      "['YEAR', 'PRESIDENT', 'FIRST LADY', 'VICE PRESIDENT']\n"
     ]
    }
   ],
   "source": [
    "usptable = alltables[3]\n",
    "\n",
    "#print(usptable.prettify())\n",
    "#We'll use a list of dictionaries to store the information\n",
    "preslist = []\n",
    "\n",
    "#First, we grab the headers and put them in a list\n",
    "headers = []\n",
    "\n",
    "# Fetch header cells from first row to determine field names\n",
    "for header in usptable.find('tr').find_all('th'):\n",
    "    headers.append(header.text)\n",
    "\n",
    "print(headers)"
   ]
  },
  {
   "cell_type": "code",
   "execution_count": 7,
   "metadata": {},
   "outputs": [
    {
     "name": "stdout",
     "output_type": "stream",
     "text": [
      "{'YEAR': '1789-1797', 'PRESIDENT': 'George Washington', 'FIRST LADY': 'Martha Washington', 'VICE PRESIDENT': 'John Adams'}\n",
      "{'YEAR': '1797-1801', 'PRESIDENT': 'John Adams', 'FIRST LADY': 'Abigail Adams', 'VICE PRESIDENT': 'Thomas Jefferson'}\n",
      "{'YEAR': '1801-1805', 'PRESIDENT': 'Thomas Jefferson', 'FIRST LADY': '[Martha Wayles Skelton Jefferson \\n    died before Jefferson assumed office;\\nno image of her in P&P collections]', 'VICE PRESIDENT': 'Aaron Burr'}\n",
      "{'YEAR': '1805-1809', 'PRESIDENT': 'Thomas Jefferson', 'FIRST LADY': 'see above', 'VICE PRESIDENT': 'George Clinton'}\n",
      "{'YEAR': '1809-1812', 'PRESIDENT': 'James Madison', 'FIRST LADY': 'Dolley Madison', 'VICE PRESIDENT': 'George Clinton'}\n",
      "{'YEAR': '1812-1813', 'PRESIDENT': 'James Madison', 'FIRST LADY': 'Dolley Madison', 'VICE PRESIDENT': 'office vacant'}\n",
      "{'YEAR': '1813-1814', 'PRESIDENT': 'James Madison', 'FIRST LADY': 'Dolley Madison', 'VICE PRESIDENT': 'Elbridge Gerry'}\n",
      "{'YEAR': '1814-1817', 'PRESIDENT': 'James Madison', 'FIRST LADY': 'Dolley Madison', 'VICE PRESIDENT': 'office vacant'}\n",
      "{'YEAR': '1817-1825', 'PRESIDENT': 'James Monroe', 'FIRST LADY': 'Elizabeth Kortright Monroe\\n   (no image)', 'VICE PRESIDENT': 'Daniel D. Tompkins'}\n",
      "{'YEAR': '1825-1829', 'PRESIDENT': 'John Quincy Adams', 'FIRST LADY': 'Louisa Catherine Adams', 'VICE PRESIDENT': 'John C. Calhoun'}\n",
      "{'YEAR': '1829-1832', 'PRESIDENT': 'Andrew Jackson', 'FIRST LADY': 'Rachel Jackson [Rachel Donelson Jackson \\ndied before Jackson assumed office and did not serve as first lady]', 'VICE PRESIDENT': 'John C. Calhoun'}\n",
      "{'YEAR': '1833-1837', 'PRESIDENT': 'Andrew Jackson', 'FIRST LADY': 'Rachel Jackson [Rachel Donelson Jackson \\ndied before Jackson assumed office and did not serve as first lady]', 'VICE PRESIDENT': 'Martin Van Buren'}\n",
      "{'YEAR': '1837-1841', 'PRESIDENT': 'Martin Van Buren', 'FIRST LADY': 'Hannah Hoes Van Buren', 'VICE PRESIDENT': 'Richard M. Johnson'}\n",
      "{'YEAR': '1841', 'PRESIDENT': 'William Henry Harrison', 'FIRST LADY': 'Anna Tuthill Symmes Harrison', 'VICE PRESIDENT': 'John Tyler'}\n",
      "{'YEAR': '1841-1845', 'PRESIDENT': 'John Tyler', 'FIRST LADY': 'Letitia Christian Tyler and Julia Gardiner Tyler (no images)', 'VICE PRESIDENT': 'office vacant'}\n",
      "{'YEAR': '1845-1849', 'PRESIDENT': 'James K. Polk', 'FIRST LADY': 'Sarah Childress Polk', 'VICE PRESIDENT': 'George M. Dallas'}\n",
      "{'YEAR': '1849-1850', 'PRESIDENT': 'Zachary Taylor', 'FIRST LADY': 'Margaret Mackall Smith Taylor\\n   (no image)', 'VICE PRESIDENT': 'Millard Fillmore'}\n",
      "{'YEAR': '1850-1853', 'PRESIDENT': 'Millard Fillmore', 'FIRST LADY': 'Abigail Powers Fillmore', 'VICE PRESIDENT': 'office vacant'}\n",
      "{'YEAR': '1853', 'PRESIDENT': 'Franklin Pierce', 'FIRST LADY': 'Jane M. Pierce', 'VICE PRESIDENT': 'William R. King'}\n",
      "{'YEAR': '1853-1857', 'PRESIDENT': 'Franklin Pierce', 'FIRST LADY': 'Jane M. Pierce', 'VICE PRESIDENT': 'office vacant'}\n",
      "{'YEAR': '1857-1861', 'PRESIDENT': 'James Buchanan', 'FIRST LADY': '(never married)', 'VICE PRESIDENT': 'John C. Breckinridge'}\n",
      "{'YEAR': '1861-1865', 'PRESIDENT': 'Abraham Lincoln', 'FIRST LADY': 'Mary Todd Lincoln', 'VICE PRESIDENT': 'Hannibal Hamlin'}\n",
      "{'YEAR': '1865', 'PRESIDENT': 'Abraham Lincoln', 'FIRST LADY': 'Mary Todd Lincoln', 'VICE PRESIDENT': 'Andrew Johnson'}\n",
      "{'YEAR': '1865-1869', 'PRESIDENT': 'Andrew Johnson', 'FIRST LADY': 'Eliza McCardle Johnson', 'VICE PRESIDENT': 'office vacant'}\n",
      "{'YEAR': '1869-1873', 'PRESIDENT': 'Ulysses S. Grant', 'FIRST LADY': 'Julia Dent Grant', 'VICE PRESIDENT': 'Schuyler Colfax'}\n",
      "{'YEAR': '1873-1875', 'PRESIDENT': 'Ulysses S. Grant', 'FIRST LADY': 'Julia Dent Grant', 'VICE PRESIDENT': 'Henry Wilson'}\n",
      "{'YEAR': '1875-1877', 'PRESIDENT': 'Ulysses S. Grant', 'FIRST LADY': 'Julia Dent Grant', 'VICE PRESIDENT': 'office vacant'}\n",
      "{'YEAR': '1877-1881', 'PRESIDENT': 'Rutherford Birchard Hayes', 'FIRST LADY': 'Lucy Webb Hayes', 'VICE PRESIDENT': 'William A. Wheeler'}\n",
      "{'YEAR': '1881', 'PRESIDENT': 'James A. Garfield', 'FIRST LADY': 'Lucretia Rudolph Garfield', 'VICE PRESIDENT': 'Chester A. Arthur'}\n",
      "{'YEAR': '1881-1885', 'PRESIDENT': 'Chester A. Arthur', 'FIRST LADY': 'Ellen Lewis Herndon Arthur', 'VICE PRESIDENT': 'office vacant'}\n",
      "{'YEAR': '1885', 'PRESIDENT': 'Grover Cleveland', 'FIRST LADY': 'Frances Folsom Cleveland', 'VICE PRESIDENT': 'Thomas A. Hendricks'}\n",
      "{'YEAR': '1885-1889', 'PRESIDENT': 'Grover Cleveland', 'FIRST LADY': 'Frances Folsom Cleveland', 'VICE PRESIDENT': 'office vacant'}\n",
      "{'YEAR': '1889-1893', 'PRESIDENT': 'Benjamin Harrison', 'FIRST LADY': \"Caroline Lavinia Scott Harrison\\nMary Lord Harrison\\n   [Harrison's second wife,\\n    but never a first lady]\", 'VICE PRESIDENT': 'Levi P. Morton'}\n",
      "{'YEAR': '1893-1897', 'PRESIDENT': 'Grover Cleveland', 'FIRST LADY': 'Frances Folsom Cleveland', 'VICE PRESIDENT': 'Adlai E. Stevenson'}\n",
      "{'YEAR': '1897-1899', 'PRESIDENT': 'William McKinley', 'FIRST LADY': 'Ida Saxton McKinley', 'VICE PRESIDENT': 'Garret A. Hobart'}\n",
      "{'YEAR': '1899-1901', 'PRESIDENT': 'William McKinley', 'FIRST LADY': 'Ida Saxton McKinley', 'VICE PRESIDENT': 'office vacant'}\n",
      "{'YEAR': '1901', 'PRESIDENT': 'William McKinley', 'FIRST LADY': 'Ida Saxton McKinley', 'VICE PRESIDENT': 'Theodore Roosevelt'}\n",
      "{'YEAR': '1901-1905', 'PRESIDENT': 'Theodore Roosevelt', 'FIRST LADY': 'Edith Kermit Carow Roosevelt', 'VICE PRESIDENT': 'office vacant'}\n",
      "{'YEAR': '1905-1909', 'PRESIDENT': 'Theodore Roosevelt', 'FIRST LADY': 'Edith Kermit Carow Roosevelt', 'VICE PRESIDENT': 'Charles W. Fairbanks'}\n",
      "{'YEAR': '1909-1912', 'PRESIDENT': 'William H. Taft', 'FIRST LADY': 'Helen Herron Taft', 'VICE PRESIDENT': 'James S. Sherman'}\n",
      "{'YEAR': '1912-1913', 'PRESIDENT': 'William H. Taft', 'FIRST LADY': 'Helen Herron Taft', 'VICE PRESIDENT': 'office vacant'}\n",
      "{'YEAR': '1913-1921', 'PRESIDENT': 'Woodrow Wilson', 'FIRST LADY': 'Ellen Axson Wilson and \\nEdith\\n      Bolling Galt Wilson', 'VICE PRESIDENT': 'Thomas R. Marshall'}\n",
      "{'YEAR': '1921-1923', 'PRESIDENT': 'Warren G. Harding', 'FIRST LADY': 'Florence Kling Harding', 'VICE PRESIDENT': 'Calvin Coolidge'}\n",
      "{'YEAR': '1923-1925', 'PRESIDENT': 'Calvin Coolidge', 'FIRST LADY': 'Grace Goodhue Coolidge', 'VICE PRESIDENT': 'office vacant'}\n",
      "{'YEAR': '1925-1929', 'PRESIDENT': 'Calvin Coolidge', 'FIRST LADY': 'Grace Goodhue Coolidge', 'VICE PRESIDENT': 'Charles G. Dawes'}\n",
      "{'YEAR': '1929-1933', 'PRESIDENT': 'Herbert Hoover', 'FIRST LADY': 'Lou Henry Hoover', 'VICE PRESIDENT': 'Charles Curtis'}\n",
      "{'YEAR': '1933-1941', 'PRESIDENT': 'Franklin D. Roosevelt', 'FIRST LADY': 'Eleanor Roosevelt', 'VICE PRESIDENT': 'John N. Garner'}\n",
      "{'YEAR': '1941-1945', 'PRESIDENT': 'Franklin D. Roosevelt', 'FIRST LADY': 'Eleanor Roosevelt', 'VICE PRESIDENT': 'Henry A. Wallace'}\n",
      "{'YEAR': '1945', 'PRESIDENT': 'Franklin D. Roosevelt', 'FIRST LADY': 'Eleanor Roosevelt', 'VICE PRESIDENT': 'Harry S. Truman'}\n",
      "{'YEAR': '1945-1949', 'PRESIDENT': 'Harry S. Truman', 'FIRST LADY': 'Bess Wallace Truman', 'VICE PRESIDENT': 'office vacant'}\n",
      "{'YEAR': '1949-1953', 'PRESIDENT': 'Harry S. Truman', 'FIRST LADY': 'Bess Wallace Truman', 'VICE PRESIDENT': 'Barkley, Alben W.'}\n",
      "{'YEAR': '1953-1961', 'PRESIDENT': 'Dwight D. Eisenhower', 'FIRST LADY': 'Mamie Doud Eisenhower', 'VICE PRESIDENT': 'Richard M. Nixon'}\n",
      "{'YEAR': '1961-1963', 'PRESIDENT': 'John F. Kennedy', 'FIRST LADY': 'Jacqueline Kennedy', 'VICE PRESIDENT': 'Lyndon B. Johnson'}\n",
      "{'YEAR': '1963-1965', 'PRESIDENT': 'Lyndon B. Johnson', 'FIRST LADY': 'Lady Bird Johnson', 'VICE PRESIDENT': 'office vacant'}\n",
      "{'YEAR': '1965-1969', 'PRESIDENT': 'Lyndon B. Johnson', 'FIRST LADY': 'Lady Bird Johnson', 'VICE PRESIDENT': 'Hubert H. Humphrey'}\n",
      "{'YEAR': '1969-1973', 'PRESIDENT': 'Richard M. Nixon', 'FIRST LADY': 'Pat Nixon', 'VICE PRESIDENT': 'Spiro T. Agnew'}\n",
      "{'YEAR': '1973-1974', 'PRESIDENT': 'Richard M. Nixon', 'FIRST LADY': 'Pat Nixon', 'VICE PRESIDENT': 'Gerald R. Ford'}\n",
      "{'YEAR': '1974-1977', 'PRESIDENT': 'Gerald R. Ford', 'FIRST LADY': 'Betty Ford', 'VICE PRESIDENT': 'Nelson Rockefeller'}\n",
      "{'YEAR': '1977-1981', 'PRESIDENT': 'Jimmy Carter', 'FIRST LADY': 'Rosalynn Carter', 'VICE PRESIDENT': 'Walter F. Mondale'}\n",
      "{'YEAR': '1981-1989', 'PRESIDENT': 'Ronald Reagan', 'FIRST LADY': 'Nancy Reagan', 'VICE PRESIDENT': 'George Bush'}\n",
      "{'YEAR': '1989-1993', 'PRESIDENT': 'George Bush', 'FIRST LADY': 'Barbara Bush', 'VICE PRESIDENT': 'Dan Quayle'}\n",
      "{'YEAR': '1993-2001', 'PRESIDENT': 'Bill Clinton', 'FIRST LADY': 'Hillary Rodham Clinton', 'VICE PRESIDENT': 'Albert Gore'}\n",
      "{'YEAR': '2001-2009', 'PRESIDENT': 'George W. Bush', 'FIRST LADY': 'Laura Bush', 'VICE PRESIDENT': 'Richard Cheney'}\n",
      "{'YEAR': '2009-2017', 'PRESIDENT': 'Barack Obama', 'FIRST LADY': 'Michelle Obama', 'VICE PRESIDENT': 'Joseph R. Biden'}\n",
      "{'YEAR': '2017-2021', 'PRESIDENT': 'Donald J. Trump', 'FIRST LADY': 'Melania Trump', 'VICE PRESIDENT': 'Mike Pence'}\n",
      "{'YEAR': '2021-', 'PRESIDENT': 'Joseph R. Biden', 'FIRST LADY': 'Jill Biden', 'VICE PRESIDENT': 'Kamala Harris'}\n"
     ]
    }
   ],
   "source": [
    "#PART B - Scraping data rows\n",
    "# Then, we grab the rows after the header (i.e. skip the first row with [1:])\n",
    "rows = usptable.find_all(\"tr\")[1:]\n",
    "for row in rows:\n",
    "    values = []\n",
    "    # And get the column cells with all td tags\n",
    "    for col in row.find_all('td'):\n",
    "        values.append(col.text)\n",
    "        \n",
    "        #Each president info is stored in a dictionary with the headers and the values\n",
    "    if values:\n",
    "        pres_dict = {}\n",
    "        for i in range(len(values)):\n",
    "            pres_dict[headers[i]] = values[i]\n",
    "        preslist.append(pres_dict)\n",
    "\n",
    "# Show the results\n",
    "for ipres in preslist:\n",
    "    print(ipres)"
   ]
  },
  {
   "cell_type": "code",
   "execution_count": 8,
   "metadata": {},
   "outputs": [
    {
     "name": "stdout",
     "output_type": "stream",
     "text": [
      "George Washington\n",
      "John Adams\n",
      "Thomas Jefferson\n",
      "Thomas Jefferson\n",
      "James Madison\n",
      "James Madison\n",
      "James Madison\n",
      "James Madison\n",
      "James Monroe\n",
      "John Quincy Adams\n",
      "Andrew Jackson\n",
      "Andrew Jackson\n",
      "Martin Van Buren\n",
      "William Henry Harrison\n",
      "John Tyler\n",
      "James K. Polk\n",
      "Zachary Taylor\n",
      "Millard Fillmore\n",
      "Franklin Pierce\n",
      "Franklin Pierce\n",
      "James Buchanan\n",
      "Abraham Lincoln\n",
      "Abraham Lincoln\n",
      "Andrew Johnson\n",
      "Ulysses S. Grant\n",
      "Ulysses S. Grant\n",
      "Ulysses S. Grant\n",
      "Rutherford Birchard Hayes\n",
      "James A. Garfield\n",
      "Chester A. Arthur\n",
      "Grover Cleveland\n",
      "Grover Cleveland\n",
      "Benjamin Harrison\n",
      "Grover Cleveland\n",
      "William McKinley\n",
      "William McKinley\n",
      "William McKinley\n",
      "Theodore Roosevelt\n",
      "Theodore Roosevelt\n",
      "William H. Taft\n",
      "William H. Taft\n",
      "Woodrow Wilson\n",
      "Warren G. Harding\n",
      "Calvin Coolidge\n",
      "Calvin Coolidge\n",
      "Herbert Hoover\n",
      "Franklin D. Roosevelt\n",
      "Franklin D. Roosevelt\n",
      "Franklin D. Roosevelt\n",
      "Harry S. Truman\n",
      "Harry S. Truman\n",
      "Dwight D. Eisenhower\n",
      "John F. Kennedy\n",
      "Lyndon B. Johnson\n",
      "Lyndon B. Johnson\n",
      "Richard M. Nixon\n",
      "Richard M. Nixon\n",
      "Gerald R. Ford\n",
      "Jimmy Carter\n",
      "Ronald Reagan\n",
      "George Bush\n",
      "Bill Clinton\n",
      "George W. Bush\n",
      "Barack Obama\n",
      "Donald J. Trump\n",
      "Joseph R. Biden\n"
     ]
    }
   ],
   "source": [
    "#PART C - Getting only the names and creating a list\n",
    "name_list = []\n",
    "for ipres in preslist:\n",
    "    name= ipres['PRESIDENT']\n",
    "    print(name)\n",
    "    name_list.append(name)"
   ]
  },
  {
   "cell_type": "code",
   "execution_count": 9,
   "metadata": {},
   "outputs": [
    {
     "name": "stdout",
     "output_type": "stream",
     "text": [
      "['George Washington', 'John Adams', 'Thomas Jefferson', 'James Madison', 'James Monroe', 'John Quincy Adams', 'Andrew Jackson', 'Martin Van Buren', 'William Henry Harrison', 'John Tyler', 'James K. Polk', 'Zachary Taylor', 'Millard Fillmore', 'Franklin Pierce', 'James Buchanan', 'Abraham Lincoln', 'Andrew Johnson', 'Ulysses S. Grant', 'Rutherford Birchard Hayes', 'James A. Garfield', 'Chester A. Arthur', 'Grover Cleveland', 'Benjamin Harrison', 'William McKinley', 'Theodore Roosevelt', 'William H. Taft', 'Woodrow Wilson', 'Warren G. Harding', 'Calvin Coolidge', 'Herbert Hoover', 'Franklin D. Roosevelt', 'Harry S. Truman', 'Dwight D. Eisenhower', 'John F. Kennedy', 'Lyndon B. Johnson', 'Richard M. Nixon', 'Gerald R. Ford', 'Jimmy Carter', 'Ronald Reagan', 'George Bush', 'Bill Clinton', 'George W. Bush', 'Barack Obama', 'Donald J. Trump', 'Joseph R. Biden']\n",
      "\n",
      "Current president is #  45\n"
     ]
    }
   ],
   "source": [
    "#PART D - Getting non-dup names in list and verifying count\n",
    "name_list = []\n",
    "for ipres in preslist:\n",
    "    name= ipres['PRESIDENT']\n",
    "    if name not in name_list:\n",
    "        name_list.append(name)\n",
    "print(name_list)\n",
    "print()\n",
    "print('Current president is # ', len(name_list))"
   ]
  },
  {
   "cell_type": "code",
   "execution_count": 10,
   "metadata": {},
   "outputs": [
    {
     "name": "stdout",
     "output_type": "stream",
     "text": [
      "['George Washington', 'John Adams', 'Thomas Jefferson', 'James Madison', 'James Monroe', 'John Quincy Adams', 'Andrew Jackson', 'Martin Van Buren', 'William Henry Harrison', 'John Tyler', 'James K. Polk', 'Zachary Taylor', 'Millard Fillmore', 'Franklin Pierce', 'James Buchanan', 'Abraham Lincoln', 'Andrew Johnson', 'Ulysses S. Grant', 'Rutherford Birchard Hayes', 'James A. Garfield', 'Chester A. Arthur', 'Grover Cleveland', 'Benjamin Harrison', 'Grover Cleveland', 'William McKinley', 'Theodore Roosevelt', 'William H. Taft', 'Woodrow Wilson', 'Warren G. Harding', 'Calvin Coolidge', 'Herbert Hoover', 'Franklin D. Roosevelt', 'Harry S. Truman', 'Dwight D. Eisenhower', 'John F. Kennedy', 'Lyndon B. Johnson', 'Richard M. Nixon', 'Gerald R. Ford', 'Jimmy Carter', 'Ronald Reagan', 'George Bush', 'Bill Clinton', 'George W. Bush', 'Barack Obama', 'Donald J. Trump', 'Joseph R. Biden']\n",
      "\n",
      "Current president is #  46\n"
     ]
    }
   ],
   "source": [
    "#PART E - Fixing Cleveland's non-continuous term\n",
    "name_list = []\n",
    "prev_pres = ''\n",
    "for ipres in preslist:\n",
    "    name = ipres['PRESIDENT']\n",
    "    if name != prev_pres:\n",
    "        name_list.append(name)\n",
    "        prev_pres = name\n",
    "print(name_list)   \n",
    "print()\n",
    "print('Current president is # ', len(name_list))"
   ]
  },
  {
   "cell_type": "code",
   "execution_count": 14,
   "metadata": {},
   "outputs": [
    {
     "name": "stdout",
     "output_type": "stream",
     "text": [
      " 1. George Washington\n",
      " 2. John Adams\n",
      " 3. Thomas Jefferson\n",
      " 4. James Madison\n",
      " 5. James Monroe\n",
      " 6. John Quincy Adams\n",
      " 7. Andrew Jackson\n",
      " 8. Martin Van Buren\n",
      " 9. William Henry Harrison\n",
      " 10. John Tyler\n",
      " 11. James K. Polk\n",
      " 12. Zachary Taylor\n",
      " 13. Millard Fillmore\n",
      " 14. Franklin Pierce\n",
      " 15. James Buchanan\n",
      " 16. Abraham Lincoln\n",
      " 17. Andrew Johnson\n",
      " 18. Ulysses S. Grant\n",
      " 19. Rutherford Birchard Hayes\n",
      " 20. James A. Garfield\n",
      " 21. Chester A. Arthur\n",
      " 22. Grover Cleveland\n",
      " 23. Benjamin Harrison\n",
      " 24. Grover Cleveland\n",
      " 25. William McKinley\n",
      " 26. Theodore Roosevelt\n",
      " 27. William H. Taft\n",
      " 28. Woodrow Wilson\n",
      " 29. Warren G. Harding\n",
      " 30. Calvin Coolidge\n",
      " 31. Herbert Hoover\n",
      " 32. Franklin D. Roosevelt\n",
      " 33. Harry S. Truman\n",
      " 34. Dwight D. Eisenhower\n",
      " 35. John F. Kennedy\n",
      " 36. Lyndon B. Johnson\n",
      " 37. Richard M. Nixon\n",
      " 38. Gerald R. Ford\n",
      " 39. Jimmy Carter\n",
      " 40. Ronald Reagan\n",
      " 41. George Bush\n",
      " 42. Bill Clinton\n",
      " 43. George W. Bush\n",
      " 44. Barack Obama\n",
      " 45. Donald J. Trump\n",
      " 46. Joseph R. Biden\n"
     ]
    }
   ],
   "source": [
    "#PART F - Printing the numbered list with enumerate\n",
    "for i, name in enumerate(name_list, 1):\n",
    "    print(\" %d. %s\" % (i, name))\n",
    "    #print(i, name)"
   ]
  },
  {
   "cell_type": "code",
   "execution_count": null,
   "metadata": {},
   "outputs": [],
   "source": []
  }
 ],
 "metadata": {
  "kernelspec": {
   "display_name": "Python 3",
   "language": "python",
   "name": "python3"
  },
  "language_info": {
   "codemirror_mode": {
    "name": "ipython",
    "version": 3
   },
   "file_extension": ".py",
   "mimetype": "text/x-python",
   "name": "python",
   "nbconvert_exporter": "python",
   "pygments_lexer": "ipython3",
   "version": "3.7.3"
  }
 },
 "nbformat": 4,
 "nbformat_minor": 2
}
