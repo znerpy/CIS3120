{
 "cells": [
  {
   "attachments": {},
   "cell_type": "markdown",
   "id": "435b8eae",
   "metadata": {},
   "source": [
    "Requirements: \n",
    "\n",
    "Using the endpoint and parameters assigned to you (based on your group number), write Python code to use the News API and extract the required news headlines (extract the titles only). Store the headlines in a Pandas DataFrame and add for each one the corresponding number, the length in characters, and the total number of words. Make sure you label appropriately the four columns in the DataFrame. Once you create the DataFrame print it as output and save it in a csv file. Calculate and print the average number of characters and average number of words for the headlines in your DataFrame. \n",
    "\n",
    "Written Communication component: Add an explanatory comment at the end of your notebook interpreting the results of your code."
   ]
  },
  {
   "cell_type": "code",
   "execution_count": 13,
   "id": "27408ade",
   "metadata": {},
   "outputs": [],
   "source": [
    "#import requests \n",
    "import requests\n",
    "import pandas as pd "
   ]
  },
  {
   "cell_type": "code",
   "execution_count": 3,
   "id": "9ad464af",
   "metadata": {},
   "outputs": [],
   "source": [
    "#we create URL for blockchain for date April 8th 2022 sorted by popularity\n",
    "#url = ('http://newsapi.org/v2/everything?' #search everything\n",
    "       'q=blockchain&' \n",
    "       #q - search for blockchain\n",
    "       #qInTitle - request to Keywords or phrases to search for keyword in the article title only.\n",
    "       'from=2022-03-30&'#from date\n",
    "       'to=2022-04-08&'#to date\n",
    "       'domains=bbc.co.uk&'#domains that we want\n",
    "       'language=en&'#choose your language\n",
    "       'sortBy=popularity&'#if we want to sort by popularity,relevancy or publishedAt\n",
    "       'pageSize=47&' #47 headlines\n",
    "       'apiKey=a839f2974115438e90cddae80d24bc11') #randomnly generated API key \n",
    "\n",
    "#create request to get news article from newsapi\n",
    "#response = requests.get(url)"
   ]
  },
  {
   "cell_type": "code",
   "execution_count": 4,
   "id": "0be55bec",
   "metadata": {},
   "outputs": [
    {
     "data": {
      "text/plain": [
       "<Response [200]>"
      ]
     },
     "execution_count": 4,
     "metadata": {},
     "output_type": "execute_result"
    }
   ],
   "source": [
    "#Test the connection \n",
    "response"
   ]
  },
  {
   "cell_type": "code",
   "execution_count": 5,
   "id": "08d97a52",
   "metadata": {},
   "outputs": [
    {
     "data": {
      "text/plain": [
       "{'status': 'ok',\n",
       " 'totalResults': 2,\n",
       " 'articles': [{'source': {'id': 'bbc-news', 'name': 'BBC News'},\n",
       "   'author': 'https://www.facebook.com/bbcnews',\n",
       "   'title': 'Does it matter if we know where our food comes from?',\n",
       "   'description': \"Increasingly sophisticated tech tells us more than ever about our food's journey from farm to fork.\",\n",
       "   'url': 'https://www.bbc.co.uk/news/business-60617094',\n",
       "   'urlToImage': 'https://ichef.bbci.co.uk/news/1024/branded_news/87FA/production/_124001843_opensc17mai2021-1655-1-dragged.jpg',\n",
       "   'publishedAt': '2022-04-04T23:05:05Z',\n",
       "   'content': 'By Elna SchutzBusiness reporter, South Africa\\r\\nImage source, Cito Victoir Magwane of TechnoServe\\r\\nImage caption, Faustin Mulomba\\'s family has strong ties to the coffee business\\r\\n\"My parents were coff… [+6903 chars]'},\n",
       "  {'source': {'id': 'bbc-news', 'name': 'BBC News'},\n",
       "   'author': 'https://www.facebook.com/bbcnews',\n",
       "   'title': 'Cryptocurrency: UK Treasury to regulate some stablecoins',\n",
       "   'description': 'Treasury Minister John Glen says \"stablecoins\" could be used as a means of payment.',\n",
       "   'url': 'https://www.bbc.co.uk/news/business-60983561',\n",
       "   'urlToImage': 'https://ichef.bbci.co.uk/news/1024/branded_news/12317/production/_121491547_digitalcurrency.jpg',\n",
       "   'publishedAt': '2022-04-04T14:38:51Z',\n",
       "   'content': 'By Michael RaceBusiness reporter, BBC News\\r\\nMedia caption, What is cryptocurrency and how does it work?\\r\\nThe UK government has announced plans to regulate some cryptocurrencies.\\r\\nTreasury minister Jo… [+1559 chars]'}]}"
      ]
     },
     "execution_count": 5,
     "metadata": {},
     "output_type": "execute_result"
    }
   ],
   "source": [
    "#Create JSON format \n",
    "blockchainheadline = response.json()\n",
    "blockchainheadline"
   ]
  },
  {
   "cell_type": "code",
   "execution_count": 6,
   "id": "988d9119",
   "metadata": {},
   "outputs": [
    {
     "data": {
      "text/plain": [
       "['articles', 'status', 'totalResults']"
      ]
     },
     "execution_count": 6,
     "metadata": {},
     "output_type": "execute_result"
    }
   ],
   "source": [
    "#sort them out, we can see that they are sorted according to articles , status and total results.\n",
    "sorted(blockchainheadline.keys())"
   ]
  },
  {
   "cell_type": "code",
   "execution_count": 7,
   "id": "ad129838",
   "metadata": {},
   "outputs": [
    {
     "data": {
      "text/plain": [
       "[{'source': {'id': 'bbc-news', 'name': 'BBC News'},\n",
       "  'author': 'https://www.facebook.com/bbcnews',\n",
       "  'title': 'Does it matter if we know where our food comes from?',\n",
       "  'description': \"Increasingly sophisticated tech tells us more than ever about our food's journey from farm to fork.\",\n",
       "  'url': 'https://www.bbc.co.uk/news/business-60617094',\n",
       "  'urlToImage': 'https://ichef.bbci.co.uk/news/1024/branded_news/87FA/production/_124001843_opensc17mai2021-1655-1-dragged.jpg',\n",
       "  'publishedAt': '2022-04-04T23:05:05Z',\n",
       "  'content': 'By Elna SchutzBusiness reporter, South Africa\\r\\nImage source, Cito Victoir Magwane of TechnoServe\\r\\nImage caption, Faustin Mulomba\\'s family has strong ties to the coffee business\\r\\n\"My parents were coff… [+6903 chars]'},\n",
       " {'source': {'id': 'bbc-news', 'name': 'BBC News'},\n",
       "  'author': 'https://www.facebook.com/bbcnews',\n",
       "  'title': 'Cryptocurrency: UK Treasury to regulate some stablecoins',\n",
       "  'description': 'Treasury Minister John Glen says \"stablecoins\" could be used as a means of payment.',\n",
       "  'url': 'https://www.bbc.co.uk/news/business-60983561',\n",
       "  'urlToImage': 'https://ichef.bbci.co.uk/news/1024/branded_news/12317/production/_121491547_digitalcurrency.jpg',\n",
       "  'publishedAt': '2022-04-04T14:38:51Z',\n",
       "  'content': 'By Michael RaceBusiness reporter, BBC News\\r\\nMedia caption, What is cryptocurrency and how does it work?\\r\\nThe UK government has announced plans to regulate some cryptocurrencies.\\r\\nTreasury minister Jo… [+1559 chars]'}]"
      ]
     },
     "execution_count": 7,
     "metadata": {},
     "output_type": "execute_result"
    }
   ],
   "source": [
    "#we only want the articles for the keyword \n",
    "blockchainheadline = blockchainheadline['articles']\n",
    "blockchainheadline"
   ]
  },
  {
   "cell_type": "code",
   "execution_count": 8,
   "id": "881e34ce",
   "metadata": {},
   "outputs": [
    {
     "data": {
      "text/html": [
       "<div>\n",
       "<style scoped>\n",
       "    .dataframe tbody tr th:only-of-type {\n",
       "        vertical-align: middle;\n",
       "    }\n",
       "\n",
       "    .dataframe tbody tr th {\n",
       "        vertical-align: top;\n",
       "    }\n",
       "\n",
       "    .dataframe thead th {\n",
       "        text-align: right;\n",
       "    }\n",
       "</style>\n",
       "<table border=\"1\" class=\"dataframe\">\n",
       "  <thead>\n",
       "    <tr style=\"text-align: right;\">\n",
       "      <th></th>\n",
       "      <th>source</th>\n",
       "      <th>author</th>\n",
       "      <th>title</th>\n",
       "      <th>description</th>\n",
       "      <th>url</th>\n",
       "      <th>urlToImage</th>\n",
       "      <th>publishedAt</th>\n",
       "      <th>content</th>\n",
       "    </tr>\n",
       "  </thead>\n",
       "  <tbody>\n",
       "    <tr>\n",
       "      <th>0</th>\n",
       "      <td>{'id': 'bbc-news', 'name': 'BBC News'}</td>\n",
       "      <td>https://www.facebook.com/bbcnews</td>\n",
       "      <td>Does it matter if we know where our food comes...</td>\n",
       "      <td>Increasingly sophisticated tech tells us more ...</td>\n",
       "      <td>https://www.bbc.co.uk/news/business-60617094</td>\n",
       "      <td>https://ichef.bbci.co.uk/news/1024/branded_new...</td>\n",
       "      <td>2022-04-04T23:05:05Z</td>\n",
       "      <td>By Elna SchutzBusiness reporter, South Africa\\...</td>\n",
       "    </tr>\n",
       "    <tr>\n",
       "      <th>1</th>\n",
       "      <td>{'id': 'bbc-news', 'name': 'BBC News'}</td>\n",
       "      <td>https://www.facebook.com/bbcnews</td>\n",
       "      <td>Cryptocurrency: UK Treasury to regulate some s...</td>\n",
       "      <td>Treasury Minister John Glen says \"stablecoins\"...</td>\n",
       "      <td>https://www.bbc.co.uk/news/business-60983561</td>\n",
       "      <td>https://ichef.bbci.co.uk/news/1024/branded_new...</td>\n",
       "      <td>2022-04-04T14:38:51Z</td>\n",
       "      <td>By Michael RaceBusiness reporter, BBC News\\r\\n...</td>\n",
       "    </tr>\n",
       "  </tbody>\n",
       "</table>\n",
       "</div>"
      ],
      "text/plain": [
       "                                   source                            author  \\\n",
       "0  {'id': 'bbc-news', 'name': 'BBC News'}  https://www.facebook.com/bbcnews   \n",
       "1  {'id': 'bbc-news', 'name': 'BBC News'}  https://www.facebook.com/bbcnews   \n",
       "\n",
       "                                               title  \\\n",
       "0  Does it matter if we know where our food comes...   \n",
       "1  Cryptocurrency: UK Treasury to regulate some s...   \n",
       "\n",
       "                                         description  \\\n",
       "0  Increasingly sophisticated tech tells us more ...   \n",
       "1  Treasury Minister John Glen says \"stablecoins\"...   \n",
       "\n",
       "                                            url  \\\n",
       "0  https://www.bbc.co.uk/news/business-60617094   \n",
       "1  https://www.bbc.co.uk/news/business-60983561   \n",
       "\n",
       "                                          urlToImage           publishedAt  \\\n",
       "0  https://ichef.bbci.co.uk/news/1024/branded_new...  2022-04-04T23:05:05Z   \n",
       "1  https://ichef.bbci.co.uk/news/1024/branded_new...  2022-04-04T14:38:51Z   \n",
       "\n",
       "                                             content  \n",
       "0  By Elna SchutzBusiness reporter, South Africa\\...  \n",
       "1  By Michael RaceBusiness reporter, BBC News\\r\\n...  "
      ]
     },
     "execution_count": 8,
     "metadata": {},
     "output_type": "execute_result"
    }
   ],
   "source": [
    "#convert to dataframe first\n",
    "df =  pd.DataFrame(blockchainheadline)\n",
    "df"
   ]
  },
  {
   "cell_type": "code",
   "execution_count": 10,
   "id": "d3c682ae",
   "metadata": {},
   "outputs": [],
   "source": [
    "df.to_csv('G22News.csv')"
   ]
  },
  {
   "cell_type": "markdown",
   "id": "6c2a884a",
   "metadata": {},
   "source": [
    " Before we could begin working on this project, it was essential that we got our hands on an API key. Importing the requests was necessary in order to run the next cell. Where I created a URL for blockchain for the date of April 8th 2022. Then, we had to test the connection by calling for the variable I created to get news articles from newsapi's to make sure my next cells would run. After which we formatted results using JSON. With sorted we were able to sort results according to articles, status and total results respectively. More specifically, isolating for articles with the blockchain keyword. A dataframe called df was then created in order to convert results into a dataframe. Lastly, we converted this dataframe to a csv. "
   ]
  }
 ],
 "metadata": {
  "kernelspec": {
   "display_name": "Python 3",
   "language": "python",
   "name": "python3"
  },
  "language_info": {
   "codemirror_mode": {
    "name": "ipython",
    "version": 3
   },
   "file_extension": ".py",
   "mimetype": "text/x-python",
   "name": "python",
   "nbconvert_exporter": "python",
   "pygments_lexer": "ipython3",
   "version": "3.8.8"
  }
 },
 "nbformat": 4,
 "nbformat_minor": 5
}
