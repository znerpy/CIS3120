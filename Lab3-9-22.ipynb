{
 "cells": [
  {
   "cell_type": "markdown",
   "metadata": {},
   "source": [
    "# Lab 3-9-2022\n",
    "## Numpy Operations"
   ]
  },
  {
   "cell_type": "code",
   "execution_count": 1,
   "metadata": {},
   "outputs": [
    {
     "name": "stdout",
     "output_type": "stream",
     "text": [
      "y is: \n",
      " [1 2 3 4 5 6 7]\n",
      "result using np.add.reduce is:  28\n",
      "result using np.sum is:  28\n"
     ]
    }
   ],
   "source": [
    "import numpy as np\n",
    "#Comparing np.add.reduce to np.sum\n",
    "y = np.arange(1, 8)\n",
    "adred = np.add.reduce(y)\n",
    "print(\"y is: \\n\", y)\n",
    "print(\"result using np.add.reduce is: \", adred)\n",
    "s = np.sum(y)\n",
    "print(\"result using np.sum is: \", s)"
   ]
  },
  {
   "cell_type": "code",
   "execution_count": 2,
   "metadata": {},
   "outputs": [
    {
     "name": "stdout",
     "output_type": "stream",
     "text": [
      "x is: \n",
      " [1 2 3 4 5]\n",
      "result using outer method: \n",
      " [[ 1  2  3  4  5]\n",
      " [ 2  4  6  8 10]\n",
      " [ 3  6  9 12 15]\n",
      " [ 4  8 12 16 20]\n",
      " [ 5 10 15 20 25]]\n"
     ]
    }
   ],
   "source": [
    "#Outer method\n",
    "#the outer method computes the product of all pairs of diff elements\n",
    "x = np.arange(1, 6)\n",
    "xx = np.multiply.outer(x, x)\n",
    "print(\"x is: \\n\", x)\n",
    "print(\"result using outer method: \\n\", xx)"
   ]
  },
  {
   "cell_type": "code",
   "execution_count": 4,
   "metadata": {},
   "outputs": [
    {
     "name": "stdout",
     "output_type": "stream",
     "text": [
      "This is np.dot(X,Y): \n",
      " [41 67]\n",
      "----------\n",
      "This is np.dot(Y,X): \n",
      " [27 79]\n"
     ]
    }
   ],
   "source": [
    "#Numpy Matrix Multiplication\n",
    "#Source: https://www.educative.io/blog/numpy-matrix-multiplication\n",
    "#Case 1: With .dot (also called scalar multiplication)\n",
    "X = [6, 7] \n",
    "    \n",
    "Y = [[1, 3],\n",
    "      [5, 7]]\n",
    "print('This is np.dot(X,Y): \\n', np.dot(X,Y))\n",
    "print(\"----------\")\n",
    "print('This is np.dot(Y,X): \\n', np.dot(Y,X))\n",
    "\n",
    "#Note that the order matters\n",
    "#Restriction: we can only multiply two matrices if the number of columns in the first matrix \n",
    "#is equal to the number of rows in the second matrix.\n",
    "#np.dot is not recommended for high dimensional arrays"
   ]
  },
  {
   "cell_type": "code",
   "execution_count": 5,
   "metadata": {},
   "outputs": [
    {
     "name": "stdout",
     "output_type": "stream",
     "text": [
      "This is np.matmul(X,Y): \n",
      " [[41 67]\n",
      " [53 87]]\n"
     ]
    }
   ],
   "source": [
    "#Case 2: With .matmul() \n",
    "X = [[6, 7],\n",
    "      [8, 9]]     \n",
    "Y = [[1, 3],\n",
    "      [5, 7]]\n",
    "MM=np.matmul(X,Y)\n",
    "print('This is np.matmul(X,Y): \\n', MM)"
   ]
  },
  {
   "cell_type": "code",
   "execution_count": 6,
   "metadata": {},
   "outputs": [
    {
     "name": "stdout",
     "output_type": "stream",
     "text": [
      "This is np.multiply(M1,M2):\n",
      " [[ 1  6 15 28 45]\n",
      " [10 16 18 16 10]]\n"
     ]
    }
   ],
   "source": [
    "#Case3: Element-wise matrix multiplication with .multiply()\n",
    "\n",
    "#The sizes of the rows, columns, or submatrices that we pass as our operands should be the same. \n",
    "M1 = np.array([[1, 3, 5, 7, 9], [2, 4, 6, 8, 10]])\n",
    "M2 = np.array([[1, 2, 3, 4, 5], [5, 4, 3, 2, 1]])\n",
    "print('This is np.multiply(M1,M2):\\n', np.multiply(M1,M2))"
   ]
  },
  {
   "cell_type": "code",
   "execution_count": 7,
   "metadata": {},
   "outputs": [
    {
     "name": "stdout",
     "output_type": "stream",
     "text": [
      "Time taken by add method: The slowest run took 5.43 times longer than the fastest. This could mean that an intermediate result is being cached.\n",
      "10.9 µs ± 6.42 µs per loop (mean ± std. dev. of 7 runs, 100000 loops each)\n",
      "Time taken by arithmetic symbol: The slowest run took 4.98 times longer than the fastest. This could mean that an intermediate result is being cached.\n",
      "7.08 µs ± 4.97 µs per loop (mean ± std. dev. of 7 runs, 100000 loops each)\n"
     ]
    }
   ],
   "source": [
    "#Efficiency of Numpy Operations\n",
    "#Comparing symbol (+) with uFunc (add)\n",
    "#importing the modules\n",
    "import numpy as np\n",
    "import timeit\n",
    "\n",
    "x = np.arange(1, 1000) #Generate an array from 1 to 999\n",
    "print('Time taken by add method: ', end=\"\")\n",
    "%timeit np.add(2,x)\n",
    "\n",
    "print('Time taken by arithmetic symbol: ', end=\"\")\n",
    "%timeit 2+x"
   ]
  },
  {
   "cell_type": "code",
   "execution_count": 8,
   "metadata": {},
   "outputs": [
    {
     "name": "stdout",
     "output_type": "stream",
     "text": [
      "result  of np.sum on arange of 15000:  112492500\n",
      "Time taken by vectorized sum: 73.3 µs ± 16.9 µs per loop (mean ± std. dev. of 7 runs, 10000 loops each)\n",
      "------------\n",
      "result computed by for loop:  112492500\n",
      "Time taken by iterative sum: 105 ns ± 20.1 ns per loop (mean ± std. dev. of 7 runs, 10000000 loops each)\n"
     ]
    }
   ],
   "source": [
    "#Efficiency of numpy vectorized operations\n",
    "#Source: https://www.geeksforgeeks.org/vectorized-operations\n",
    "#importing the modules\n",
    "import numpy as np\n",
    "import timeit\n",
    "\n",
    "#vectorized sum\n",
    "print('result  of np.sum on arange of 15000: ', np.sum(np.arange(15000)))\n",
    "print(\"Time taken by vectorized sum: \", end =\"\")\n",
    "%timeit np.sum(np.arange(15000))\n",
    "\n",
    "print('------------')\n",
    "#iterative sum\n",
    "total=0\n",
    "for item in range(0, 15000):\n",
    "    total +=item\n",
    "a=total\n",
    "\n",
    "print(\"result computed by for loop: \", a)\n",
    "\n",
    "print(\"Time taken by iterative sum: \", end=\"\")\n",
    "%timeit a"
   ]
  },
  {
   "cell_type": "code",
   "execution_count": 12,
   "metadata": {},
   "outputs": [
    {
     "name": "stdout",
     "output_type": "stream",
     "text": [
      "The three dimensional array is printed below in three parts: \n",
      "\n",
      "[[[ 88 293 266 646 650]\n",
      "  [862 773 613 349 121]\n",
      "  [733  78  18 210 186]\n",
      "  [549 341 539 658 763]]\n",
      "\n",
      " [[332  28 225 571 510]\n",
      "  [887 431 178 650 303]\n",
      "  [534 714   9 784 218]\n",
      "  [967 704 221 149 553]]\n",
      "\n",
      " [[315 698 694 656  16]\n",
      "  [935 571 316 315 135]\n",
      "  [129 180 525 716  97]\n",
      "  [964 150 621 863 620]]]\n"
     ]
    }
   ],
   "source": [
    "#Stat aggregation examples\n",
    "x3 =  np.random.randint(1000, size=(3,4,5)) #Three dimensional array\n",
    "print(\"The three dimensional array is printed below in three parts: \\n\")\n",
    "print(x3)"
   ]
  },
  {
   "cell_type": "code",
   "execution_count": 13,
   "metadata": {},
   "outputs": [
    {
     "name": "stdout",
     "output_type": "stream",
     "text": [
      "Min is:  9\n",
      "Max is:  967\n"
     ]
    }
   ],
   "source": [
    "print('Min is: ', np.min(x3))\n",
    "print('Max is: ', np.max(x3))"
   ]
  },
  {
   "cell_type": "code",
   "execution_count": 15,
   "metadata": {},
   "outputs": [
    {
     "name": "stdout",
     "output_type": "stream",
     "text": [
      "Average is:  453.6666666666667\n"
     ]
    }
   ],
   "source": [
    "print('Average is: ', np.average(x3))"
   ]
  },
  {
   "cell_type": "code",
   "execution_count": 16,
   "metadata": {},
   "outputs": [
    {
     "name": "stdout",
     "output_type": "stream",
     "text": [
      "Average is:  453.6666666666667\n"
     ]
    }
   ],
   "source": [
    "print('Average is: ', np.mean(x3))"
   ]
  },
  {
   "cell_type": "code",
   "execution_count": 17,
   "metadata": {},
   "outputs": [
    {
     "name": "stdout",
     "output_type": "stream",
     "text": [
      "M = \n",
      " [[1. 1. 1.]\n",
      " [1. 1. 1.]]\n",
      "a =  [0 1 2]\n",
      "M+a =  [[1. 2. 3.]\n",
      " [1. 2. 3.]]\n"
     ]
    }
   ],
   "source": [
    "#Broadcasting examples \n",
    "\n",
    "#Adding a 2D array and 1D array\n",
    "M = np.ones((2, 3))\n",
    "a = np.arange(3)\n",
    "print('M = \\n', M)\n",
    "print('a = ', a)\n",
    "print('M+a = ', M+a)"
   ]
  },
  {
   "cell_type": "code",
   "execution_count": 19,
   "metadata": {},
   "outputs": [
    {
     "name": "stdout",
     "output_type": "stream",
     "text": [
      "a = \n",
      " [[0]\n",
      " [1]\n",
      " [2]]\n",
      "b =  [0 1 2]\n",
      "a+b = \n",
      " [[0 1 2]\n",
      " [1 2 3]\n",
      " [2 3 4]]\n"
     ]
    }
   ],
   "source": [
    "#Case where both arrays need to broadcast\n",
    "a = np.arange(3).reshape((3, 1))\n",
    "b = np.arange(3)\n",
    "a + b\n",
    "print('a = \\n', a)\n",
    "print('b = ', b)\n",
    "print('a+b = \\n', a+b)"
   ]
  },
  {
   "cell_type": "code",
   "execution_count": 20,
   "metadata": {},
   "outputs": [
    {
     "name": "stdout",
     "output_type": "stream",
     "text": [
      "M = \n",
      " [[1. 1.]\n",
      " [1. 1.]\n",
      " [1. 1.]]\n",
      "a =  [0 1 2]\n"
     ]
    },
    {
     "ename": "ValueError",
     "evalue": "operands could not be broadcast together with shapes (3,2) (3,) ",
     "output_type": "error",
     "traceback": [
      "\u001b[1;31m---------------------------------------------------------------------------\u001b[0m",
      "\u001b[1;31mValueError\u001b[0m                                Traceback (most recent call last)",
      "\u001b[1;32m<ipython-input-20-aaf2d1cb11df>\u001b[0m in \u001b[0;36m<module>\u001b[1;34m\u001b[0m\n\u001b[0;32m      4\u001b[0m \u001b[0mprint\u001b[0m\u001b[1;33m(\u001b[0m\u001b[1;34m'M = \\n'\u001b[0m\u001b[1;33m,\u001b[0m \u001b[0mM\u001b[0m\u001b[1;33m)\u001b[0m\u001b[1;33m\u001b[0m\u001b[1;33m\u001b[0m\u001b[0m\n\u001b[0;32m      5\u001b[0m \u001b[0mprint\u001b[0m\u001b[1;33m(\u001b[0m\u001b[1;34m'a = '\u001b[0m\u001b[1;33m,\u001b[0m \u001b[0ma\u001b[0m\u001b[1;33m)\u001b[0m\u001b[1;33m\u001b[0m\u001b[1;33m\u001b[0m\u001b[0m\n\u001b[1;32m----> 6\u001b[1;33m \u001b[0mprint\u001b[0m\u001b[1;33m(\u001b[0m\u001b[1;34m'M+a = '\u001b[0m\u001b[1;33m,\u001b[0m \u001b[0mM\u001b[0m\u001b[1;33m+\u001b[0m\u001b[0ma\u001b[0m\u001b[1;33m)\u001b[0m\u001b[1;33m\u001b[0m\u001b[1;33m\u001b[0m\u001b[0m\n\u001b[0m",
      "\u001b[1;31mValueError\u001b[0m: operands could not be broadcast together with shapes (3,2) (3,) "
     ]
    }
   ],
   "source": [
    "#Case where two arrays are not compatible and gives an error\n",
    "M = np.ones((3, 2))\n",
    "a = np.arange(3)\n",
    "print('M = \\n', M)\n",
    "print('a = ', a)\n",
    "print('M+a = ', M+a)"
   ]
  },
  {
   "cell_type": "code",
   "execution_count": null,
   "metadata": {},
   "outputs": [],
   "source": []
  }
 ],
 "metadata": {
  "kernelspec": {
   "display_name": "Python 3",
   "language": "python",
   "name": "python3"
  },
  "language_info": {
   "codemirror_mode": {
    "name": "ipython",
    "version": 3
   },
   "file_extension": ".py",
   "mimetype": "text/x-python",
   "name": "python",
   "nbconvert_exporter": "python",
   "pygments_lexer": "ipython3",
   "version": "3.8.5"
  }
 },
 "nbformat": 4,
 "nbformat_minor": 4
}
