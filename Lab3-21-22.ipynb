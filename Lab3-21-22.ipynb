{
 "cells": [
  {
   "cell_type": "markdown",
   "metadata": {},
   "source": [
    "# Lab 3-21-22_Start"
   ]
  },
  {
   "cell_type": "code",
   "execution_count": 3,
   "metadata": {},
   "outputs": [
    {
     "name": "stdout",
     "output_type": "stream",
     "text": [
      "This is shares:\n",
      "0    10.7\n",
      "1    10.8\n",
      "2    10.5\n",
      "3    10.9\n",
      "dtype: float64\n",
      "This is shares:\n",
      "Mon    10.7\n",
      "Tue    10.8\n",
      "Wed    10.5\n",
      "Thu    10.9\n",
      "dtype: float64\n",
      "This is shares.index:\n",
      "Index(['Mon', 'Tue', 'Wed', 'Thu'], dtype='object')\n"
     ]
    }
   ],
   "source": [
    "#Ex.1: Pandas Series Application and Indexing\n",
    "#Source: https://medium.com/analytics-vidhya/pandas-tutorials-advanced-indexing-b35909b26bcd\n",
    "\n",
    "import numpy as np\n",
    "import pandas as pd\n",
    "\n",
    "prices = [10.70, 10.80, 10.50, 10.90]\n",
    "shares = pd.Series(prices)\n",
    "print('This is shares:')\n",
    "print(shares)\n",
    "\n",
    "days = ['Mon','Tue','Wed','Thu']\n",
    "shares = pd.Series(prices, index=days)\n",
    "print('This is shares:')\n",
    "print(shares)\n",
    "print('This is shares.index:')\n",
    "print(shares.index)"
   ]
  },
  {
   "cell_type": "code",
   "execution_count": 9,
   "metadata": {},
   "outputs": [
    {
     "name": "stdout",
     "output_type": "stream",
     "text": [
      "This is shares.index[1]:  Tue\n",
      "This is shares[1]:  10.8\n",
      "This is shares[Tue]:  10.8\n",
      "This is shares.index[ :2]:  Index(['Mon', 'Tue'], dtype='object')\n",
      "This is shares.index[-2:]:  Index(['Wed', 'Thu'], dtype='object')\n"
     ]
    }
   ],
   "source": [
    "#accessing the index object - do not confuse this with accessing the data in the series\n",
    "print('This is shares.index[1]: ', shares.index[1])\n",
    "#This is different from\n",
    "print('This is shares[1]: ', shares[1])\n",
    "print('This is shares[Tue]: ', shares['Tue'])\n",
    "print('This is shares.index[ :2]: ', shares.index[ :2])\n",
    "print('This is shares.index[-2:]: ', shares.index[ -2:])"
   ]
  },
  {
   "cell_type": "code",
   "execution_count": 10,
   "metadata": {},
   "outputs": [
    {
     "name": "stdout",
     "output_type": "stream",
     "text": [
      "This is shares[1]:  10.8\n",
      "This is shares[Tue] 10.8\n"
     ]
    }
   ],
   "source": [
    "#accessing data with implicit and explicit index\n",
    "print('This is shares[1]: ',shares[1])\n",
    "print('This is shares[Tue]', shares['Tue'])"
   ]
  },
  {
   "cell_type": "code",
   "execution_count": 11,
   "metadata": {},
   "outputs": [
    {
     "name": "stdout",
     "output_type": "stream",
     "text": [
      "This is shares[1:3] \n",
      " Tue    10.8\n",
      "Wed    10.5\n",
      "dtype: float64\n",
      "This is shares[Tue:Thu]\n",
      " Tue    10.8\n",
      "Wed    10.5\n",
      "Thu    10.9\n",
      "dtype: float64\n"
     ]
    }
   ],
   "source": [
    "#slicing data with implicit and explicit index\n",
    "print('This is shares[1:3] \\n', shares[1:3])\n",
    "print('This is shares[Tue:Thu]\\n', shares['Tue':'Thu'])"
   ]
  },
  {
   "cell_type": "code",
   "execution_count": 12,
   "metadata": {},
   "outputs": [
    {
     "name": "stdout",
     "output_type": "stream",
     "text": [
      "This is shares.iloc[0]:  10.7\n",
      "This is shares.loc[Mon] 10.7\n"
     ]
    }
   ],
   "source": [
    "#accessing data with loc and iloc methods\n",
    "print('This is shares.iloc[0]: ',shares.iloc[0])\n",
    "print('This is shares.loc[Mon]', shares.loc['Mon'])"
   ]
  },
  {
   "cell_type": "code",
   "execution_count": 13,
   "metadata": {},
   "outputs": [
    {
     "name": "stdout",
     "output_type": "stream",
     "text": [
      "This is shares.iloc[1:3] \n",
      "  Tue    10.8\n",
      "Wed    10.5\n",
      "dtype: float64\n",
      "This is shares.iloc[Tue:Thu] \n",
      "   Tue    10.8\n",
      "Wed    10.5\n",
      "Thu    10.9\n",
      "dtype: float64\n"
     ]
    }
   ],
   "source": [
    "#slicing date with loc and iloc methods\n",
    "print('This is shares.iloc[1:3] \\n ',shares.iloc[1:3])\n",
    "print('This is shares.iloc[Tue:Thu] \\n  ',shares.loc['Tue':'Thu'])"
   ]
  },
  {
   "cell_type": "markdown",
   "metadata": {},
   "source": [
    "## Pandas DataFrame "
   ]
  },
  {
   "cell_type": "code",
   "execution_count": 15,
   "metadata": {},
   "outputs": [
    {
     "name": "stdout",
     "output_type": "stream",
     "text": [
      "This is area :\n",
      "\n",
      "California    423967\n",
      "Texas         695662\n",
      "New York      141297\n",
      "Florida       170312\n",
      "Illinois      149995\n",
      "dtype: int64\n",
      "This is the type:  <class 'pandas.core.series.Series'>\n"
     ]
    }
   ],
   "source": [
    "#Ex2-1. Creating a Pandas DataFrame from a dictionary\n",
    "area_dict = {'California': 423967, 'Texas': 695662, 'New York': 141297,\n",
    "             'Florida': 170312, 'Illinois': 149995}\n",
    "area = pd.Series(area_dict)\n",
    "print('This is area :\\n')\n",
    "print(area)\n",
    "print('This is the type: ', type(area))"
   ]
  },
  {
   "cell_type": "code",
   "execution_count": 16,
   "metadata": {},
   "outputs": [
    {
     "name": "stdout",
     "output_type": "stream",
     "text": [
      "This is population :\n",
      "\n",
      "California    123\n",
      "Texas         456\n",
      "New York      321\n",
      "Florida       654\n",
      "Illinois      199\n",
      "dtype: int64\n"
     ]
    }
   ],
   "source": [
    "pop_dict = {'California': 123, 'Texas': 456, 'New York': 321,\n",
    "             'Florida': 654, 'Illinois': 199}\n",
    "population = pd.Series(pop_dict)\n",
    "print('This is population :\\n')\n",
    "print(population)\n"
   ]
  },
  {
   "cell_type": "code",
   "execution_count": 17,
   "metadata": {},
   "outputs": [
    {
     "name": "stdout",
     "output_type": "stream",
     "text": [
      "This is states: \n",
      "             population    area\n",
      "California         123  423967\n",
      "Texas              456  695662\n",
      "New York           321  141297\n",
      "Florida            654  170312\n",
      "Illinois           199  149995\n",
      "This is the index of states: Index(['California', 'Texas', 'New York', 'Florida', 'Illinois'], dtype='object')\n",
      "This is the column of states: \n",
      "  Index(['population', 'area'], dtype='object')\n"
     ]
    }
   ],
   "source": [
    "states = pd.DataFrame({'population': population,\n",
    "                       'area': area})\n",
    "print('This is states: \\n', states)\n",
    "print('This is the index of states:', states.index)\n",
    "print('This is the column of states: \\n ', states.columns)\n"
   ]
  },
  {
   "cell_type": "code",
   "execution_count": 18,
   "metadata": {},
   "outputs": [
    {
     "data": {
      "text/html": [
       "<div>\n",
       "<style scoped>\n",
       "    .dataframe tbody tr th:only-of-type {\n",
       "        vertical-align: middle;\n",
       "    }\n",
       "\n",
       "    .dataframe tbody tr th {\n",
       "        vertical-align: top;\n",
       "    }\n",
       "\n",
       "    .dataframe thead th {\n",
       "        text-align: right;\n",
       "    }\n",
       "</style>\n",
       "<table border=\"1\" class=\"dataframe\">\n",
       "  <thead>\n",
       "    <tr style=\"text-align: right;\">\n",
       "      <th></th>\n",
       "      <th>population</th>\n",
       "      <th>area</th>\n",
       "    </tr>\n",
       "  </thead>\n",
       "  <tbody>\n",
       "    <tr>\n",
       "      <th>California</th>\n",
       "      <td>123</td>\n",
       "      <td>423967</td>\n",
       "    </tr>\n",
       "    <tr>\n",
       "      <th>Texas</th>\n",
       "      <td>456</td>\n",
       "      <td>695662</td>\n",
       "    </tr>\n",
       "    <tr>\n",
       "      <th>New York</th>\n",
       "      <td>321</td>\n",
       "      <td>141297</td>\n",
       "    </tr>\n",
       "    <tr>\n",
       "      <th>Florida</th>\n",
       "      <td>654</td>\n",
       "      <td>170312</td>\n",
       "    </tr>\n",
       "    <tr>\n",
       "      <th>Illinois</th>\n",
       "      <td>199</td>\n",
       "      <td>149995</td>\n",
       "    </tr>\n",
       "  </tbody>\n",
       "</table>\n",
       "</div>"
      ],
      "text/plain": [
       "            population    area\n",
       "California         123  423967\n",
       "Texas              456  695662\n",
       "New York           321  141297\n",
       "Florida            654  170312\n",
       "Illinois           199  149995"
      ]
     },
     "execution_count": 18,
     "metadata": {},
     "output_type": "execute_result"
    }
   ],
   "source": [
    "states"
   ]
  },
  {
   "cell_type": "code",
   "execution_count": 25,
   "metadata": {},
   "outputs": [
    {
     "name": "stdout",
     "output_type": "stream",
     "text": [
      "This is the content of the area series in states: \n",
      "California    423967\n",
      "Texas         695662\n",
      "New York      141297\n",
      "Florida       170312\n",
      "Illinois      149995\n",
      "Name: area, dtype: int64\n",
      "One specific state (NY) is:  141297\n"
     ]
    }
   ],
   "source": [
    "#states_in_area = states['area']\n",
    "states_in_area = states.area\n",
    "print('This is the content of the area series in states: ')\n",
    "print(states_in_area)\n",
    "print('One specific state (NY) is: ', states['area']['New York'])"
   ]
  },
  {
   "cell_type": "code",
   "execution_count": 27,
   "metadata": {},
   "outputs": [
    {
     "name": "stdout",
     "output_type": "stream",
     "text": [
      "This is dataf2: \n",
      "             population\n",
      "California         123\n",
      "Texas              456\n",
      "New York           321\n",
      "Florida            654\n",
      "Illinois           199\n",
      "This is the type:  <class 'pandas.core.frame.DataFrame'>\n"
     ]
    }
   ],
   "source": [
    "#Ex2-2. Creating a DataFrame from a single series object\n",
    "dataf2 = pd.DataFrame(population, columns=['population'])\n",
    "print('This is dataf2: \\n', dataf2)\n",
    "print('This is the type: ', type(dataf2))"
   ]
  },
  {
   "cell_type": "code",
   "execution_count": 33,
   "metadata": {},
   "outputs": [
    {
     "name": "stdout",
     "output_type": "stream",
     "text": [
      "List of dict\n",
      "[{'a': 0, 'b': 0}, {'a': 1, 'b': 2}, {'a': 2, 'b': 4}]\n",
      "This is dataf3: \n",
      "\n",
      "   a  b\n",
      "0  0  0\n",
      "1  1  2\n",
      "2  2  4\n"
     ]
    },
    {
     "data": {
      "text/html": [
       "<div>\n",
       "<style scoped>\n",
       "    .dataframe tbody tr th:only-of-type {\n",
       "        vertical-align: middle;\n",
       "    }\n",
       "\n",
       "    .dataframe tbody tr th {\n",
       "        vertical-align: top;\n",
       "    }\n",
       "\n",
       "    .dataframe thead th {\n",
       "        text-align: right;\n",
       "    }\n",
       "</style>\n",
       "<table border=\"1\" class=\"dataframe\">\n",
       "  <thead>\n",
       "    <tr style=\"text-align: right;\">\n",
       "      <th></th>\n",
       "      <th>a</th>\n",
       "      <th>b</th>\n",
       "    </tr>\n",
       "  </thead>\n",
       "  <tbody>\n",
       "    <tr>\n",
       "      <th>0</th>\n",
       "      <td>0</td>\n",
       "      <td>0</td>\n",
       "    </tr>\n",
       "    <tr>\n",
       "      <th>1</th>\n",
       "      <td>1</td>\n",
       "      <td>2</td>\n",
       "    </tr>\n",
       "    <tr>\n",
       "      <th>2</th>\n",
       "      <td>2</td>\n",
       "      <td>4</td>\n",
       "    </tr>\n",
       "  </tbody>\n",
       "</table>\n",
       "</div>"
      ],
      "text/plain": [
       "   a  b\n",
       "0  0  0\n",
       "1  1  2\n",
       "2  2  4"
      ]
     },
     "execution_count": 33,
     "metadata": {},
     "output_type": "execute_result"
    }
   ],
   "source": [
    "#Ex2-3. From a list of dicts\n",
    "data_list_of_dict = [{'a': i, 'b': 2 * i}\n",
    "          for i in range(3)]\n",
    "print('List of dict')\n",
    "print(data_list_of_dict)\n",
    "dataf3= pd.DataFrame(data_list_of_dict)\n",
    "print('This is dataf3: \\n')\n",
    "print(dataf3)\n",
    "dataf3"
   ]
  },
  {
   "cell_type": "code",
   "execution_count": 34,
   "metadata": {},
   "outputs": [
    {
     "name": "stdout",
     "output_type": "stream",
     "text": [
      "This is dataf4: \n",
      "\n",
      "     a  b    c\n",
      "0  1.0  2  NaN\n",
      "1  NaN  3  4.0\n"
     ]
    }
   ],
   "source": [
    "#Ex2-4. if keys are missing they will be filled out with NaN\n",
    "dataf4 = pd.DataFrame([{'a': 1, 'b': 2}, {'b': 3, 'c': 4}])\n",
    "print('This is dataf4: \\n')\n",
    "print(dataf4)\n"
   ]
  },
  {
   "cell_type": "code",
   "execution_count": 35,
   "metadata": {},
   "outputs": [
    {
     "name": "stdout",
     "output_type": "stream",
     "text": [
      "This is dataf5: \n",
      "\n"
     ]
    },
    {
     "data": {
      "text/html": [
       "<div>\n",
       "<style scoped>\n",
       "    .dataframe tbody tr th:only-of-type {\n",
       "        vertical-align: middle;\n",
       "    }\n",
       "\n",
       "    .dataframe tbody tr th {\n",
       "        vertical-align: top;\n",
       "    }\n",
       "\n",
       "    .dataframe thead th {\n",
       "        text-align: right;\n",
       "    }\n",
       "</style>\n",
       "<table border=\"1\" class=\"dataframe\">\n",
       "  <thead>\n",
       "    <tr style=\"text-align: right;\">\n",
       "      <th></th>\n",
       "      <th>population</th>\n",
       "      <th>area</th>\n",
       "    </tr>\n",
       "  </thead>\n",
       "  <tbody>\n",
       "    <tr>\n",
       "      <th>California</th>\n",
       "      <td>123</td>\n",
       "      <td>423967</td>\n",
       "    </tr>\n",
       "    <tr>\n",
       "      <th>Texas</th>\n",
       "      <td>456</td>\n",
       "      <td>695662</td>\n",
       "    </tr>\n",
       "    <tr>\n",
       "      <th>New York</th>\n",
       "      <td>321</td>\n",
       "      <td>141297</td>\n",
       "    </tr>\n",
       "    <tr>\n",
       "      <th>Florida</th>\n",
       "      <td>654</td>\n",
       "      <td>170312</td>\n",
       "    </tr>\n",
       "    <tr>\n",
       "      <th>Illinois</th>\n",
       "      <td>199</td>\n",
       "      <td>149995</td>\n",
       "    </tr>\n",
       "  </tbody>\n",
       "</table>\n",
       "</div>"
      ],
      "text/plain": [
       "            population    area\n",
       "California         123  423967\n",
       "Texas              456  695662\n",
       "New York           321  141297\n",
       "Florida            654  170312\n",
       "Illinois           199  149995"
      ]
     },
     "execution_count": 35,
     "metadata": {},
     "output_type": "execute_result"
    }
   ],
   "source": [
    "#Ex2-5. from a dictionary of series objects\n",
    "dataf5 = pd.DataFrame({'population': population,\n",
    "                       'area': area})\n",
    "print('This is dataf5: \\n')\n",
    "dataf5\n"
   ]
  },
  {
   "cell_type": "code",
   "execution_count": 36,
   "metadata": {},
   "outputs": [
    {
     "name": "stdout",
     "output_type": "stream",
     "text": [
      "This is dataf6: \n",
      "\n"
     ]
    },
    {
     "data": {
      "text/html": [
       "<div>\n",
       "<style scoped>\n",
       "    .dataframe tbody tr th:only-of-type {\n",
       "        vertical-align: middle;\n",
       "    }\n",
       "\n",
       "    .dataframe tbody tr th {\n",
       "        vertical-align: top;\n",
       "    }\n",
       "\n",
       "    .dataframe thead th {\n",
       "        text-align: right;\n",
       "    }\n",
       "</style>\n",
       "<table border=\"1\" class=\"dataframe\">\n",
       "  <thead>\n",
       "    <tr style=\"text-align: right;\">\n",
       "      <th></th>\n",
       "      <th>foo</th>\n",
       "      <th>bar</th>\n",
       "    </tr>\n",
       "  </thead>\n",
       "  <tbody>\n",
       "    <tr>\n",
       "      <th>a</th>\n",
       "      <td>0.757721</td>\n",
       "      <td>0.144700</td>\n",
       "    </tr>\n",
       "    <tr>\n",
       "      <th>b</th>\n",
       "      <td>0.518241</td>\n",
       "      <td>0.913421</td>\n",
       "    </tr>\n",
       "    <tr>\n",
       "      <th>c</th>\n",
       "      <td>0.144069</td>\n",
       "      <td>0.558802</td>\n",
       "    </tr>\n",
       "  </tbody>\n",
       "</table>\n",
       "</div>"
      ],
      "text/plain": [
       "        foo       bar\n",
       "a  0.757721  0.144700\n",
       "b  0.518241  0.913421\n",
       "c  0.144069  0.558802"
      ]
     },
     "execution_count": 36,
     "metadata": {},
     "output_type": "execute_result"
    }
   ],
   "source": [
    "#Ex2-6. From a two-dimensional NumPy array\n",
    "dataf6 = pd.DataFrame(np.random.rand(3, 2),\n",
    "             columns=['foo', 'bar'],\n",
    "             index=['a', 'b', 'c'])\n",
    "print('This is dataf6: \\n')\n",
    "dataf6"
   ]
  },
  {
   "cell_type": "code",
   "execution_count": 37,
   "metadata": {},
   "outputs": [
    {
     "name": "stdout",
     "output_type": "stream",
     "text": [
      "[[0.15510244 0.36517349]\n",
      " [0.01691886 0.18031027]\n",
      " [0.99970066 0.62340716]]\n"
     ]
    }
   ],
   "source": [
    "A=np.random.rand(3, 2)\n",
    "print(A)"
   ]
  },
  {
   "cell_type": "code",
   "execution_count": 38,
   "metadata": {},
   "outputs": [
    {
     "name": "stdout",
     "output_type": "stream",
     "text": [
      "This is A:  [(0, 0.) (0, 0.) (0, 0.)]\n"
     ]
    }
   ],
   "source": [
    "#Ex2-7. From a Numpy structured array\n",
    "A = np.zeros(3, dtype=[('A', 'i8'), ('B', 'f8')])\n",
    "print('This is A: ', A)"
   ]
  },
  {
   "cell_type": "code",
   "execution_count": 39,
   "metadata": {},
   "outputs": [
    {
     "name": "stdout",
     "output_type": "stream",
     "text": [
      "This is dataf7: \n",
      "\n"
     ]
    },
    {
     "data": {
      "text/html": [
       "<div>\n",
       "<style scoped>\n",
       "    .dataframe tbody tr th:only-of-type {\n",
       "        vertical-align: middle;\n",
       "    }\n",
       "\n",
       "    .dataframe tbody tr th {\n",
       "        vertical-align: top;\n",
       "    }\n",
       "\n",
       "    .dataframe thead th {\n",
       "        text-align: right;\n",
       "    }\n",
       "</style>\n",
       "<table border=\"1\" class=\"dataframe\">\n",
       "  <thead>\n",
       "    <tr style=\"text-align: right;\">\n",
       "      <th></th>\n",
       "      <th>A</th>\n",
       "      <th>B</th>\n",
       "    </tr>\n",
       "  </thead>\n",
       "  <tbody>\n",
       "    <tr>\n",
       "      <th>0</th>\n",
       "      <td>0</td>\n",
       "      <td>0.0</td>\n",
       "    </tr>\n",
       "    <tr>\n",
       "      <th>1</th>\n",
       "      <td>0</td>\n",
       "      <td>0.0</td>\n",
       "    </tr>\n",
       "    <tr>\n",
       "      <th>2</th>\n",
       "      <td>0</td>\n",
       "      <td>0.0</td>\n",
       "    </tr>\n",
       "  </tbody>\n",
       "</table>\n",
       "</div>"
      ],
      "text/plain": [
       "   A    B\n",
       "0  0  0.0\n",
       "1  0  0.0\n",
       "2  0  0.0"
      ]
     },
     "execution_count": 39,
     "metadata": {},
     "output_type": "execute_result"
    }
   ],
   "source": [
    "dataf7 = pd.DataFrame(A)\n",
    "print('This is dataf7: \\n')\n",
    "dataf7"
   ]
  },
  {
   "cell_type": "code",
   "execution_count": null,
   "metadata": {},
   "outputs": [],
   "source": []
  }
 ],
 "metadata": {
  "kernelspec": {
   "display_name": "Python 3",
   "language": "python",
   "name": "python3"
  },
  "language_info": {
   "codemirror_mode": {
    "name": "ipython",
    "version": 3
   },
   "file_extension": ".py",
   "mimetype": "text/x-python",
   "name": "python",
   "nbconvert_exporter": "python",
   "pygments_lexer": "ipython3",
   "version": "3.7.3"
  }
 },
 "nbformat": 4,
 "nbformat_minor": 5
}
