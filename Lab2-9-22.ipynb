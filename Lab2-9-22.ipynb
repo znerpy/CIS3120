{
 "cells": [
  {
   "cell_type": "markdown",
   "metadata": {},
   "source": [
    "# Lab 2-9-22"
   ]
  },
  {
   "cell_type": "code",
   "execution_count": 21,
   "metadata": {},
   "outputs": [],
   "source": [
    "#Ex. 1: Age Calculations (Step 1)\n",
    "#This program calculates a person's age given his/her date of birth\n",
    "\n",
    "import datetime\n",
    "#dobirth_str = input(\"Enter your date of birth in this format mm/dd/yyyy: \")\n",
    "#To avoid asking for the same input many times, we will just assign the dobirth to the variable\n",
    "dobirth_str = '02/14/2001'"
   ]
  },
  {
   "cell_type": "code",
   "execution_count": 22,
   "metadata": {},
   "outputs": [
    {
     "name": "stdout",
     "output_type": "stream",
     "text": [
      "02/14/2001\n"
     ]
    }
   ],
   "source": [
    "print(dobirth_str)"
   ]
  },
  {
   "cell_type": "code",
   "execution_count": 24,
   "metadata": {},
   "outputs": [],
   "source": [
    "#We will use the datetime module to parse the string and extract the year\n",
    "#Note that datetime is twice because the first instance is for the module, and the second instance is for the class\n",
    "dobirth = datetime.datetime.strptime(dobirth_str, '%m/%d/%Y')\n",
    "#dobirth"
   ]
  },
  {
   "cell_type": "code",
   "execution_count": 25,
   "metadata": {},
   "outputs": [],
   "source": [
    "#Today's date is obtained from the datetime module, date class, today method\n",
    "today = datetime.date.today()"
   ]
  },
  {
   "cell_type": "code",
   "execution_count": 26,
   "metadata": {},
   "outputs": [],
   "source": [
    "#today"
   ]
  },
  {
   "cell_type": "code",
   "execution_count": 27,
   "metadata": {},
   "outputs": [
    {
     "name": "stdout",
     "output_type": "stream",
     "text": [
      "Your age is:  21\n"
     ]
    }
   ],
   "source": [
    "#Simple age calculation subtracting years\n",
    "age = today.year - dobirth.year\n",
    "#Printing the result\n",
    "print(\"Your age is: \", age)"
   ]
  },
  {
   "cell_type": "code",
   "execution_count": 28,
   "metadata": {},
   "outputs": [
    {
     "name": "stdout",
     "output_type": "stream",
     "text": [
      "Your age is:  21\n"
     ]
    }
   ],
   "source": [
    "#Ex. 2: Age Calculations (Step 2)\n",
    "#continuation from code above\n",
    "if today.month < dobirth.month:\n",
    "    age -= 1\n",
    "print(\"Your age is: \",age)"
   ]
  },
  {
   "cell_type": "code",
   "execution_count": 29,
   "metadata": {},
   "outputs": [
    {
     "name": "stdout",
     "output_type": "stream",
     "text": [
      "Your age is:  20\n"
     ]
    }
   ],
   "source": [
    "#continuation from code above\n",
    "if today.month < dobirth.month:\n",
    "    age -= 1\n",
    "elif today.month == dobirth.month:\n",
    "    if today.day < dobirth.day:\n",
    "        age -= 1\n",
    "    elif today.day == dobirth.day:\n",
    "        print (\"Happy Birthday\")\n",
    "print(\"Your age is: \",age)"
   ]
  },
  {
   "cell_type": "code",
   "execution_count": 30,
   "metadata": {},
   "outputs": [],
   "source": [
    "#Age Calculations with Function (Step 3)\n",
    "import datetime\n",
    "\n",
    "def CalculateAge(dobirth):\n",
    "    dobirth = datetime.datetime.strptime(dobirth_str, '%m/%d/%Y')\n",
    "    today = datetime.date.today()\n",
    "\n",
    "    age = today.year - dobirth.year\n",
    "    if today.month < dobirth.month:\n",
    "        age -= 1\n",
    "    elif today.month == dobirth.month:\n",
    "        if today.day < dobirth.day:\n",
    "            age -= 1\n",
    "        elif today.day == dobirth.day:\n",
    "            print (\"Happy Birthday\")\n",
    "    return(age)\n"
   ]
  },
  {
   "cell_type": "code",
   "execution_count": 32,
   "metadata": {},
   "outputs": [
    {
     "name": "stdout",
     "output_type": "stream",
     "text": [
      "Happy Birthday\n",
      "Your age is:  21\n"
     ]
    }
   ],
   "source": [
    "#This is the program\n",
    "#dobirth_str = str(input(\"Enter your date of birth in this format mm/dd/yyyy: \"))\n",
    "dobirth_str = '2/9/2001'\n",
    "a = CalculateAge(dobirth_str)\n",
    "print(\"Your age is: \",a)"
   ]
  },
  {
   "cell_type": "markdown",
   "metadata": {},
   "source": [
    "# Web Scraping"
   ]
  },
  {
   "cell_type": "code",
   "execution_count": 33,
   "metadata": {},
   "outputs": [
    {
     "name": "stdout",
     "output_type": "stream",
     "text": [
      "Hello from the web!\r\n",
      "\n"
     ]
    }
   ],
   "source": [
    "import requests\n",
    "url = 'http://www.webscrapingfordatascience.com/basichttp/'\n",
    "r= requests.get(url)\n",
    "print(r.text)"
   ]
  },
  {
   "cell_type": "code",
   "execution_count": 36,
   "metadata": {},
   "outputs": [
    {
     "name": "stdout",
     "output_type": "stream",
     "text": [
      "b'Hello from the web!\\r\\n'\n"
     ]
    }
   ],
   "source": [
    "print(r.content)"
   ]
  },
  {
   "cell_type": "code",
   "execution_count": null,
   "metadata": {},
   "outputs": [],
   "source": []
  }
 ],
 "metadata": {
  "kernelspec": {
   "display_name": "Python 3",
   "language": "python",
   "name": "python3"
  },
  "language_info": {
   "codemirror_mode": {
    "name": "ipython",
    "version": 3
   },
   "file_extension": ".py",
   "mimetype": "text/x-python",
   "name": "python",
   "nbconvert_exporter": "python",
   "pygments_lexer": "ipython3",
   "version": "3.8.5"
  }
 },
 "nbformat": 4,
 "nbformat_minor": 4
}
