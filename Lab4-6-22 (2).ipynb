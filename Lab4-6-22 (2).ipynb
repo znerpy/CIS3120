{
 "cells": [
  {
   "cell_type": "markdown",
   "metadata": {},
   "source": [
    "# Lab 4-6-22"
   ]
  },
  {
   "cell_type": "code",
   "execution_count": 2,
   "metadata": {},
   "outputs": [
    {
     "name": "stdout",
     "output_type": "stream",
     "text": [
      "1 Ukraine war latest: Flee now or risk death, Ukraine tells people in east\n",
      "2 Who are Putin's daughters? What we know about his family\n",
      "3 Putin's ultranationalist ally and clown Zhirinovsky dies at 75\n",
      "4 Ed Sheeran hits out at culture of 'baseless' copyright claims after court victory\n",
      "5 Peter Kassig: US hostage 'knew his time had come' before IS execution\n",
      "6 Future pop megastar found on archive TV reel\n",
      "7 British embassy guard charged with spying for Russia\n",
      "8 Oil bosses vow to boost output and deny profiteering\n",
      "9 Oklahoma lawmakers pass near-total ban on abortion\n",
      "10 Thomas Sankara murder: Ex-Burkina Faso President Blaise Compaoré found guilty\n"
     ]
    }
   ],
   "source": [
    "# Source: https://www.geeksforgeeks.org/fetching-top-news-using-news-api/\n",
    "# BBC news api with authorization header and parameters\n",
    "\n",
    "import requests \n",
    "headers = {'Authorization': '***********'}\n",
    "query_params = {\n",
    "      \"source\": \"bbc-news\",\n",
    "      \"sortBy\": \"top\"\n",
    "}\n",
    "main_url = \" https://newsapi.org/v1/articles\"\n",
    " \n",
    "# fetching data in json format\n",
    "res = requests.get(main_url, headers=headers, params=query_params)\n",
    "bbc_res = res.json()\n",
    " \n",
    "# getting all articles in a string article\n",
    "article = bbc_res[\"articles\"]\n",
    " \n",
    "# empty list to hold all trending news\n",
    "results = []\n",
    "     \n",
    "for ar in article:\n",
    "    results.append(ar[\"title\"])\n",
    "\n",
    "# printing all trending news       \n",
    "for i in range(len(results)):            \n",
    "    print(i + 1, results[i])"
   ]
  },
  {
   "cell_type": "code",
   "execution_count": 4,
   "metadata": {},
   "outputs": [
    {
     "name": "stdout",
     "output_type": "stream",
     "text": [
      "          A         B         C         D\n",
      "0  0.706801  0.184470  0.230169  0.194437\n",
      "1  0.004659  0.524851  0.247930  0.442037\n",
      "2  0.453656  0.496082  0.294891  0.807396\n",
      "3  0.232726  0.148879  0.100661  0.438266\n",
      "4  0.646990  0.591890  0.597129  0.923895\n",
      "5  0.166579  0.650289  0.100622  0.945672\n",
      "6  0.561936  0.798703  0.870025  0.313548\n",
      "7  0.310525  0.837748  0.617784  0.316766\n",
      "8  0.920114  0.800027  0.536337  0.637796\n",
      "9  0.289683  0.519506  0.068978  0.668017\n"
     ]
    }
   ],
   "source": [
    "import pandas as pd\n",
    "import numpy as np\n",
    "\n",
    "df = pd.DataFrame(np.random.rand(10,4),columns=list('ABCD'))\n",
    "print(df)"
   ]
  },
  {
   "cell_type": "code",
   "execution_count": 5,
   "metadata": {},
   "outputs": [],
   "source": [
    "df.to_csv('DemoCSV4-6.csv')"
   ]
  },
  {
   "cell_type": "markdown",
   "metadata": {},
   "source": [
    "# OMDBAPI Example"
   ]
  },
  {
   "cell_type": "code",
   "execution_count": 7,
   "metadata": {},
   "outputs": [
    {
     "name": "stdout",
     "output_type": "stream",
     "text": [
      "{'Response': 'True',\n",
      " 'Search': [{'Poster': 'https://m.media-amazon.com/images/M/MV5BMTM3NTg2NDQzOF5BMl5BanBnXkFtZTcwNjc2NzQzOQ@@._V1_SX300.jpg',\n",
      "             'Title': 'Fast & Furious 6',\n",
      "             'Type': 'movie',\n",
      "             'Year': '2013',\n",
      "             'imdbID': 'tt1905041'},\n",
      "            {'Poster': 'https://m.media-amazon.com/images/M/MV5BNzlkNzVjMDMtOTdhZC00MGE1LTkxODctMzFmMjkwZmMxZjFhXkEyXkFqcGdeQXVyNjU0OTQ0OTY@._V1_SX300.jpg',\n",
      "             'Title': 'The Fast and the Furious',\n",
      "             'Type': 'movie',\n",
      "             'Year': '2001',\n",
      "             'imdbID': 'tt0232500'},\n",
      "            {'Poster': 'https://m.media-amazon.com/images/M/MV5BYjQ1ZTMxNzgtZDcxOC00NWY5LTk3ZjAtYzRhMDhlNDZlOWEzXkEyXkFqcGdeQXVyNzkwMjQ5NzM@._V1_SX300.jpg',\n",
      "             'Title': 'Fast & Furious',\n",
      "             'Type': 'movie',\n",
      "             'Year': '2009',\n",
      "             'imdbID': 'tt1013752'},\n",
      "            {'Poster': 'https://m.media-amazon.com/images/M/MV5BMzExYjcyYWMtY2JkOC00NDUwLTg2OTgtMDI3MGY2OWQzMDE2XkEyXkFqcGdeQXVyMTQxNzMzNDI@._V1_SX300.jpg',\n",
      "             'Title': '2 Fast 2 Furious',\n",
      "             'Type': 'movie',\n",
      "             'Year': '2003',\n",
      "             'imdbID': 'tt0322259'},\n",
      "            {'Poster': 'https://m.media-amazon.com/images/M/MV5BMTQ2NTMxODEyNV5BMl5BanBnXkFtZTcwMDgxMjA0MQ@@._V1_SX300.jpg',\n",
      "             'Title': 'The Fast and the Furious: Tokyo Drift',\n",
      "             'Type': 'movie',\n",
      "             'Year': '2006',\n",
      "             'imdbID': 'tt0463985'},\n",
      "            {'Poster': 'https://m.media-amazon.com/images/M/MV5BOTIzYmUyMmEtMWQzNC00YzExLTk3MzYtZTUzYjMyMmRiYzIwXkEyXkFqcGdeQXVyMDM2NDM2MQ@@._V1_SX300.jpg',\n",
      "             'Title': 'Fast & Furious Presents: Hobbs & Shaw',\n",
      "             'Type': 'movie',\n",
      "             'Year': '2019',\n",
      "             'imdbID': 'tt6806448'},\n",
      "            {'Poster': 'https://m.media-amazon.com/images/M/MV5BY2Y2ODBjN2QtZTE3OS00NDliLWIwZjktMmY5MmQyZDMzNWMyXkEyXkFqcGdeQXVyNjUyODQ4NzE@._V1_SX300.jpg',\n",
      "             'Title': 'Turbo Charged Prelude to 2 Fast 2 Furious',\n",
      "             'Type': 'movie',\n",
      "             'Year': '2003',\n",
      "             'imdbID': 'tt2055789'},\n",
      "            {'Poster': 'https://m.media-amazon.com/images/M/MV5BN2M2NzhkMWUtZGJkOS00NjZiLThkOGItMWMwOGQxNjFkMDJhXkEyXkFqcGdeQXVyNDQ2MTMzODA@._V1_SX300.jpg',\n",
      "             'Title': 'Fast & Furious: Supercharged',\n",
      "             'Type': 'movie',\n",
      "             'Year': '2015',\n",
      "             'imdbID': 'tt3757982'},\n",
      "            {'Poster': 'https://m.media-amazon.com/images/M/MV5BZmI3YmNhNzktOTMzNC00ODg4LTk3YmQtMGI2ZGQzNzcwZmRkXkEyXkFqcGdeQXVyMTQ2MjQyNDc@._V1_SX300.jpg',\n",
      "             'Title': 'The Fast and the Furious',\n",
      "             'Type': 'movie',\n",
      "             'Year': '1954',\n",
      "             'imdbID': 'tt0046969'},\n",
      "            {'Poster': 'https://m.media-amazon.com/images/M/MV5BMjAyNTQ1NjA3Ml5BMl5BanBnXkFtZTgwOTIyNjIxMzE@._V1_SX300.jpg',\n",
      "             'Title': 'Fast and Furious',\n",
      "             'Type': 'movie',\n",
      "             'Year': '1939',\n",
      "             'imdbID': 'tt0031298'}],\n",
      " 'totalResults': '71'}\n"
     ]
    }
   ],
   "source": [
    "import requests\n",
    "from pprint import PrettyPrinter\n",
    "pp = PrettyPrinter()\n",
    "\n",
    "apiKey = '******'\n",
    "data_url = 'http://www.omdbapi.com/?apikey='+apiKey\n",
    "\n",
    "movieTitle = 'Fast & Furious'\n",
    "year = ''\n",
    "\n",
    "params = {\n",
    "    's':movieTitle,\n",
    "    'type':'movie',\n",
    "    'y':year    \n",
    "}\n",
    "\n",
    "response = requests.get(data_url,params=params).json()\n",
    "pp.pprint(response)"
   ]
  },
  {
   "cell_type": "code",
   "execution_count": 8,
   "metadata": {},
   "outputs": [
    {
     "name": "stdout",
     "output_type": "stream",
     "text": [
      "Fast & Furious 6 2013\n",
      "The Fast and the Furious 2001\n",
      "Fast & Furious 2009\n",
      "2 Fast 2 Furious 2003\n",
      "The Fast and the Furious: Tokyo Drift 2006\n",
      "Fast & Furious Presents: Hobbs & Shaw 2019\n",
      "Turbo Charged Prelude to 2 Fast 2 Furious 2003\n",
      "Fast & Furious: Supercharged 2015\n",
      "The Fast and the Furious 1954\n",
      "Fast and Furious 1939\n"
     ]
    }
   ],
   "source": [
    "results = []\n",
    "for movie in response['Search']:\n",
    "    print(movie['Title'], movie['Year'])\n",
    "    results.append(movie['Title'])\n"
   ]
  },
  {
   "cell_type": "code",
   "execution_count": 9,
   "metadata": {},
   "outputs": [
    {
     "name": "stdout",
     "output_type": "stream",
     "text": [
      "The search found:  10\n"
     ]
    }
   ],
   "source": [
    "print('The search found: ', len(results))"
   ]
  },
  {
   "cell_type": "code",
   "execution_count": 10,
   "metadata": {},
   "outputs": [
    {
     "name": "stdout",
     "output_type": "stream",
     "text": [
      "1. Fast & Furious 6, 2013\n",
      "2. The Fast and the Furious, 2001\n",
      "3. Fast & Furious, 2009\n",
      "4. 2 Fast 2 Furious, 2003\n",
      "5. The Fast and the Furious: Tokyo Drift, 2006\n",
      "6. Fast & Furious Presents: Hobbs & Shaw, 2019\n",
      "7. Turbo Charged Prelude to 2 Fast 2 Furious, 2003\n",
      "8. Fast & Furious: Supercharged, 2015\n",
      "9. The Fast and the Furious, 1954\n",
      "10. Fast and Furious, 1939\n"
     ]
    }
   ],
   "source": [
    "for i,movie in enumerate(response['Search']):\n",
    "    print(f\"{i+1}. {movie['Title']}, {movie['Year']}\")"
   ]
  },
  {
   "cell_type": "code",
   "execution_count": null,
   "metadata": {},
   "outputs": [],
   "source": []
  }
 ],
 "metadata": {
  "kernelspec": {
   "display_name": "Python 3",
   "language": "python",
   "name": "python3"
  },
  "language_info": {
   "codemirror_mode": {
    "name": "ipython",
    "version": 3
   },
   "file_extension": ".py",
   "mimetype": "text/x-python",
   "name": "python",
   "nbconvert_exporter": "python",
   "pygments_lexer": "ipython3",
   "version": "3.8.5"
  }
 },
 "nbformat": 4,
 "nbformat_minor": 4
}
