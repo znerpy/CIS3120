{
 "cells": [
  {
   "cell_type": "markdown",
   "metadata": {},
   "source": [
    "# Lab 3-2-22\n",
    "## Introduction to NUMPY"
   ]
  },
  {
   "cell_type": "code",
   "execution_count": 7,
   "metadata": {},
   "outputs": [
    {
     "name": "stdout",
     "output_type": "stream",
     "text": [
      "Type of a:  <class 'numpy.ndarray'>\n",
      "The shape of a is: (4,)\n",
      "The elements are:  7 2 9 10\n",
      "All elements are:  [ 7  2  9 10]\n"
     ]
    }
   ],
   "source": [
    "#Ex. 1\n",
    "import numpy as np\n",
    "\n",
    "# 1. Create a rank 1 array a by seeding values\n",
    "a = np.array([7, 2, 9, 10])\n",
    "\n",
    "# Print the type of a \n",
    "print('Type of a: ', type(a))\n",
    "\n",
    "# Print the shape \n",
    "print('The shape of a is:', a.shape)\n",
    "\n",
    "# Print each element\n",
    "print('The elements are: ', a[0], a[1], a[2], a[3])\n",
    "print('All elements are: ', a)\n"
   ]
  },
  {
   "cell_type": "code",
   "execution_count": 5,
   "metadata": {},
   "outputs": [
    {
     "name": "stdout",
     "output_type": "stream",
     "text": [
      "[ 7  8  9 10]\n",
      "type of data inside the array is:  int32\n",
      "<class 'numpy.int32'>\n"
     ]
    }
   ],
   "source": [
    "# Change the 2 to an 8 in the array\n",
    "a[1]=8\n",
    "\n",
    "# Print the entire array\n",
    "print(a)\n",
    "\n",
    "#print the type of data in the a array\n",
    "print('type of data inside the array is: ', a.dtype)\n",
    "print(type(a[0]))"
   ]
  },
  {
   "cell_type": "code",
   "execution_count": 8,
   "metadata": {},
   "outputs": [
    {
     "name": "stdout",
     "output_type": "stream",
     "text": [
      "shape:  (2, 3)\n",
      "dtype:  float64\n",
      "all elements: \n",
      " [[5.2 3.  4.5]\n",
      " [9.1 0.1 0.3]]\n"
     ]
    }
   ],
   "source": [
    "# 2. Create a rank 2 array b by seeding values\n",
    "b = np.array([[5.2,3.0,4.5],[9.1,0.1,0.3]])\n",
    "\n",
    "print('shape: ', b.shape)\n",
    "print('dtype: ', b.dtype)\n",
    "print('all elements: \\n', b)"
   ]
  },
  {
   "cell_type": "code",
   "execution_count": 9,
   "metadata": {},
   "outputs": [
    {
     "name": "stdout",
     "output_type": "stream",
     "text": [
      "Element in first corner:  5.2\n"
     ]
    }
   ],
   "source": [
    "print('Element in first corner: ', b[0,0])"
   ]
  },
  {
   "cell_type": "code",
   "execution_count": 10,
   "metadata": {},
   "outputs": [
    {
     "name": "stdout",
     "output_type": "stream",
     "text": [
      "Element in first corner:  5.2\n"
     ]
    }
   ],
   "source": [
    "print('Element in first corner: ', b[0][0])"
   ]
  },
  {
   "cell_type": "code",
   "execution_count": 13,
   "metadata": {},
   "outputs": [
    {
     "name": "stdout",
     "output_type": "stream",
     "text": [
      "Array of zeros is:  [0. 0. 0. 0. 0. 0. 0. 0. 0. 0.]\n"
     ]
    }
   ],
   "source": [
    "#Ex. 2: Array creation\n",
    "\n",
    "# 2.1. Create a length-10 integer array a filled with zeros and print it\n",
    "#a=np.zeros(10, dtype=int)\n",
    "a=np.zeros(10, dtype=float)\n",
    "print('Array of zeros is: ', a)"
   ]
  },
  {
   "cell_type": "code",
   "execution_count": 15,
   "metadata": {},
   "outputs": [
    {
     "name": "stdout",
     "output_type": "stream",
     "text": [
      "2D Array of zeros is: \n",
      " [[0. 0.]\n",
      " [0. 0.]]\n"
     ]
    }
   ],
   "source": [
    "a=np.zeros((2,2), dtype=float)\n",
    "print('2D Array of zeros is: \\n', a)"
   ]
  },
  {
   "cell_type": "code",
   "execution_count": 17,
   "metadata": {},
   "outputs": [
    {
     "name": "stdout",
     "output_type": "stream",
     "text": [
      "2D Array of ones is: \n",
      " [[1. 1. 1. 1. 1.]\n",
      " [1. 1. 1. 1. 1.]\n",
      " [1. 1. 1. 1. 1.]]\n"
     ]
    }
   ],
   "source": [
    "# 2.2. Create a 3x5 floating-point array b filled with 1s and print it\n",
    "b=np.ones((3,5), dtype=float)\n",
    "print('2D Array of ones is: \\n', b)"
   ]
  },
  {
   "cell_type": "code",
   "execution_count": 18,
   "metadata": {},
   "outputs": [
    {
     "name": "stdout",
     "output_type": "stream",
     "text": [
      "2D array of same number 3.14 is: \n",
      " [[3.14 3.14 3.14 3.14 3.14]\n",
      " [3.14 3.14 3.14 3.14 3.14]\n",
      " [3.14 3.14 3.14 3.14 3.14]]\n"
     ]
    }
   ],
   "source": [
    "# 2.3. Create a 3x5 array c filled with 3.14 and print it\n",
    "c=np.full((3,5), 3.14)\n",
    "print('2D array of same number 3.14 is: \\n', c)\n"
   ]
  },
  {
   "cell_type": "code",
   "execution_count": 19,
   "metadata": {},
   "outputs": [
    {
     "name": "stdout",
     "output_type": "stream",
     "text": [
      "list of consecutive numbers:  [1 2 3 4 5 6 7 8]\n"
     ]
    }
   ],
   "source": [
    "# 2.4. Generate an array from a list of 8 consecutive numbers\n",
    "d=np.arange(1,9)\n",
    "print('list of consecutive numbers: ', d)"
   ]
  },
  {
   "cell_type": "code",
   "execution_count": 21,
   "metadata": {},
   "outputs": [
    {
     "name": "stdout",
     "output_type": "stream",
     "text": [
      "list of consecutive numbers using arange(9):  [0 1 2 3 4 5 6 7 8]\n"
     ]
    }
   ],
   "source": [
    "d1=np.arange(9)\n",
    "print('list of consecutive numbers using arange(9): ', d1)"
   ]
  },
  {
   "cell_type": "code",
   "execution_count": 22,
   "metadata": {},
   "outputs": [
    {
     "name": "stdout",
     "output_type": "stream",
     "text": [
      "x1 is:  [5 0 3 3 7 9]\n",
      "x2 is: \n",
      " [[3 5 2 4]\n",
      " [7 6 8 8]\n",
      " [1 6 7 7]]\n",
      "x3 is: \n",
      " [[[8 1 5 9 8]\n",
      "  [9 4 3 0 3]\n",
      "  [5 0 2 3 8]\n",
      "  [1 3 3 3 7]]\n",
      "\n",
      " [[0 1 9 9 0]\n",
      "  [4 7 3 2 7]\n",
      "  [2 0 0 4 5]\n",
      "  [5 6 8 4 1]]\n",
      "\n",
      " [[4 9 8 1 1]\n",
      "  [7 9 9 3 6]\n",
      "  [7 2 0 3 5]\n",
      "  [9 4 4 6 4]]]\n"
     ]
    }
   ],
   "source": [
    "#Ex.3: Array attributes\n",
    "#Check more info about the seed at https://www.w3schools.com/python/ref_random_seed.asp\n",
    "np.random.seed(0) # seed for reproducibility\n",
    "x1 = np.random.randint(10, size=6) # One-dimensional array\n",
    "x2 = np.random.randint(10, size=(3, 4)) # Two-dimensional array\n",
    "x3 = np.random.randint(10, size=(3, 4, 5)) # Three-dimensional array\n",
    " \n",
    "print('x1 is: ', x1)\n",
    "print('x2 is: \\n', x2)\n",
    "print('x3 is: \\n', x3)"
   ]
  },
  {
   "cell_type": "code",
   "execution_count": 23,
   "metadata": {},
   "outputs": [
    {
     "name": "stdout",
     "output_type": "stream",
     "text": [
      "x3 ndim:  3\n",
      "x3 shape:  (3, 4, 5)\n",
      "x3 size:  60\n",
      "dtype:  int32\n",
      "itemsize:  4\n",
      "nbytes: 240\n"
     ]
    }
   ],
   "source": [
    "# print the dimension of array x3\n",
    "print('x3 ndim: ', x3.ndim)\n",
    "\n",
    "# print the shape of array x3\n",
    "print('x3 shape: ', x3.shape)\n",
    "\n",
    "# print the size of array x3 \n",
    "print('x3 size: ', x3.size) \n",
    "\n",
    "# print the datatype of array x3\n",
    "print('dtype: ', x3.dtype)\n",
    "\n",
    "# print the itemsize of array x3\n",
    "print('itemsize: ', x3.itemsize)\n",
    "\n",
    "# print the number of bytes of array x3\n",
    "print('nbytes:', x3.nbytes)"
   ]
  },
  {
   "cell_type": "code",
   "execution_count": 24,
   "metadata": {},
   "outputs": [
    {
     "name": "stdout",
     "output_type": "stream",
     "text": [
      "True\n"
     ]
    }
   ],
   "source": [
    "#Add code to check if it is true that nbytes is equal to itemsize times size and print true or false depending on the result\n",
    "if x3.nbytes == x3.itemsize*x3.size:\n",
    "    print('True')\n",
    "else:\n",
    "    print('False')"
   ]
  },
  {
   "cell_type": "code",
   "execution_count": 25,
   "metadata": {},
   "outputs": [
    {
     "name": "stdout",
     "output_type": "stream",
     "text": [
      "True\n"
     ]
    }
   ],
   "source": [
    "#More compact way\n",
    "print(x3.nbytes == x3.itemsize*x3.size)"
   ]
  },
  {
   "cell_type": "code",
   "execution_count": 26,
   "metadata": {},
   "outputs": [
    {
     "name": "stdout",
     "output_type": "stream",
     "text": [
      "x1 is:  [5 0 3 3 7 9]\n",
      "first element of x1 is:  5\n",
      "last element of x1 is:  9\n",
      "x1 is now:  [5 8 3 3 7 9]\n"
     ]
    }
   ],
   "source": [
    "#Write code to print the 1st element of x1, the last element of x1, and to change the second element to 8\n",
    "print('x1 is: ', x1)\n",
    "print('first element of x1 is: ', x1[0])\n",
    "print('last element of x1 is: ', x1[-1])\n",
    "x1[1] = 8\n",
    "\n",
    "print('x1 is now: ', x1)"
   ]
  },
  {
   "cell_type": "code",
   "execution_count": null,
   "metadata": {},
   "outputs": [],
   "source": []
  }
 ],
 "metadata": {
  "kernelspec": {
   "display_name": "Python 3",
   "language": "python",
   "name": "python3"
  },
  "language_info": {
   "codemirror_mode": {
    "name": "ipython",
    "version": 3
   },
   "file_extension": ".py",
   "mimetype": "text/x-python",
   "name": "python",
   "nbconvert_exporter": "python",
   "pygments_lexer": "ipython3",
   "version": "3.8.5"
  }
 },
 "nbformat": 4,
 "nbformat_minor": 4
}
