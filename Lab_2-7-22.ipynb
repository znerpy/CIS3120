{
 "cells": [
  {
   "cell_type": "markdown",
   "metadata": {},
   "source": [
    "# Lab 2-7-22"
   ]
  },
  {
   "cell_type": "code",
   "execution_count": 1,
   "metadata": {},
   "outputs": [
    {
     "name": "stdout",
     "output_type": "stream",
     "text": [
      "Your name?: Raquel\n"
     ]
    }
   ],
   "source": [
    "#Ex. 1: Handling Strings\n",
    "UserName = input(\"Your name?: \")"
   ]
  },
  {
   "cell_type": "code",
   "execution_count": 2,
   "metadata": {},
   "outputs": [
    {
     "name": "stdout",
     "output_type": "stream",
     "text": [
      "Hello Raquel\n"
     ]
    }
   ],
   "source": [
    "print(\"Hello \" + UserName )"
   ]
  },
  {
   "cell_type": "code",
   "execution_count": 4,
   "metadata": {},
   "outputs": [
    {
     "name": "stdout",
     "output_type": "stream",
     "text": [
      "the length of the string is:  44\n",
      "the character in index i is:  I\n"
     ]
    }
   ],
   "source": [
    "c = \"CIS3120: Programming for Analytics in Python\"\n",
    "print('the length of the string is: ', len(c))\n",
    "print('the character in index i is: ', c[1])"
   ]
  },
  {
   "cell_type": "code",
   "execution_count": 5,
   "metadata": {},
   "outputs": [
    {
     "name": "stdout",
     "output_type": "stream",
     "text": [
      "CIS3120\n"
     ]
    }
   ],
   "source": [
    "cname = c[:7]\n",
    "print(cname)"
   ]
  },
  {
   "cell_type": "code",
   "execution_count": 6,
   "metadata": {},
   "outputs": [
    {
     "name": "stdout",
     "output_type": "stream",
     "text": [
      "Programming for Analytics in Python\n"
     ]
    }
   ],
   "source": [
    "ctitle = c[9:]\n",
    "print(ctitle)"
   ]
  },
  {
   "cell_type": "code",
   "execution_count": 7,
   "metadata": {},
   "outputs": [
    {
     "name": "stdout",
     "output_type": "stream",
     "text": [
      "CIS3120: Programming for Analytics\n"
     ]
    }
   ],
   "source": [
    "lang = c[:-10]\n",
    "print(lang)"
   ]
  },
  {
   "cell_type": "code",
   "execution_count": 9,
   "metadata": {},
   "outputs": [
    {
     "name": "stdout",
     "output_type": "stream",
     "text": [
      "****CIS3120: Programming for Analytics in Python****\n",
      "44\n"
     ]
    }
   ],
   "source": [
    "#print(c.replace(\":\", \"-\"))\n",
    "\n",
    "print(c.center(52,\"*\"))\n",
    "print(len(c))\n"
   ]
  },
  {
   "cell_type": "code",
   "execution_count": 16,
   "metadata": {},
   "outputs": [
    {
     "name": "stdout",
     "output_type": "stream",
     "text": [
      "CIS3120: Programming for Analytics with Python\n",
      "CIS3120: Programming for Analytics with Python\n"
     ]
    }
   ],
   "source": [
    "print(c)\n",
    "c1= c.replace(\"in \",\"with \")\n",
    "print(c1)"
   ]
  },
  {
   "cell_type": "code",
   "execution_count": 18,
   "metadata": {},
   "outputs": [
    {
     "name": "stdout",
     "output_type": "stream",
     "text": [
      "['CIS3120:', 'Programming', 'for', 'Analytics', 'in', 'Python']\n"
     ]
    }
   ],
   "source": [
    "c= \"CIS3120: Programming for Analytics in Python\"\n",
    "print(c.split())"
   ]
  },
  {
   "cell_type": "code",
   "execution_count": null,
   "metadata": {},
   "outputs": [],
   "source": []
  }
 ],
 "metadata": {
  "kernelspec": {
   "display_name": "Python 3",
   "language": "python",
   "name": "python3"
  },
  "language_info": {
   "codemirror_mode": {
    "name": "ipython",
    "version": 3
   },
   "file_extension": ".py",
   "mimetype": "text/x-python",
   "name": "python",
   "nbconvert_exporter": "python",
   "pygments_lexer": "ipython3",
   "version": "3.7.3"
  }
 },
 "nbformat": 4,
 "nbformat_minor": 2
}
